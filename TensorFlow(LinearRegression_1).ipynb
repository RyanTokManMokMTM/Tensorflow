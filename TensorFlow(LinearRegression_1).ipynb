{
  "nbformat": 4,
  "nbformat_minor": 0,
  "metadata": {
    "colab": {
      "name": "TensorFlow(LinearRegression_1).ipynb",
      "provenance": [],
      "collapsed_sections": [],
      "authorship_tag": "ABX9TyNU5tLSIOUpon1zYlO42uT+",
      "include_colab_link": true
    },
    "kernelspec": {
      "name": "python3",
      "display_name": "Python 3"
    }
  },
  "cells": [
    {
      "cell_type": "markdown",
      "metadata": {
        "id": "view-in-github",
        "colab_type": "text"
      },
      "source": [
        "<a href=\"https://colab.research.google.com/github/RyanTokManMokMTM/Tensorflow/blob/master/TensorFlow(LinearRegression_1).ipynb\" target=\"_parent\"><img src=\"https://colab.research.google.com/assets/colab-badge.svg\" alt=\"Open In Colab\"/></a>"
      ]
    },
    {
      "cell_type": "code",
      "metadata": {
        "id": "PjmZzsG7uN22",
        "colab_type": "code",
        "colab": {}
      },
      "source": [
        "import pandas as pd\n",
        "import tensorflow as tf\n",
        "from matplotlib import pyplot as ptl\n",
        "from google.colab import files\n",
        "import io"
      ],
      "execution_count": 2,
      "outputs": []
    },
    {
      "cell_type": "code",
      "metadata": {
        "id": "xiZmOFsTukMg",
        "colab_type": "code",
        "colab": {
          "resources": {
            "http://localhost:8080/nbextensions/google.colab/files.js": {
              "data": "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",
              "ok": true,
              "headers": [
                [
                  "content-type",
                  "application/javascript"
                ]
              ],
              "status": 200,
              "status_text": ""
            }
          },
          "base_uri": "https://localhost:8080/",
          "height": 72
        },
        "outputId": "2dfc993d-1bd8-4808-bc4b-36322412c026"
      },
      "source": [
        "#upload local csv\n",
        "file = files.upload()\n",
        "data = pd.read_csv(io.BytesIO(file[\"Advertising.csv\"]))"
      ],
      "execution_count": 5,
      "outputs": [
        {
          "output_type": "display_data",
          "data": {
            "text/html": [
              "\n",
              "     <input type=\"file\" id=\"files-e1d86738-505b-4314-915b-8942afc08f76\" name=\"files[]\" multiple disabled\n",
              "        style=\"border:none\" />\n",
              "     <output id=\"result-e1d86738-505b-4314-915b-8942afc08f76\">\n",
              "      Upload widget is only available when the cell has been executed in the\n",
              "      current browser session. Please rerun this cell to enable.\n",
              "      </output>\n",
              "      <script src=\"/nbextensions/google.colab/files.js\"></script> "
            ],
            "text/plain": [
              "<IPython.core.display.HTML object>"
            ]
          },
          "metadata": {
            "tags": []
          }
        },
        {
          "output_type": "stream",
          "text": [
            "Saving Advertising.csv to Advertising.csv\n"
          ],
          "name": "stdout"
        }
      ]
    },
    {
      "cell_type": "code",
      "metadata": {
        "id": "976G5PqGvePo",
        "colab_type": "code",
        "colab": {
          "base_uri": "https://localhost:8080/",
          "height": 419
        },
        "outputId": "36cf0ce0-672f-4ad8-e30b-5424aa56a9bb"
      },
      "source": [
        "data"
      ],
      "execution_count": 6,
      "outputs": [
        {
          "output_type": "execute_result",
          "data": {
            "text/html": [
              "<div>\n",
              "<style scoped>\n",
              "    .dataframe tbody tr th:only-of-type {\n",
              "        vertical-align: middle;\n",
              "    }\n",
              "\n",
              "    .dataframe tbody tr th {\n",
              "        vertical-align: top;\n",
              "    }\n",
              "\n",
              "    .dataframe thead th {\n",
              "        text-align: right;\n",
              "    }\n",
              "</style>\n",
              "<table border=\"1\" class=\"dataframe\">\n",
              "  <thead>\n",
              "    <tr style=\"text-align: right;\">\n",
              "      <th></th>\n",
              "      <th>Unnamed: 0</th>\n",
              "      <th>TV</th>\n",
              "      <th>radio</th>\n",
              "      <th>newspaper</th>\n",
              "      <th>sales</th>\n",
              "    </tr>\n",
              "  </thead>\n",
              "  <tbody>\n",
              "    <tr>\n",
              "      <th>0</th>\n",
              "      <td>1</td>\n",
              "      <td>230.1</td>\n",
              "      <td>37.8</td>\n",
              "      <td>69.2</td>\n",
              "      <td>22.1</td>\n",
              "    </tr>\n",
              "    <tr>\n",
              "      <th>1</th>\n",
              "      <td>2</td>\n",
              "      <td>44.5</td>\n",
              "      <td>39.3</td>\n",
              "      <td>45.1</td>\n",
              "      <td>10.4</td>\n",
              "    </tr>\n",
              "    <tr>\n",
              "      <th>2</th>\n",
              "      <td>3</td>\n",
              "      <td>17.2</td>\n",
              "      <td>45.9</td>\n",
              "      <td>69.3</td>\n",
              "      <td>9.3</td>\n",
              "    </tr>\n",
              "    <tr>\n",
              "      <th>3</th>\n",
              "      <td>4</td>\n",
              "      <td>151.5</td>\n",
              "      <td>41.3</td>\n",
              "      <td>58.5</td>\n",
              "      <td>18.5</td>\n",
              "    </tr>\n",
              "    <tr>\n",
              "      <th>4</th>\n",
              "      <td>5</td>\n",
              "      <td>180.8</td>\n",
              "      <td>10.8</td>\n",
              "      <td>58.4</td>\n",
              "      <td>12.9</td>\n",
              "    </tr>\n",
              "    <tr>\n",
              "      <th>...</th>\n",
              "      <td>...</td>\n",
              "      <td>...</td>\n",
              "      <td>...</td>\n",
              "      <td>...</td>\n",
              "      <td>...</td>\n",
              "    </tr>\n",
              "    <tr>\n",
              "      <th>195</th>\n",
              "      <td>196</td>\n",
              "      <td>38.2</td>\n",
              "      <td>3.7</td>\n",
              "      <td>13.8</td>\n",
              "      <td>7.6</td>\n",
              "    </tr>\n",
              "    <tr>\n",
              "      <th>196</th>\n",
              "      <td>197</td>\n",
              "      <td>94.2</td>\n",
              "      <td>4.9</td>\n",
              "      <td>8.1</td>\n",
              "      <td>9.7</td>\n",
              "    </tr>\n",
              "    <tr>\n",
              "      <th>197</th>\n",
              "      <td>198</td>\n",
              "      <td>177.0</td>\n",
              "      <td>9.3</td>\n",
              "      <td>6.4</td>\n",
              "      <td>12.8</td>\n",
              "    </tr>\n",
              "    <tr>\n",
              "      <th>198</th>\n",
              "      <td>199</td>\n",
              "      <td>283.6</td>\n",
              "      <td>42.0</td>\n",
              "      <td>66.2</td>\n",
              "      <td>25.5</td>\n",
              "    </tr>\n",
              "    <tr>\n",
              "      <th>199</th>\n",
              "      <td>200</td>\n",
              "      <td>232.1</td>\n",
              "      <td>8.6</td>\n",
              "      <td>8.7</td>\n",
              "      <td>13.4</td>\n",
              "    </tr>\n",
              "  </tbody>\n",
              "</table>\n",
              "<p>200 rows × 5 columns</p>\n",
              "</div>"
            ],
            "text/plain": [
              "     Unnamed: 0     TV  radio  newspaper  sales\n",
              "0             1  230.1   37.8       69.2   22.1\n",
              "1             2   44.5   39.3       45.1   10.4\n",
              "2             3   17.2   45.9       69.3    9.3\n",
              "3             4  151.5   41.3       58.5   18.5\n",
              "4             5  180.8   10.8       58.4   12.9\n",
              "..          ...    ...    ...        ...    ...\n",
              "195         196   38.2    3.7       13.8    7.6\n",
              "196         197   94.2    4.9        8.1    9.7\n",
              "197         198  177.0    9.3        6.4   12.8\n",
              "198         199  283.6   42.0       66.2   25.5\n",
              "199         200  232.1    8.6        8.7   13.4\n",
              "\n",
              "[200 rows x 5 columns]"
            ]
          },
          "metadata": {
            "tags": []
          },
          "execution_count": 6
        }
      ]
    },
    {
      "cell_type": "code",
      "metadata": {
        "id": "nyR1rLh-04Sf",
        "colab_type": "code",
        "colab": {
          "base_uri": "https://localhost:8080/",
          "height": 282
        },
        "outputId": "a0576b07-e310-4556-ba8a-32fb6b32f928"
      },
      "source": [
        "ptl.scatter(data.TV,data.sales) # TV vs. sales  linear?"
      ],
      "execution_count": 29,
      "outputs": [
        {
          "output_type": "execute_result",
          "data": {
            "text/plain": [
              "<matplotlib.collections.PathCollection at 0x7f83dd4c0278>"
            ]
          },
          "metadata": {
            "tags": []
          },
          "execution_count": 29
        },
        {
          "output_type": "display_data",
          "data": {
            "image/png": "[encoded data removed]",
            "text/plain": [
              "<Figure size 432x288 with 1 Axes>"
            ]
          },
          "metadata": {
            "tags": [],
            "needs_background": "light"
          }
        }
      ]
    },
    {
      "cell_type": "code",
      "metadata": {
        "id": "ixVZ6Ssw1EHj",
        "colab_type": "code",
        "colab": {
          "base_uri": "https://localhost:8080/",
          "height": 282
        },
        "outputId": "88051cdf-d2ce-43f1-e207-dc2eb93f92a9"
      },
      "source": [
        "ptl.scatter(data.radio,data.sales) #radio vs sales linear?"
      ],
      "execution_count": 30,
      "outputs": [
        {
          "output_type": "execute_result",
          "data": {
            "text/plain": [
              "<matplotlib.collections.PathCollection at 0x7f83dd56acc0>"
            ]
          },
          "metadata": {
            "tags": []
          },
          "execution_count": 30
        },
        {
          "output_type": "display_data",
          "data": {
            "image/png": "[encoded data removed]",
            "text/plain": [
              "<Figure size 432x288 with 1 Axes>"
            ]
          },
          "metadata": {
            "tags": [],
            "needs_background": "light"
          }
        }
      ]
    },
    {
      "cell_type": "code",
      "metadata": {
        "id": "vF_DgbhC1Us8",
        "colab_type": "code",
        "colab": {
          "base_uri": "https://localhost:8080/",
          "height": 282
        },
        "outputId": "ce7e720b-388f-4aed-cc08-e4bb41e0bb7d"
      },
      "source": [
        "ptl.scatter(data.newspaper,data.sales) #newspaper vs. scales linear? may not~"
      ],
      "execution_count": 31,
      "outputs": [
        {
          "output_type": "execute_result",
          "data": {
            "text/plain": [
              "<matplotlib.collections.PathCollection at 0x7f83dd488160>"
            ]
          },
          "metadata": {
            "tags": []
          },
          "execution_count": 31
        },
        {
          "output_type": "display_data",
          "data": {
            "image/png": "[encoded data removed]",
            "text/plain": [
              "<Figure size 432x288 with 1 Axes>"
            ]
          },
          "metadata": {
            "tags": [],
            "needs_background": "light"
          }
        }
      ]
    },
    {
      "cell_type": "code",
      "metadata": {
        "id": "zTaJZYB2wOk9",
        "colab_type": "code",
        "colab": {}
      },
      "source": [
        "#build model\n",
        "model = tf.keras.Sequential()"
      ],
      "execution_count": 7,
      "outputs": []
    },
    {
      "cell_type": "code",
      "metadata": {
        "id": "rFxAijcMww1d",
        "colab_type": "code",
        "colab": {}
      },
      "source": [
        "#Add layer\n",
        "model.add(tf.keras.layers.Dense(units=10,input_shape=(3,),activation=\"relu\")) #layer 1\n",
        "model.add(tf.keras.layers.Dense(units=1))#layer 2"
      ],
      "execution_count": 10,
      "outputs": []
    },
    {
      "cell_type": "code",
      "metadata": {
        "id": "7As3nw71xfNg",
        "colab_type": "code",
        "colab": {
          "base_uri": "https://localhost:8080/",
          "height": 221
        },
        "outputId": "ad0665f4-bda5-4af4-d642-e5d2a7427548"
      },
      "source": [
        "#Check the model\n",
        "model.summary()"
      ],
      "execution_count": 11,
      "outputs": [
        {
          "output_type": "stream",
          "text": [
            "Model: \"sequential\"\n",
            "_________________________________________________________________\n",
            "Layer (type)                 Output Shape              Param #   \n",
            "=================================================================\n",
            "dense (Dense)                (None, 10)                40        \n",
            "_________________________________________________________________\n",
            "dense_1 (Dense)              (None, 1)                 11        \n",
            "=================================================================\n",
            "Total params: 51\n",
            "Trainable params: 51\n",
            "Non-trainable params: 0\n",
            "_________________________________________________________________\n"
          ],
          "name": "stdout"
        }
      ]
    },
    {
      "cell_type": "markdown",
      "metadata": {
        "id": "pwcmRAf2xkC8",
        "colab_type": "text"
      },
      "source": [
        "Input = 3 Variable  \n",
        "Output = 1 Variable\n",
        "\n",
        "#Layer 1 param = 40\n",
        "#COZ input 3 data to 10 cells in layer Dense_0 and every cells've Wight_1 ,Weight_2,Weight_3 and a Bais ,therefore = 4*10 = 40\n",
        "\n",
        "#Layer 2 param = 11\n",
        "#COZ There are 10 input form Dense_0 : Weight 1-10 and a Bais\n",
        "#10+1 =1\n",
        "\n",
        "**f(x) = Wx + bais**"
      ]
    },
    {
      "cell_type": "code",
      "metadata": {
        "id": "YOUDJGLtzSrd",
        "colab_type": "code",
        "colab": {}
      },
      "source": [
        "feature = data.iloc[:,1:-1]\n",
        "lable = data.iloc[:,-1]"
      ],
      "execution_count": 23,
      "outputs": []
    },
    {
      "cell_type": "code",
      "metadata": {
        "id": "qf_6fKNvza0s",
        "colab_type": "code",
        "colab": {}
      },
      "source": [
        "#compile a model\n",
        "model.compile(optimizer=\"adam\",loss=\"mean_squared_error\")#learning rate = 0.01(adam default rate)"
      ],
      "execution_count": 26,
      "outputs": []
    },
    {
      "cell_type": "code",
      "metadata": {
        "id": "jyzUOzV_0fdl",
        "colab_type": "code",
        "colab": {
          "base_uri": "https://localhost:8080/",
          "height": 1000
        },
        "outputId": "e90f1aa6-ded0-4fc9-e39f-e2f00de410bb"
      },
      "source": [
        "#Trainning a model\n",
        "history = model.fit(feature,lable,epochs=200)#learning rate"
      ],
      "execution_count": 28,
      "outputs": [
        {
          "output_type": "stream",
          "text": [
            "Epoch 1/200\n",
            "7/7 [==============================] - 0s 1ms/step - loss: 23.9538\n",
            "Epoch 2/200\n",
            "7/7 [==============================] - 0s 2ms/step - loss: 22.2735\n",
            "Epoch 3/200\n",
            "7/7 [==============================] - 0s 2ms/step - loss: 20.4867\n",
            "Epoch 4/200\n",
            "7/7 [==============================] - 0s 1ms/step - loss: 18.7773\n",
            "Epoch 5/200\n",
            "7/7 [==============================] - 0s 1ms/step - loss: 17.4705\n",
            "Epoch 6/200\n",
            "7/7 [==============================] - 0s 2ms/step - loss: 16.3756\n",
            "Epoch 7/200\n",
            "7/7 [==============================] - 0s 2ms/step - loss: 15.5204\n",
            "Epoch 8/200\n",
            "7/7 [==============================] - 0s 1ms/step - loss: 14.6104\n",
            "Epoch 9/200\n",
            "7/7 [==============================] - 0s 2ms/step - loss: 13.6853\n",
            "Epoch 10/200\n",
            "7/7 [==============================] - 0s 1ms/step - loss: 13.1561\n",
            "Epoch 11/200\n",
            "7/7 [==============================] - 0s 1ms/step - loss: 12.5602\n",
            "Epoch 12/200\n",
            "7/7 [==============================] - 0s 1ms/step - loss: 11.8164\n",
            "Epoch 13/200\n",
            "7/7 [==============================] - 0s 2ms/step - loss: 11.4085\n",
            "Epoch 14/200\n",
            "7/7 [==============================] - 0s 1ms/step - loss: 10.7416\n",
            "Epoch 15/200\n",
            "7/7 [==============================] - 0s 1ms/step - loss: 10.3725\n",
            "Epoch 16/200\n",
            "7/7 [==============================] - 0s 1ms/step - loss: 9.9612\n",
            "Epoch 17/200\n",
            "7/7 [==============================] - 0s 1ms/step - loss: 9.6324\n",
            "Epoch 18/200\n",
            "7/7 [==============================] - 0s 1ms/step - loss: 9.2165\n",
            "Epoch 19/200\n",
            "7/7 [==============================] - 0s 1ms/step - loss: 8.9808\n",
            "Epoch 20/200\n",
            "7/7 [==============================] - 0s 1ms/step - loss: 8.7187\n",
            "Epoch 21/200\n",
            "7/7 [==============================] - 0s 1ms/step - loss: 8.4377\n",
            "Epoch 22/200\n",
            "7/7 [==============================] - 0s 2ms/step - loss: 8.2331\n",
            "Epoch 23/200\n",
            "7/7 [==============================] - 0s 1ms/step - loss: 8.0226\n",
            "Epoch 24/200\n",
            "7/7 [==============================] - 0s 2ms/step - loss: 7.8752\n",
            "Epoch 25/200\n",
            "7/7 [==============================] - 0s 1ms/step - loss: 7.6699\n",
            "Epoch 26/200\n",
            "7/7 [==============================] - 0s 1ms/step - loss: 7.5486\n",
            "Epoch 27/200\n",
            "7/7 [==============================] - 0s 1ms/step - loss: 7.4181\n",
            "Epoch 28/200\n",
            "7/7 [==============================] - 0s 1ms/step - loss: 7.2832\n",
            "Epoch 29/200\n",
            "7/7 [==============================] - 0s 1ms/step - loss: 7.1285\n",
            "Epoch 30/200\n",
            "7/7 [==============================] - 0s 2ms/step - loss: 7.0345\n",
            "Epoch 31/200\n",
            "7/7 [==============================] - 0s 2ms/step - loss: 6.9259\n",
            "Epoch 32/200\n",
            "7/7 [==============================] - 0s 2ms/step - loss: 6.7808\n",
            "Epoch 33/200\n",
            "7/7 [==============================] - 0s 2ms/step - loss: 6.6538\n",
            "Epoch 34/200\n",
            "7/7 [==============================] - 0s 1ms/step - loss: 6.5960\n",
            "Epoch 35/200\n",
            "7/7 [==============================] - 0s 1ms/step - loss: 6.4965\n",
            "Epoch 36/200\n",
            "7/7 [==============================] - 0s 1ms/step - loss: 6.3904\n",
            "Epoch 37/200\n",
            "7/7 [==============================] - 0s 2ms/step - loss: 6.3364\n",
            "Epoch 38/200\n",
            "7/7 [==============================] - 0s 2ms/step - loss: 6.2271\n",
            "Epoch 39/200\n",
            "7/7 [==============================] - 0s 1ms/step - loss: 6.1685\n",
            "Epoch 40/200\n",
            "7/7 [==============================] - 0s 1ms/step - loss: 6.1239\n",
            "Epoch 41/200\n",
            "7/7 [==============================] - 0s 1ms/step - loss: 6.0883\n",
            "Epoch 42/200\n",
            "7/7 [==============================] - 0s 1ms/step - loss: 6.0146\n",
            "Epoch 43/200\n",
            "7/7 [==============================] - 0s 1ms/step - loss: 5.9479\n",
            "Epoch 44/200\n",
            "7/7 [==============================] - 0s 2ms/step - loss: 5.9489\n",
            "Epoch 45/200\n",
            "7/7 [==============================] - 0s 2ms/step - loss: 5.8442\n",
            "Epoch 46/200\n",
            "7/7 [==============================] - 0s 2ms/step - loss: 5.8349\n",
            "Epoch 47/200\n",
            "7/7 [==============================] - 0s 2ms/step - loss: 5.7958\n",
            "Epoch 48/200\n",
            "7/7 [==============================] - 0s 2ms/step - loss: 5.7461\n",
            "Epoch 49/200\n",
            "7/7 [==============================] - 0s 2ms/step - loss: 5.6930\n",
            "Epoch 50/200\n",
            "7/7 [==============================] - 0s 2ms/step - loss: 5.6978\n",
            "Epoch 51/200\n",
            "7/7 [==============================] - 0s 2ms/step - loss: 5.6093\n",
            "Epoch 52/200\n",
            "7/7 [==============================] - 0s 2ms/step - loss: 5.6101\n",
            "Epoch 53/200\n",
            "7/7 [==============================] - 0s 2ms/step - loss: 5.6065\n",
            "Epoch 54/200\n",
            "7/7 [==============================] - 0s 1ms/step - loss: 5.5027\n",
            "Epoch 55/200\n",
            "7/7 [==============================] - 0s 1ms/step - loss: 5.5513\n",
            "Epoch 56/200\n",
            "7/7 [==============================] - 0s 2ms/step - loss: 5.5563\n",
            "Epoch 57/200\n",
            "7/7 [==============================] - 0s 1ms/step - loss: 5.4080\n",
            "Epoch 58/200\n",
            "7/7 [==============================] - 0s 2ms/step - loss: 5.3439\n",
            "Epoch 59/200\n",
            "7/7 [==============================] - 0s 2ms/step - loss: 5.3299\n",
            "Epoch 60/200\n",
            "7/7 [==============================] - 0s 2ms/step - loss: 5.2975\n",
            "Epoch 61/200\n",
            "7/7 [==============================] - 0s 2ms/step - loss: 5.2581\n",
            "Epoch 62/200\n",
            "7/7 [==============================] - 0s 2ms/step - loss: 5.2769\n",
            "Epoch 63/200\n",
            "7/7 [==============================] - 0s 1ms/step - loss: 5.1532\n",
            "Epoch 64/200\n",
            "7/7 [==============================] - 0s 1ms/step - loss: 5.1929\n",
            "Epoch 65/200\n",
            "7/7 [==============================] - 0s 2ms/step - loss: 5.1413\n",
            "Epoch 66/200\n",
            "7/7 [==============================] - 0s 1ms/step - loss: 5.0845\n",
            "Epoch 67/200\n",
            "7/7 [==============================] - 0s 1ms/step - loss: 5.0706\n",
            "Epoch 68/200\n",
            "7/7 [==============================] - 0s 2ms/step - loss: 5.0473\n",
            "Epoch 69/200\n",
            "7/7 [==============================] - 0s 1ms/step - loss: 5.0182\n",
            "Epoch 70/200\n",
            "7/7 [==============================] - 0s 2ms/step - loss: 4.9839\n",
            "Epoch 71/200\n",
            "7/7 [==============================] - 0s 2ms/step - loss: 4.9369\n",
            "Epoch 72/200\n",
            "7/7 [==============================] - 0s 1ms/step - loss: 4.9017\n",
            "Epoch 73/200\n",
            "7/7 [==============================] - 0s 2ms/step - loss: 4.8610\n",
            "Epoch 74/200\n",
            "7/7 [==============================] - 0s 2ms/step - loss: 4.8864\n",
            "Epoch 75/200\n",
            "7/7 [==============================] - 0s 2ms/step - loss: 4.8471\n",
            "Epoch 76/200\n",
            "7/7 [==============================] - 0s 2ms/step - loss: 4.8014\n",
            "Epoch 77/200\n",
            "7/7 [==============================] - 0s 2ms/step - loss: 4.7525\n",
            "Epoch 78/200\n",
            "7/7 [==============================] - 0s 1ms/step - loss: 4.7358\n",
            "Epoch 79/200\n",
            "7/7 [==============================] - 0s 2ms/step - loss: 4.7087\n",
            "Epoch 80/200\n",
            "7/7 [==============================] - 0s 1ms/step - loss: 4.7037\n",
            "Epoch 81/200\n",
            "7/7 [==============================] - 0s 1ms/step - loss: 4.7059\n",
            "Epoch 82/200\n",
            "7/7 [==============================] - 0s 2ms/step - loss: 4.6303\n",
            "Epoch 83/200\n",
            "7/7 [==============================] - 0s 2ms/step - loss: 4.6897\n",
            "Epoch 84/200\n",
            "7/7 [==============================] - 0s 1ms/step - loss: 4.6089\n",
            "Epoch 85/200\n",
            "7/7 [==============================] - 0s 1ms/step - loss: 4.5946\n",
            "Epoch 86/200\n",
            "7/7 [==============================] - 0s 1ms/step - loss: 4.5734\n",
            "Epoch 87/200\n",
            "7/7 [==============================] - 0s 2ms/step - loss: 4.5414\n",
            "Epoch 88/200\n",
            "7/7 [==============================] - 0s 2ms/step - loss: 4.5241\n",
            "Epoch 89/200\n",
            "7/7 [==============================] - 0s 2ms/step - loss: 4.5387\n",
            "Epoch 90/200\n",
            "7/7 [==============================] - 0s 2ms/step - loss: 4.4951\n",
            "Epoch 91/200\n",
            "7/7 [==============================] - 0s 1ms/step - loss: 4.5124\n",
            "Epoch 92/200\n",
            "7/7 [==============================] - 0s 2ms/step - loss: 4.4750\n",
            "Epoch 93/200\n",
            "7/7 [==============================] - 0s 2ms/step - loss: 4.4370\n",
            "Epoch 94/200\n",
            "7/7 [==============================] - 0s 2ms/step - loss: 4.4566\n",
            "Epoch 95/200\n",
            "7/7 [==============================] - 0s 2ms/step - loss: 4.4189\n",
            "Epoch 96/200\n",
            "7/7 [==============================] - 0s 1ms/step - loss: 4.3810\n",
            "Epoch 97/200\n",
            "7/7 [==============================] - 0s 2ms/step - loss: 4.3760\n",
            "Epoch 98/200\n",
            "7/7 [==============================] - 0s 2ms/step - loss: 4.3668\n",
            "Epoch 99/200\n",
            "7/7 [==============================] - 0s 2ms/step - loss: 4.3307\n",
            "Epoch 100/200\n",
            "7/7 [==============================] - 0s 1ms/step - loss: 4.3324\n",
            "Epoch 101/200\n",
            "7/7 [==============================] - 0s 2ms/step - loss: 4.3217\n",
            "Epoch 102/200\n",
            "7/7 [==============================] - 0s 1ms/step - loss: 4.3066\n",
            "Epoch 103/200\n",
            "7/7 [==============================] - 0s 1ms/step - loss: 4.2550\n",
            "Epoch 104/200\n",
            "7/7 [==============================] - 0s 1ms/step - loss: 4.3245\n",
            "Epoch 105/200\n",
            "7/7 [==============================] - 0s 2ms/step - loss: 4.2685\n",
            "Epoch 106/200\n",
            "7/7 [==============================] - 0s 2ms/step - loss: 4.2585\n",
            "Epoch 107/200\n",
            "7/7 [==============================] - 0s 2ms/step - loss: 4.2832\n",
            "Epoch 108/200\n",
            "7/7 [==============================] - 0s 2ms/step - loss: 4.2347\n",
            "Epoch 109/200\n",
            "7/7 [==============================] - 0s 1ms/step - loss: 4.2033\n",
            "Epoch 110/200\n",
            "7/7 [==============================] - 0s 1ms/step - loss: 4.1764\n",
            "Epoch 111/200\n",
            "7/7 [==============================] - 0s 2ms/step - loss: 4.1919\n",
            "Epoch 112/200\n",
            "7/7 [==============================] - 0s 2ms/step - loss: 4.1635\n",
            "Epoch 113/200\n",
            "7/7 [==============================] - 0s 2ms/step - loss: 4.1650\n",
            "Epoch 114/200\n",
            "7/7 [==============================] - 0s 2ms/step - loss: 4.1237\n",
            "Epoch 115/200\n",
            "7/7 [==============================] - 0s 1ms/step - loss: 4.1161\n",
            "Epoch 116/200\n",
            "7/7 [==============================] - 0s 1ms/step - loss: 4.0959\n",
            "Epoch 117/200\n",
            "7/7 [==============================] - 0s 1ms/step - loss: 4.0758\n",
            "Epoch 118/200\n",
            "7/7 [==============================] - 0s 2ms/step - loss: 4.0658\n",
            "Epoch 119/200\n",
            "7/7 [==============================] - 0s 1ms/step - loss: 4.0802\n",
            "Epoch 120/200\n",
            "7/7 [==============================] - 0s 1ms/step - loss: 4.0779\n",
            "Epoch 121/200\n",
            "7/7 [==============================] - 0s 2ms/step - loss: 4.0369\n",
            "Epoch 122/200\n",
            "7/7 [==============================] - 0s 2ms/step - loss: 4.0111\n",
            "Epoch 123/200\n",
            "7/7 [==============================] - 0s 2ms/step - loss: 3.9950\n",
            "Epoch 124/200\n",
            "7/7 [==============================] - 0s 1ms/step - loss: 3.9780\n",
            "Epoch 125/200\n",
            "7/7 [==============================] - 0s 2ms/step - loss: 4.0053\n",
            "Epoch 126/200\n",
            "7/7 [==============================] - 0s 2ms/step - loss: 3.9522\n",
            "Epoch 127/200\n",
            "7/7 [==============================] - 0s 2ms/step - loss: 3.9708\n",
            "Epoch 128/200\n",
            "7/7 [==============================] - 0s 2ms/step - loss: 3.9204\n",
            "Epoch 129/200\n",
            "7/7 [==============================] - 0s 2ms/step - loss: 3.9054\n",
            "Epoch 130/200\n",
            "7/7 [==============================] - 0s 2ms/step - loss: 3.9074\n",
            "Epoch 131/200\n",
            "7/7 [==============================] - 0s 1ms/step - loss: 3.8941\n",
            "Epoch 132/200\n",
            "7/7 [==============================] - 0s 2ms/step - loss: 3.8684\n",
            "Epoch 133/200\n",
            "7/7 [==============================] - 0s 2ms/step - loss: 3.8461\n",
            "Epoch 134/200\n",
            "7/7 [==============================] - 0s 2ms/step - loss: 3.8747\n",
            "Epoch 135/200\n",
            "7/7 [==============================] - 0s 2ms/step - loss: 3.8520\n",
            "Epoch 136/200\n",
            "7/7 [==============================] - 0s 2ms/step - loss: 3.8628\n",
            "Epoch 137/200\n",
            "7/7 [==============================] - 0s 1ms/step - loss: 3.7914\n",
            "Epoch 138/200\n",
            "7/7 [==============================] - 0s 1ms/step - loss: 3.8872\n",
            "Epoch 139/200\n",
            "7/7 [==============================] - 0s 3ms/step - loss: 3.7734\n",
            "Epoch 140/200\n",
            "7/7 [==============================] - 0s 2ms/step - loss: 3.8517\n",
            "Epoch 141/200\n",
            "7/7 [==============================] - 0s 1ms/step - loss: 3.7805\n",
            "Epoch 142/200\n",
            "7/7 [==============================] - 0s 1ms/step - loss: 3.7572\n",
            "Epoch 143/200\n",
            "7/7 [==============================] - 0s 2ms/step - loss: 3.7323\n",
            "Epoch 144/200\n",
            "7/7 [==============================] - 0s 2ms/step - loss: 3.7137\n",
            "Epoch 145/200\n",
            "7/7 [==============================] - 0s 2ms/step - loss: 3.7166\n",
            "Epoch 146/200\n",
            "7/7 [==============================] - 0s 1ms/step - loss: 3.6893\n",
            "Epoch 147/200\n",
            "7/7 [==============================] - 0s 2ms/step - loss: 3.6899\n",
            "Epoch 148/200\n",
            "7/7 [==============================] - 0s 2ms/step - loss: 3.6758\n",
            "Epoch 149/200\n",
            "7/7 [==============================] - 0s 1ms/step - loss: 3.6896\n",
            "Epoch 150/200\n",
            "7/7 [==============================] - 0s 1ms/step - loss: 3.6612\n",
            "Epoch 151/200\n",
            "7/7 [==============================] - 0s 1ms/step - loss: 3.6569\n",
            "Epoch 152/200\n",
            "7/7 [==============================] - 0s 2ms/step - loss: 3.6499\n",
            "Epoch 153/200\n",
            "7/7 [==============================] - 0s 2ms/step - loss: 3.6203\n",
            "Epoch 154/200\n",
            "7/7 [==============================] - 0s 2ms/step - loss: 3.6217\n",
            "Epoch 155/200\n",
            "7/7 [==============================] - 0s 1ms/step - loss: 3.6077\n",
            "Epoch 156/200\n",
            "7/7 [==============================] - 0s 2ms/step - loss: 3.5797\n",
            "Epoch 157/200\n",
            "7/7 [==============================] - 0s 1ms/step - loss: 3.5564\n",
            "Epoch 158/200\n",
            "7/7 [==============================] - 0s 2ms/step - loss: 3.5733\n",
            "Epoch 159/200\n",
            "7/7 [==============================] - 0s 1ms/step - loss: 3.5674\n",
            "Epoch 160/200\n",
            "7/7 [==============================] - 0s 1ms/step - loss: 3.5583\n",
            "Epoch 161/200\n",
            "7/7 [==============================] - 0s 1ms/step - loss: 3.5444\n",
            "Epoch 162/200\n",
            "7/7 [==============================] - 0s 1ms/step - loss: 3.5002\n",
            "Epoch 163/200\n",
            "7/7 [==============================] - 0s 1ms/step - loss: 3.5091\n",
            "Epoch 164/200\n",
            "7/7 [==============================] - 0s 2ms/step - loss: 3.4843\n",
            "Epoch 165/200\n",
            "7/7 [==============================] - 0s 1ms/step - loss: 3.5143\n",
            "Epoch 166/200\n",
            "7/7 [==============================] - 0s 2ms/step - loss: 3.4874\n",
            "Epoch 167/200\n",
            "7/7 [==============================] - 0s 2ms/step - loss: 3.5467\n",
            "Epoch 168/200\n",
            "7/7 [==============================] - 0s 2ms/step - loss: 3.4724\n",
            "Epoch 169/200\n",
            "7/7 [==============================] - 0s 2ms/step - loss: 3.4854\n",
            "Epoch 170/200\n",
            "7/7 [==============================] - 0s 2ms/step - loss: 3.4456\n",
            "Epoch 171/200\n",
            "7/7 [==============================] - 0s 2ms/step - loss: 3.4460\n",
            "Epoch 172/200\n",
            "7/7 [==============================] - 0s 2ms/step - loss: 3.4029\n",
            "Epoch 173/200\n",
            "7/7 [==============================] - 0s 2ms/step - loss: 3.3973\n",
            "Epoch 174/200\n",
            "7/7 [==============================] - 0s 2ms/step - loss: 3.4041\n",
            "Epoch 175/200\n",
            "7/7 [==============================] - 0s 2ms/step - loss: 3.3633\n",
            "Epoch 176/200\n",
            "7/7 [==============================] - 0s 1ms/step - loss: 3.3884\n",
            "Epoch 177/200\n",
            "7/7 [==============================] - 0s 1ms/step - loss: 3.3482\n",
            "Epoch 178/200\n",
            "7/7 [==============================] - 0s 2ms/step - loss: 3.3668\n",
            "Epoch 179/200\n",
            "7/7 [==============================] - 0s 1ms/step - loss: 3.3393\n",
            "Epoch 180/200\n",
            "7/7 [==============================] - 0s 1ms/step - loss: 3.3300\n",
            "Epoch 181/200\n",
            "7/7 [==============================] - 0s 2ms/step - loss: 3.3288\n",
            "Epoch 182/200\n",
            "7/7 [==============================] - 0s 2ms/step - loss: 3.3032\n",
            "Epoch 183/200\n",
            "7/7 [==============================] - 0s 2ms/step - loss: 3.3145\n",
            "Epoch 184/200\n",
            "7/7 [==============================] - 0s 2ms/step - loss: 3.2767\n",
            "Epoch 185/200\n",
            "7/7 [==============================] - 0s 1ms/step - loss: 3.2896\n",
            "Epoch 186/200\n",
            "7/7 [==============================] - 0s 2ms/step - loss: 3.2548\n",
            "Epoch 187/200\n",
            "7/7 [==============================] - 0s 2ms/step - loss: 3.2508\n",
            "Epoch 188/200\n",
            "7/7 [==============================] - 0s 2ms/step - loss: 3.2750\n",
            "Epoch 189/200\n",
            "7/7 [==============================] - 0s 2ms/step - loss: 3.2433\n",
            "Epoch 190/200\n",
            "7/7 [==============================] - 0s 1ms/step - loss: 3.2437\n",
            "Epoch 191/200\n",
            "7/7 [==============================] - 0s 2ms/step - loss: 3.2173\n",
            "Epoch 192/200\n",
            "7/7 [==============================] - 0s 2ms/step - loss: 3.1836\n",
            "Epoch 193/200\n",
            "7/7 [==============================] - 0s 2ms/step - loss: 3.1816\n",
            "Epoch 194/200\n",
            "7/7 [==============================] - 0s 2ms/step - loss: 3.1662\n",
            "Epoch 195/200\n",
            "7/7 [==============================] - 0s 2ms/step - loss: 3.2314\n",
            "Epoch 196/200\n",
            "7/7 [==============================] - 0s 2ms/step - loss: 3.1585\n",
            "Epoch 197/200\n",
            "7/7 [==============================] - 0s 2ms/step - loss: 3.1766\n",
            "Epoch 198/200\n",
            "7/7 [==============================] - 0s 2ms/step - loss: 3.1816\n",
            "Epoch 199/200\n",
            "7/7 [==============================] - 0s 2ms/step - loss: 3.1270\n",
            "Epoch 200/200\n",
            "7/7 [==============================] - 0s 2ms/step - loss: 3.1515\n"
          ],
          "name": "stdout"
        }
      ]
    },
    {
      "cell_type": "code",
      "metadata": {
        "id": "Lqt30eD900os",
        "colab_type": "code",
        "colab": {}
      },
      "source": [
        "x = data.iloc[:10,1:-1]"
      ],
      "execution_count": 32,
      "outputs": []
    },
    {
      "cell_type": "code",
      "metadata": {
        "id": "Lq3vmphG1tmC",
        "colab_type": "code",
        "colab": {
          "base_uri": "https://localhost:8080/",
          "height": 187
        },
        "outputId": "517f5586-32c7-444f-b93a-e2a856f29814"
      },
      "source": [
        "model.predict(x) #predicate form our feature -> which it does?"
      ],
      "execution_count": 36,
      "outputs": [
        {
          "output_type": "execute_result",
          "data": {
            "text/plain": [
              "array([[22.554708 ],\n",
              "       [12.971415 ],\n",
              "       [ 9.179724 ],\n",
              "       [19.574694 ],\n",
              "       [13.696483 ],\n",
              "       [10.324372 ],\n",
              "       [12.311628 ],\n",
              "       [11.581923 ],\n",
              "       [ 2.2226875],\n",
              "       [11.3997555]], dtype=float32)"
            ]
          },
          "metadata": {
            "tags": []
          },
          "execution_count": 36
        }
      ]
    },
    {
      "cell_type": "code",
      "metadata": {
        "id": "ebvMI83B2PfX",
        "colab_type": "code",
        "colab": {
          "base_uri": "https://localhost:8080/",
          "height": 204
        },
        "outputId": "fd4965b3-b3b6-49d8-e62f-0d06671c6287"
      },
      "source": [
        "data.iloc[:10,-1] #first 10 labels"
      ],
      "execution_count": 37,
      "outputs": [
        {
          "output_type": "execute_result",
          "data": {
            "text/plain": [
              "0    22.1\n",
              "1    10.4\n",
              "2     9.3\n",
              "3    18.5\n",
              "4    12.9\n",
              "5     7.2\n",
              "6    11.8\n",
              "7    13.2\n",
              "8     4.8\n",
              "9    10.6\n",
              "Name: sales, dtype: float64"
            ]
          },
          "metadata": {
            "tags": []
          },
          "execution_count": 37
        }
      ]
    }
  ]
}