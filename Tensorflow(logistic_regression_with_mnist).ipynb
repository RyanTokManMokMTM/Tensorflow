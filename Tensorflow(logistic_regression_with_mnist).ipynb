{
  "nbformat": 4,
  "nbformat_minor": 0,
  "metadata": {
    "colab": {
      "name": "Tensorflow(logistic_regression_with_mnist).ipynb",
      "provenance": [],
      "collapsed_sections": [],
      "authorship_tag": "ABX9TyMjQXdrnxlXwpSH5keQWGgb",
      "include_colab_link": true
    },
    "kernelspec": {
      "name": "python3",
      "display_name": "Python 3"
    }
  },
  "cells": [
    {
      "cell_type": "markdown",
      "metadata": {
        "id": "view-in-github",
        "colab_type": "text"
      },
      "source": [
        "<a href=\"https://colab.research.google.com/github/RyanTokManMokMTM/Tensorflow/blob/master/Tensorflow(logistic_regression_with_mnist).ipynb\" target=\"_parent\"><img src=\"https://colab.research.google.com/assets/colab-badge.svg\" alt=\"Open In Colab\"/></a>"
      ]
    },
    {
      "cell_type": "code",
      "metadata": {
        "id": "JQMqz2_wdTqE",
        "colab_type": "code",
        "colab": {}
      },
      "source": [
        "import tensorflow as tf\n",
        "import numpy as np\n",
        "import pandas as pd\n",
        "from matplotlib import  pyplot as plt"
      ],
      "execution_count": null,
      "outputs": []
    },
    {
      "cell_type": "code",
      "metadata": {
        "id": "toamJlAMokvO",
        "colab_type": "code",
        "colab": {}
      },
      "source": [
        "(train_image,train_lable),(test_image,test_lable)=tf.keras.datasets.fashion_mnist.load_data()"
      ],
      "execution_count": null,
      "outputs": []
    },
    {
      "cell_type": "code",
      "metadata": {
        "id": "IQ_oBU1XDPJi",
        "colab_type": "code",
        "colab": {
          "base_uri": "https://localhost:8080/",
          "height": 34
        },
        "outputId": "60d2b28e-eee3-48e0-cc1e-80515fa2844a"
      },
      "source": [
        "train_image.shape #3 dynamic array.tuple"
      ],
      "execution_count": null,
      "outputs": [
        {
          "output_type": "execute_result",
          "data": {
            "text/plain": [
              "(60000, 28, 28)"
            ]
          },
          "metadata": {
            "tags": []
          },
          "execution_count": 10
        }
      ]
    },
    {
      "cell_type": "code",
      "metadata": {
        "id": "h3dNAXL6Dw9r",
        "colab_type": "code",
        "colab": {
          "base_uri": "https://localhost:8080/",
          "height": 282
        },
        "outputId": "de741d8c-4847-48f8-93fb-d664e6d1072a"
      },
      "source": [
        "plt.imshow(train_image[0])"
      ],
      "execution_count": null,
      "outputs": [
        {
          "output_type": "execute_result",
          "data": {
            "text/plain": [
              "<matplotlib.image.AxesImage at 0x7f8c8ef40a58>"
            ]
          },
          "metadata": {
            "tags": []
          },
          "execution_count": 15
        },
        {
          "output_type": "display_data",
          "data": {
            "image/png": "[encoded data removed]",
            "text/plain": [
              "<Figure size 432x288 with 1 Axes>"
            ]
          },
          "metadata": {
            "tags": [],
            "needs_background": "light"
          }
        }
      ]
    },
    {
      "cell_type": "code",
      "metadata": {
        "id": "eWJ5CgmfDVNR",
        "colab_type": "code",
        "colab": {
          "base_uri": "https://localhost:8080/",
          "height": 34
        },
        "outputId": "6325068b-0b46-47c6-cf64-5acc3bfd7618"
      },
      "source": [
        "train_lable.shape #1 dynamic tuple"
      ],
      "execution_count": null,
      "outputs": [
        {
          "output_type": "execute_result",
          "data": {
            "text/plain": [
              "(60000,)"
            ]
          },
          "metadata": {
            "tags": []
          },
          "execution_count": 11
        }
      ]
    },
    {
      "cell_type": "code",
      "metadata": {
        "id": "kL1pbYR_JD3i",
        "colab_type": "code",
        "colab": {}
      },
      "source": [
        "#build model\n",
        "model = tf.keras.Sequential()"
      ],
      "execution_count": null,
      "outputs": []
    },
    {
      "cell_type": "code",
      "metadata": {
        "id": "K2Ix6LoUJLyv",
        "colab_type": "code",
        "colab": {}
      },
      "source": [
        "model.add(tf.keras.layers.Flatten(input_shape = (28,28))) \n",
        "model.add(tf.keras.layers.Dense(units=128,activation=\"relu\"))\n",
        "model.add(tf.keras.layers.Dense(units=10,activation=\"softmax\"))\n",
        "\n",
        "#Flatten vs.Dense\n",
        "#Flatten: if our featrue is a 2-dynamic data(x,y)\n",
        "  #we need change it to 1-dynimac data(x*y,)\n",
        "#Dense all inputs are 1-dynimac data\n",
        "\n",
        "#softmax vs sigmoid\n",
        "#softmax => working on multiple data which are more than 2\n",
        "  #all kind data->their sum of probabilty is equal to 1\n",
        "\n",
        "#sigmoid return difference of  probality between then"
      ],
      "execution_count": null,
      "outputs": []
    },
    {
      "cell_type": "code",
      "metadata": {
        "id": "7Bd-RfYWKO6g",
        "colab_type": "code",
        "colab": {
          "base_uri": "https://localhost:8080/",
          "height": 255
        },
        "outputId": "0ca06d62-c72d-4696-8ba6-3a8de99b74b0"
      },
      "source": [
        "model.summary()"
      ],
      "execution_count": null,
      "outputs": [
        {
          "output_type": "stream",
          "text": [
            "Model: \"sequential_5\"\n",
            "_________________________________________________________________\n",
            "Layer (type)                 Output Shape              Param #   \n",
            "=================================================================\n",
            "flatten_5 (Flatten)          (None, 784)               0         \n",
            "_________________________________________________________________\n",
            "dense_10 (Dense)             (None, 128)               100480    \n",
            "_________________________________________________________________\n",
            "dense_11 (Dense)             (None, 10)                1290      \n",
            "=================================================================\n",
            "Total params: 101,770\n",
            "Trainable params: 101,770\n",
            "Non-trainable params: 0\n",
            "_________________________________________________________________\n"
          ],
          "name": "stdout"
        }
      ]
    },
    {
      "cell_type": "code",
      "metadata": {
        "id": "v06Hb7ryL9lP",
        "colab_type": "code",
        "colab": {}
      },
      "source": [
        "#compile model\n",
        "model.compile(optimizer=\"adam\",\n",
        "              loss=\"sparse_categorical_crossentropy\",\n",
        "              metrics = [\"acc\"])\n",
        "\n",
        "#sparse_categorical_crossentropy working with number data \n",
        "#in this case all kind of data is in number format"
      ],
      "execution_count": null,
      "outputs": []
    },
    {
      "cell_type": "code",
      "metadata": {
        "id": "ICSUGWmjNh1_",
        "colab_type": "code",
        "colab": {}
      },
      "source": [
        "train_image = train_image/255\n",
        "test_image = test_image/255"
      ],
      "execution_count": null,
      "outputs": []
    },
    {
      "cell_type": "code",
      "metadata": {
        "id": "3BTZhA6yO9jt",
        "colab_type": "code",
        "colab": {
          "base_uri": "https://localhost:8080/",
          "height": 1000
        },
        "outputId": "6dcbb3c0-c896-4b15-ce8e-f3268aba330f"
      },
      "source": [
        "train_image[0]"
      ],
      "execution_count": null,
      "outputs": [
        {
          "output_type": "execute_result",
          "data": {
            "text/plain": [
              "array([[0.00000000e+00, 0.00000000e+00, 0.00000000e+00, 0.00000000e+00,\n",
              "        0.00000000e+00, 0.00000000e+00, 0.00000000e+00, 0.00000000e+00,\n",
              "        0.00000000e+00, 0.00000000e+00, 0.00000000e+00, 0.00000000e+00,\n",
              "        0.00000000e+00, 0.00000000e+00, 0.00000000e+00, 0.00000000e+00,\n",
              "        0.00000000e+00, 0.00000000e+00, 0.00000000e+00, 0.00000000e+00,\n",
              "        0.00000000e+00, 0.00000000e+00, 0.00000000e+00, 0.00000000e+00,\n",
              "        0.00000000e+00, 0.00000000e+00, 0.00000000e+00, 0.00000000e+00],\n",
              "       [0.00000000e+00, 0.00000000e+00, 0.00000000e+00, 0.00000000e+00,\n",
              "        0.00000000e+00, 0.00000000e+00, 0.00000000e+00, 0.00000000e+00,\n",
              "        0.00000000e+00, 0.00000000e+00, 0.00000000e+00, 0.00000000e+00,\n",
              "        0.00000000e+00, 0.00000000e+00, 0.00000000e+00, 0.00000000e+00,\n",
              "        0.00000000e+00, 0.00000000e+00, 0.00000000e+00, 0.00000000e+00,\n",
              "        0.00000000e+00, 0.00000000e+00, 0.00000000e+00, 0.00000000e+00,\n",
              "        0.00000000e+00, 0.00000000e+00, 0.00000000e+00, 0.00000000e+00],\n",
              "       [0.00000000e+00, 0.00000000e+00, 0.00000000e+00, 0.00000000e+00,\n",
              "        0.00000000e+00, 0.00000000e+00, 0.00000000e+00, 0.00000000e+00,\n",
              "        0.00000000e+00, 0.00000000e+00, 0.00000000e+00, 0.00000000e+00,\n",
              "        0.00000000e+00, 0.00000000e+00, 0.00000000e+00, 0.00000000e+00,\n",
              "        0.00000000e+00, 0.00000000e+00, 0.00000000e+00, 0.00000000e+00,\n",
              "        0.00000000e+00, 0.00000000e+00, 0.00000000e+00, 0.00000000e+00,\n",
              "        0.00000000e+00, 0.00000000e+00, 0.00000000e+00, 0.00000000e+00],\n",
              "       [0.00000000e+00, 0.00000000e+00, 0.00000000e+00, 0.00000000e+00,\n",
              "        0.00000000e+00, 0.00000000e+00, 0.00000000e+00, 0.00000000e+00,\n",
              "        0.00000000e+00, 0.00000000e+00, 0.00000000e+00, 0.00000000e+00,\n",
              "        6.03086294e-08, 0.00000000e+00, 0.00000000e+00, 7.84012182e-07,\n",
              "        4.40252995e-06, 0.00000000e+00, 0.00000000e+00, 6.03086294e-08,\n",
              "        2.41234518e-07, 0.00000000e+00, 0.00000000e+00, 0.00000000e+00,\n",
              "        0.00000000e+00, 6.03086294e-08, 6.03086294e-08, 0.00000000e+00],\n",
              "       [0.00000000e+00, 0.00000000e+00, 0.00000000e+00, 0.00000000e+00,\n",
              "        0.00000000e+00, 0.00000000e+00, 0.00000000e+00, 0.00000000e+00,\n",
              "        0.00000000e+00, 0.00000000e+00, 0.00000000e+00, 0.00000000e+00,\n",
              "        1.80925888e-07, 0.00000000e+00, 2.17111066e-06, 8.20197360e-06,\n",
              "        7.65919594e-06, 3.73913502e-06, 3.25666599e-06, 0.00000000e+00,\n",
              "        0.00000000e+00, 0.00000000e+00, 6.03086294e-08, 1.80925888e-07,\n",
              "        2.41234518e-07, 0.00000000e+00, 0.00000000e+00, 1.80925888e-07],\n",
              "       [0.00000000e+00, 0.00000000e+00, 0.00000000e+00, 0.00000000e+00,\n",
              "        0.00000000e+00, 0.00000000e+00, 0.00000000e+00, 0.00000000e+00,\n",
              "        0.00000000e+00, 0.00000000e+00, 0.00000000e+00, 0.00000000e+00,\n",
              "        3.61851776e-07, 0.00000000e+00, 6.15148020e-06, 1.23029604e-05,\n",
              "        1.06143188e-05, 8.08135634e-06, 8.68444264e-06, 7.41796142e-06,\n",
              "        1.38709848e-06, 0.00000000e+00, 0.00000000e+00, 0.00000000e+00,\n",
              "        0.00000000e+00, 7.23703553e-07, 6.03086294e-07, 0.00000000e+00],\n",
              "       [0.00000000e+00, 0.00000000e+00, 0.00000000e+00, 0.00000000e+00,\n",
              "        0.00000000e+00, 0.00000000e+00, 0.00000000e+00, 0.00000000e+00,\n",
              "        0.00000000e+00, 0.00000000e+00, 0.00000000e+00, 0.00000000e+00,\n",
              "        0.00000000e+00, 0.00000000e+00, 9.34783756e-06, 1.42328365e-05,\n",
              "        1.24838863e-05, 1.07349360e-05, 6.45302335e-06, 9.40814619e-06,\n",
              "        9.70968934e-06, 6.57364061e-06, 3.85975228e-06, 1.38709848e-06,\n",
              "        4.64376446e-06, 7.84012182e-06, 4.34222132e-06, 9.04629441e-07],\n",
              "       [0.00000000e+00, 0.00000000e+00, 0.00000000e+00, 0.00000000e+00,\n",
              "        0.00000000e+00, 0.00000000e+00, 0.00000000e+00, 0.00000000e+00,\n",
              "        0.00000000e+00, 0.00000000e+00, 0.00000000e+00, 6.03086294e-08,\n",
              "        0.00000000e+00, 4.16129543e-06, 1.24838863e-05, 1.34488244e-05,\n",
              "        1.31472812e-05, 1.30266640e-05, 1.30266640e-05, 9.83030659e-06,\n",
              "        7.65919594e-06, 7.29734416e-06, 7.35765279e-06, 8.80505989e-06,\n",
              "        8.50351675e-06, 5.30715939e-06, 1.03730843e-05, 3.98036954e-06],\n",
              "       [0.00000000e+00, 0.00000000e+00, 0.00000000e+00, 0.00000000e+00,\n",
              "        0.00000000e+00, 0.00000000e+00, 0.00000000e+00, 0.00000000e+00,\n",
              "        0.00000000e+00, 6.03086294e-08, 6.03086294e-08, 6.03086294e-08,\n",
              "        0.00000000e+00, 1.20617259e-05, 1.39916020e-05, 1.39916020e-05,\n",
              "        1.40519107e-05, 1.38106761e-05, 1.34488244e-05, 1.34488244e-05,\n",
              "        1.29663553e-05, 1.28457381e-05, 9.89061522e-06, 7.65919594e-06,\n",
              "        7.41796142e-06, 1.18204914e-05, 1.38106761e-05, 0.00000000e+00],\n",
              "       [0.00000000e+00, 0.00000000e+00, 0.00000000e+00, 0.00000000e+00,\n",
              "        0.00000000e+00, 0.00000000e+00, 0.00000000e+00, 0.00000000e+00,\n",
              "        0.00000000e+00, 0.00000000e+00, 0.00000000e+00, 0.00000000e+00,\n",
              "        0.00000000e+00, 1.10364792e-05, 1.35694416e-05, 1.30266640e-05,\n",
              "        1.34488244e-05, 1.37503675e-05, 1.41725279e-05, 1.36900589e-05,\n",
              "        1.35091330e-05, 1.33885157e-05, 1.35091330e-05, 1.33282071e-05,\n",
              "        1.34488244e-05, 1.47756142e-05, 1.04333929e-05, 0.00000000e+00],\n",
              "       [0.00000000e+00, 0.00000000e+00, 0.00000000e+00, 0.00000000e+00,\n",
              "        0.00000000e+00, 0.00000000e+00, 0.00000000e+00, 0.00000000e+00,\n",
              "        0.00000000e+00, 0.00000000e+00, 0.00000000e+00, 0.00000000e+00,\n",
              "        0.00000000e+00, 1.16395655e-05, 1.37503675e-05, 1.31472812e-05,\n",
              "        1.28457381e-05, 1.19411086e-05, 1.08555533e-05, 1.27854294e-05,\n",
              "        1.26648122e-05, 1.27251208e-05, 1.28457381e-05, 1.34488244e-05,\n",
              "        1.32678985e-05, 1.46549969e-05, 1.21823431e-05, 0.00000000e+00],\n",
              "       [0.00000000e+00, 0.00000000e+00, 0.00000000e+00, 0.00000000e+00,\n",
              "        0.00000000e+00, 0.00000000e+00, 0.00000000e+00, 0.00000000e+00,\n",
              "        0.00000000e+00, 6.03086294e-08, 1.80925888e-07, 0.00000000e+00,\n",
              "        7.23703553e-07, 1.32075898e-05, 1.32678985e-05, 1.27854294e-05,\n",
              "        1.31472812e-05, 1.15792568e-05, 1.01921584e-05, 1.36900589e-05,\n",
              "        1.25441949e-05, 1.31472812e-05, 1.35091330e-05, 1.27854294e-05,\n",
              "        1.36297502e-05, 1.18808000e-05, 1.26045035e-05, 3.13604873e-06],\n",
              "       [0.00000000e+00, 0.00000000e+00, 0.00000000e+00, 0.00000000e+00,\n",
              "        0.00000000e+00, 0.00000000e+00, 0.00000000e+00, 0.00000000e+00,\n",
              "        0.00000000e+00, 0.00000000e+00, 3.61851776e-07, 0.00000000e+00,\n",
              "        5.97055431e-06, 1.47153056e-05, 1.33885157e-05, 1.32678985e-05,\n",
              "        1.31472812e-05, 1.22426518e-05, 1.19411086e-05, 1.33282071e-05,\n",
              "        1.29663553e-05, 1.28457381e-05, 1.33885157e-05, 1.32678985e-05,\n",
              "        1.47756142e-05, 7.17672690e-06, 1.00715411e-05, 3.37728325e-06],\n",
              "       [0.00000000e+00, 0.00000000e+00, 0.00000000e+00, 0.00000000e+00,\n",
              "        0.00000000e+00, 0.00000000e+00, 0.00000000e+00, 0.00000000e+00,\n",
              "        0.00000000e+00, 2.41234518e-07, 0.00000000e+00, 0.00000000e+00,\n",
              "        3.31697462e-06, 1.42328365e-05, 1.37503675e-05, 1.38709848e-05,\n",
              "        1.37503675e-05, 1.44740711e-05, 1.39916020e-05, 1.28457381e-05,\n",
              "        1.31472812e-05, 1.34488244e-05, 1.41122193e-05, 1.30869726e-05,\n",
              "        1.30869726e-05, 1.26045035e-05, 5.54839391e-06, 0.00000000e+00],\n",
              "       [0.00000000e+00, 0.00000000e+00, 6.03086294e-08, 2.41234518e-07,\n",
              "        3.61851776e-07, 4.22160406e-07, 1.20617259e-07, 0.00000000e+00,\n",
              "        0.00000000e+00, 0.00000000e+00, 0.00000000e+00, 0.00000000e+00,\n",
              "        1.42931452e-05, 1.36297502e-05, 1.30869726e-05, 1.34488244e-05,\n",
              "        1.33885157e-05, 1.32075898e-05, 1.33885157e-05, 1.33282071e-05,\n",
              "        1.30266640e-05, 1.34488244e-05, 1.38106761e-05, 1.29663553e-05,\n",
              "        1.31472812e-05, 1.53787005e-05, 4.64376446e-06, 0.00000000e+00],\n",
              "       [0.00000000e+00, 1.80925888e-07, 0.00000000e+00, 0.00000000e+00,\n",
              "        0.00000000e+00, 0.00000000e+00, 0.00000000e+00, 0.00000000e+00,\n",
              "        0.00000000e+00, 3.73913502e-06, 8.74475126e-06, 1.23029604e-05,\n",
              "        1.37503675e-05, 1.24838863e-05, 1.28457381e-05, 1.33282071e-05,\n",
              "        1.31472812e-05, 1.25441949e-05, 1.27251208e-05, 1.31472812e-05,\n",
              "        1.35091330e-05, 1.34488244e-05, 1.32075898e-05, 1.29663553e-05,\n",
              "        1.35091330e-05, 1.47153056e-05, 9.58907208e-06, 0.00000000e+00],\n",
              "       [0.00000000e+00, 0.00000000e+00, 0.00000000e+00, 0.00000000e+00,\n",
              "        1.08555533e-06, 2.65357969e-06, 4.94530761e-06, 6.45302335e-06,\n",
              "        1.13983310e-05, 1.37503675e-05, 1.32678985e-05, 1.33885157e-05,\n",
              "        1.30869726e-05, 1.36297502e-05, 1.20617259e-05, 1.23632690e-05,\n",
              "        1.27251208e-05, 1.38709848e-05, 1.35091330e-05, 1.41122193e-05,\n",
              "        1.06143188e-05, 1.13380223e-05, 1.50771574e-05, 1.49565401e-05,\n",
              "        1.40519107e-05, 1.43534538e-05, 1.29663553e-05, 0.00000000e+00],\n",
              "       [0.00000000e+00, 3.43759188e-06, 1.12777137e-05, 1.25441949e-05,\n",
              "        1.35091330e-05, 1.33282071e-05, 1.35091330e-05, 1.25441949e-05,\n",
              "        1.23029604e-05, 1.29060467e-05, 1.25441949e-05, 1.26045035e-05,\n",
              "        1.20617259e-05, 9.58907208e-06, 1.47756142e-05, 1.16395655e-05,\n",
              "        1.24235777e-05, 1.34488244e-05, 1.53787005e-05, 1.53787005e-05,\n",
              "        1.33282071e-05, 1.41122193e-05, 1.33282071e-05, 1.27251208e-05,\n",
              "        1.32678985e-05, 1.39916020e-05, 1.48359228e-05, 0.00000000e+00],\n",
              "       [1.80925888e-07, 1.21823431e-05, 1.37503675e-05, 1.35091330e-05,\n",
              "        1.33282071e-05, 1.27251208e-05, 1.27251208e-05, 1.29060467e-05,\n",
              "        1.23632690e-05, 1.23632690e-05, 1.23632690e-05, 1.32678985e-05,\n",
              "        1.44740711e-05, 4.82469035e-06, 9.04629441e-06, 1.53787005e-05,\n",
              "        1.38106761e-05, 1.33282071e-05, 1.13380223e-05, 9.28752893e-06,\n",
              "        1.15189482e-05, 1.26648122e-05, 1.23029604e-05, 1.26045035e-05,\n",
              "        1.33885157e-05, 1.37503675e-05, 1.35694416e-05, 0.00000000e+00],\n",
              "       [5.91024568e-06, 1.40519107e-05, 1.19411086e-05, 1.26648122e-05,\n",
              "        1.33885157e-05, 1.38106761e-05, 1.38106761e-05, 1.41122193e-05,\n",
              "        1.50168487e-05, 1.32678985e-05, 1.16998741e-05, 1.29663553e-05,\n",
              "        1.30869726e-05, 1.45343797e-05, 3.92006091e-06, 4.40252995e-06,\n",
              "        6.39271472e-06, 7.05610964e-06, 1.01318497e-05, 1.32075898e-05,\n",
              "        1.33282071e-05, 1.29663553e-05, 1.30869726e-05, 1.34488244e-05,\n",
              "        1.34488244e-05, 1.35091330e-05, 1.38106761e-05, 1.74895025e-06],\n",
              "       [4.52314721e-06, 1.23029604e-05, 1.27854294e-05, 1.23029604e-05,\n",
              "        1.16395655e-05, 1.23632690e-05, 1.27251208e-05, 1.35694416e-05,\n",
              "        1.30266640e-05, 1.11570964e-05, 1.18808000e-05, 1.24235777e-05,\n",
              "        1.19411086e-05, 1.28457381e-05, 1.44740711e-05, 1.17601827e-05,\n",
              "        1.36900589e-05, 1.47756142e-05, 1.44137624e-05, 1.34488244e-05,\n",
              "        1.31472812e-05, 1.27854294e-05, 1.26045035e-05, 1.33885157e-05,\n",
              "        1.32678985e-05, 1.33282071e-05, 1.38709848e-05, 4.04067817e-06],\n",
              "       [2.89481421e-06, 1.22426518e-05, 1.10364792e-05, 1.16998741e-05,\n",
              "        1.28457381e-05, 1.18808000e-05, 1.11570964e-05, 1.14586396e-05,\n",
              "        1.16998741e-05, 1.15792568e-05, 1.21823431e-05, 1.29060467e-05,\n",
              "        1.32075898e-05, 1.33282071e-05, 1.32678985e-05, 1.42328365e-05,\n",
              "        1.35694416e-05, 1.30266640e-05, 1.20014173e-05, 1.24235777e-05,\n",
              "        1.12174051e-05, 1.09158619e-05, 1.06746274e-05, 1.03730843e-05,\n",
              "        1.09158619e-05, 1.23632690e-05, 1.24235777e-05, 6.93549238e-06],\n",
              "       [0.00000000e+00, 7.35765279e-06, 1.32075898e-05, 1.16395655e-05,\n",
              "        1.07952447e-05, 1.03127756e-05, 1.10364792e-05, 1.18204914e-05,\n",
              "        1.23029604e-05, 1.26648122e-05, 1.28457381e-05, 1.24838863e-05,\n",
              "        1.27251208e-05, 1.26648122e-05, 1.20617259e-05, 1.18204914e-05,\n",
              "        1.16998741e-05, 1.15189482e-05, 1.17601827e-05, 1.15189482e-05,\n",
              "        1.19411086e-05, 1.15792568e-05, 1.06143188e-05, 9.40814619e-06,\n",
              "        1.00715411e-05, 1.06746274e-05, 1.26648122e-05, 5.54839391e-06],\n",
              "       [0.00000000e+00, 0.00000000e+00, 4.46283858e-06, 1.13983310e-05,\n",
              "        1.27854294e-05, 1.15189482e-05, 1.05540101e-05, 1.03730843e-05,\n",
              "        1.05540101e-05, 1.09158619e-05, 1.11570964e-05, 1.13380223e-05,\n",
              "        1.13983310e-05, 1.13380223e-05, 1.16395655e-05, 1.19411086e-05,\n",
              "        1.23029604e-05, 1.26045035e-05, 1.26648122e-05, 1.26648122e-05,\n",
              "        1.27251208e-05, 1.13380223e-05, 1.13380223e-05, 1.16998741e-05,\n",
              "        1.15792568e-05, 1.30266640e-05, 1.02524670e-05, 0.00000000e+00],\n",
              "       [1.20617259e-07, 0.00000000e+00, 0.00000000e+00, 0.00000000e+00,\n",
              "        3.98036954e-06, 1.20617259e-05, 1.33885157e-05, 1.42931452e-05,\n",
              "        1.44137624e-05, 1.45946883e-05, 1.48359228e-05, 1.46549969e-05,\n",
              "        1.47153056e-05, 1.33282071e-05, 1.32678985e-05, 1.16395655e-05,\n",
              "        1.15189482e-05, 1.07952447e-05, 1.09761706e-05, 1.09761706e-05,\n",
              "        1.09158619e-05, 1.06143188e-05, 1.00112325e-05, 1.01318497e-05,\n",
              "        5.97055431e-06, 3.49790051e-06, 0.00000000e+00, 0.00000000e+00],\n",
              "       [0.00000000e+00, 0.00000000e+00, 0.00000000e+00, 0.00000000e+00,\n",
              "        0.00000000e+00, 0.00000000e+00, 0.00000000e+00, 2.41234518e-06,\n",
              "        3.67882639e-06, 2.65357969e-06, 4.34222132e-06, 2.47265381e-06,\n",
              "        2.11080203e-06, 0.00000000e+00, 0.00000000e+00, 0.00000000e+00,\n",
              "        0.00000000e+00, 0.00000000e+00, 0.00000000e+00, 0.00000000e+00,\n",
              "        0.00000000e+00, 0.00000000e+00, 0.00000000e+00, 0.00000000e+00,\n",
              "        0.00000000e+00, 0.00000000e+00, 0.00000000e+00, 0.00000000e+00],\n",
              "       [0.00000000e+00, 0.00000000e+00, 0.00000000e+00, 0.00000000e+00,\n",
              "        0.00000000e+00, 0.00000000e+00, 0.00000000e+00, 0.00000000e+00,\n",
              "        0.00000000e+00, 0.00000000e+00, 0.00000000e+00, 0.00000000e+00,\n",
              "        0.00000000e+00, 0.00000000e+00, 0.00000000e+00, 0.00000000e+00,\n",
              "        0.00000000e+00, 0.00000000e+00, 0.00000000e+00, 0.00000000e+00,\n",
              "        0.00000000e+00, 0.00000000e+00, 0.00000000e+00, 0.00000000e+00,\n",
              "        0.00000000e+00, 0.00000000e+00, 0.00000000e+00, 0.00000000e+00],\n",
              "       [0.00000000e+00, 0.00000000e+00, 0.00000000e+00, 0.00000000e+00,\n",
              "        0.00000000e+00, 0.00000000e+00, 0.00000000e+00, 0.00000000e+00,\n",
              "        0.00000000e+00, 0.00000000e+00, 0.00000000e+00, 0.00000000e+00,\n",
              "        0.00000000e+00, 0.00000000e+00, 0.00000000e+00, 0.00000000e+00,\n",
              "        0.00000000e+00, 0.00000000e+00, 0.00000000e+00, 0.00000000e+00,\n",
              "        0.00000000e+00, 0.00000000e+00, 0.00000000e+00, 0.00000000e+00,\n",
              "        0.00000000e+00, 0.00000000e+00, 0.00000000e+00, 0.00000000e+00]])"
            ]
          },
          "metadata": {
            "tags": []
          },
          "execution_count": 47
        }
      ]
    },
    {
      "cell_type": "code",
      "metadata": {
        "id": "ti67RthLN_dU",
        "colab_type": "code",
        "colab": {
          "base_uri": "https://localhost:8080/",
          "height": 1000
        },
        "outputId": "e40fb3ef-031d-480a-9199-9d52da413e3b"
      },
      "source": [
        "#trainning model\n",
        "history = model.fit(train_image,train_lable,epochs=100)"
      ],
      "execution_count": null,
      "outputs": [
        {
          "output_type": "stream",
          "text": [
            "Epoch 1/100\n",
            "1875/1875 [==============================] - 3s 2ms/step - loss: 0.6936 - acc: 0.7448\n",
            "Epoch 2/100\n",
            "1875/1875 [==============================] - 3s 2ms/step - loss: 0.6931 - acc: 0.7444\n",
            "Epoch 3/100\n",
            "1875/1875 [==============================] - 3s 2ms/step - loss: 0.6931 - acc: 0.7449\n",
            "Epoch 4/100\n",
            "1875/1875 [==============================] - 3s 2ms/step - loss: 0.6926 - acc: 0.7457\n",
            "Epoch 5/100\n",
            "1875/1875 [==============================] - 3s 2ms/step - loss: 0.6922 - acc: 0.7461\n",
            "Epoch 6/100\n",
            "1875/1875 [==============================] - 3s 2ms/step - loss: 0.6918 - acc: 0.7458\n",
            "Epoch 7/100\n",
            "1875/1875 [==============================] - 3s 2ms/step - loss: 0.6918 - acc: 0.7458\n",
            "Epoch 8/100\n",
            "1875/1875 [==============================] - 3s 2ms/step - loss: 0.6917 - acc: 0.7461\n",
            "Epoch 9/100\n",
            "1875/1875 [==============================] - 3s 2ms/step - loss: 0.6910 - acc: 0.7458\n",
            "Epoch 10/100\n",
            "1875/1875 [==============================] - 3s 2ms/step - loss: 0.6908 - acc: 0.7455\n",
            "Epoch 11/100\n",
            "1875/1875 [==============================] - 3s 2ms/step - loss: 0.6906 - acc: 0.7455\n",
            "Epoch 12/100\n",
            "1875/1875 [==============================] - 3s 2ms/step - loss: 0.6901 - acc: 0.7461\n",
            "Epoch 13/100\n",
            "1875/1875 [==============================] - 3s 2ms/step - loss: 0.6901 - acc: 0.7459\n",
            "Epoch 14/100\n",
            "1875/1875 [==============================] - 3s 2ms/step - loss: 0.6897 - acc: 0.7464\n",
            "Epoch 15/100\n",
            "1875/1875 [==============================] - 3s 2ms/step - loss: 0.6896 - acc: 0.7459\n",
            "Epoch 16/100\n",
            "1875/1875 [==============================] - 3s 2ms/step - loss: 0.6890 - acc: 0.7466\n",
            "Epoch 17/100\n",
            "1875/1875 [==============================] - 3s 2ms/step - loss: 0.6888 - acc: 0.7465\n",
            "Epoch 18/100\n",
            "1875/1875 [==============================] - 3s 2ms/step - loss: 0.6886 - acc: 0.7468\n",
            "Epoch 19/100\n",
            "1875/1875 [==============================] - 3s 2ms/step - loss: 0.6882 - acc: 0.7463\n",
            "Epoch 20/100\n",
            "1875/1875 [==============================] - 3s 2ms/step - loss: 0.6881 - acc: 0.7465\n",
            "Epoch 21/100\n",
            "1875/1875 [==============================] - 3s 2ms/step - loss: 0.6877 - acc: 0.7470\n",
            "Epoch 22/100\n",
            "1875/1875 [==============================] - 3s 2ms/step - loss: 0.6874 - acc: 0.7474\n",
            "Epoch 23/100\n",
            "1875/1875 [==============================] - 3s 2ms/step - loss: 0.6877 - acc: 0.7475\n",
            "Epoch 24/100\n",
            "1875/1875 [==============================] - 3s 2ms/step - loss: 0.6873 - acc: 0.7474\n",
            "Epoch 25/100\n",
            "1875/1875 [==============================] - 3s 2ms/step - loss: 0.6867 - acc: 0.7474\n",
            "Epoch 26/100\n",
            "1875/1875 [==============================] - 3s 2ms/step - loss: 0.6862 - acc: 0.7476\n",
            "Epoch 27/100\n",
            "1875/1875 [==============================] - 3s 2ms/step - loss: 0.6862 - acc: 0.7480\n",
            "Epoch 28/100\n",
            "1875/1875 [==============================] - 3s 2ms/step - loss: 0.6859 - acc: 0.7476\n",
            "Epoch 29/100\n",
            "1875/1875 [==============================] - 3s 2ms/step - loss: 0.6856 - acc: 0.7478\n",
            "Epoch 30/100\n",
            "1875/1875 [==============================] - 3s 2ms/step - loss: 0.6854 - acc: 0.7481\n",
            "Epoch 31/100\n",
            "1875/1875 [==============================] - 3s 2ms/step - loss: 0.6852 - acc: 0.7483\n",
            "Epoch 32/100\n",
            "1875/1875 [==============================] - 3s 2ms/step - loss: 0.6848 - acc: 0.7491\n",
            "Epoch 33/100\n",
            "1875/1875 [==============================] - 3s 2ms/step - loss: 0.6844 - acc: 0.7479\n",
            "Epoch 34/100\n",
            "1875/1875 [==============================] - 3s 2ms/step - loss: 0.6844 - acc: 0.7481\n",
            "Epoch 35/100\n",
            "1875/1875 [==============================] - 3s 2ms/step - loss: 0.6839 - acc: 0.7483\n",
            "Epoch 36/100\n",
            "1875/1875 [==============================] - 3s 2ms/step - loss: 0.6838 - acc: 0.7479\n",
            "Epoch 37/100\n",
            "1875/1875 [==============================] - 3s 2ms/step - loss: 0.6835 - acc: 0.7486\n",
            "Epoch 38/100\n",
            "1875/1875 [==============================] - 3s 2ms/step - loss: 0.6831 - acc: 0.7494\n",
            "Epoch 39/100\n",
            "1875/1875 [==============================] - 3s 2ms/step - loss: 0.6832 - acc: 0.7481\n",
            "Epoch 40/100\n",
            "1875/1875 [==============================] - 3s 2ms/step - loss: 0.6830 - acc: 0.7492\n",
            "Epoch 41/100\n",
            "1875/1875 [==============================] - 3s 2ms/step - loss: 0.6822 - acc: 0.7498\n",
            "Epoch 42/100\n",
            "1875/1875 [==============================] - 3s 2ms/step - loss: 0.6826 - acc: 0.7485\n",
            "Epoch 43/100\n",
            "1875/1875 [==============================] - 3s 2ms/step - loss: 0.6821 - acc: 0.7494\n",
            "Epoch 44/100\n",
            "1875/1875 [==============================] - 4s 2ms/step - loss: 0.6819 - acc: 0.7487\n",
            "Epoch 45/100\n",
            "1875/1875 [==============================] - 4s 2ms/step - loss: 0.6814 - acc: 0.7490\n",
            "Epoch 46/100\n",
            "1875/1875 [==============================] - 4s 2ms/step - loss: 0.6814 - acc: 0.7499\n",
            "Epoch 47/100\n",
            "1875/1875 [==============================] - 3s 2ms/step - loss: 0.6810 - acc: 0.7488\n",
            "Epoch 48/100\n",
            "1875/1875 [==============================] - 3s 2ms/step - loss: 0.6808 - acc: 0.7495\n",
            "Epoch 49/100\n",
            "1875/1875 [==============================] - 3s 2ms/step - loss: 0.6805 - acc: 0.7506\n",
            "Epoch 50/100\n",
            "1875/1875 [==============================] - 3s 2ms/step - loss: 0.6806 - acc: 0.7498\n",
            "Epoch 51/100\n",
            "1875/1875 [==============================] - 3s 2ms/step - loss: 0.6800 - acc: 0.7493\n",
            "Epoch 52/100\n",
            "1875/1875 [==============================] - 3s 2ms/step - loss: 0.6796 - acc: 0.7502\n",
            "Epoch 53/100\n",
            "1875/1875 [==============================] - 3s 2ms/step - loss: 0.6798 - acc: 0.7492\n",
            "Epoch 54/100\n",
            "1875/1875 [==============================] - 3s 2ms/step - loss: 0.6793 - acc: 0.7501\n",
            "Epoch 55/100\n",
            "1875/1875 [==============================] - 3s 2ms/step - loss: 0.6794 - acc: 0.7502\n",
            "Epoch 56/100\n",
            "1875/1875 [==============================] - 3s 2ms/step - loss: 0.6788 - acc: 0.7502\n",
            "Epoch 57/100\n",
            "1875/1875 [==============================] - 3s 2ms/step - loss: 0.6789 - acc: 0.7510\n",
            "Epoch 58/100\n",
            "1875/1875 [==============================] - 3s 2ms/step - loss: 0.6785 - acc: 0.7507\n",
            "Epoch 59/100\n",
            "1875/1875 [==============================] - 3s 2ms/step - loss: 0.6782 - acc: 0.7504\n",
            "Epoch 60/100\n",
            "1875/1875 [==============================] - 3s 2ms/step - loss: 0.6778 - acc: 0.7509\n",
            "Epoch 61/100\n",
            "1875/1875 [==============================] - 3s 2ms/step - loss: 0.6781 - acc: 0.7509\n",
            "Epoch 62/100\n",
            "1875/1875 [==============================] - 3s 2ms/step - loss: 0.6774 - acc: 0.7513\n",
            "Epoch 63/100\n",
            "1875/1875 [==============================] - 3s 2ms/step - loss: 0.6772 - acc: 0.7514\n",
            "Epoch 64/100\n",
            "1875/1875 [==============================] - 3s 2ms/step - loss: 0.6774 - acc: 0.7515\n",
            "Epoch 65/100\n",
            "1875/1875 [==============================] - 3s 2ms/step - loss: 0.6772 - acc: 0.7508\n",
            "Epoch 66/100\n",
            "1875/1875 [==============================] - 3s 2ms/step - loss: 0.6770 - acc: 0.7513\n",
            "Epoch 67/100\n",
            "1875/1875 [==============================] - 3s 2ms/step - loss: 0.6764 - acc: 0.7515\n",
            "Epoch 68/100\n",
            "1875/1875 [==============================] - 3s 2ms/step - loss: 0.6762 - acc: 0.7514\n",
            "Epoch 69/100\n",
            "1875/1875 [==============================] - 3s 2ms/step - loss: 0.6760 - acc: 0.7519\n",
            "Epoch 70/100\n",
            "1875/1875 [==============================] - 3s 2ms/step - loss: 0.6759 - acc: 0.7512\n",
            "Epoch 71/100\n",
            "1875/1875 [==============================] - 3s 2ms/step - loss: 0.6758 - acc: 0.7515\n",
            "Epoch 72/100\n",
            "1875/1875 [==============================] - 3s 2ms/step - loss: 0.6757 - acc: 0.7516\n",
            "Epoch 73/100\n",
            "1875/1875 [==============================] - 3s 2ms/step - loss: 0.6749 - acc: 0.7510\n",
            "Epoch 74/100\n",
            "1875/1875 [==============================] - 3s 2ms/step - loss: 0.6749 - acc: 0.7521\n",
            "Epoch 75/100\n",
            "1875/1875 [==============================] - 3s 2ms/step - loss: 0.6747 - acc: 0.7514\n",
            "Epoch 76/100\n",
            "1875/1875 [==============================] - 3s 2ms/step - loss: 0.6743 - acc: 0.7518\n",
            "Epoch 77/100\n",
            "1875/1875 [==============================] - 3s 2ms/step - loss: 0.6745 - acc: 0.7524\n",
            "Epoch 78/100\n",
            "1875/1875 [==============================] - 3s 2ms/step - loss: 0.6742 - acc: 0.7519\n",
            "Epoch 79/100\n",
            "1875/1875 [==============================] - 3s 2ms/step - loss: 0.6737 - acc: 0.7531\n",
            "Epoch 80/100\n",
            "1875/1875 [==============================] - 3s 2ms/step - loss: 0.6738 - acc: 0.7530\n",
            "Epoch 81/100\n",
            "1875/1875 [==============================] - 3s 2ms/step - loss: 0.6734 - acc: 0.7527\n",
            "Epoch 82/100\n",
            "1875/1875 [==============================] - 3s 2ms/step - loss: 0.6733 - acc: 0.7526\n",
            "Epoch 83/100\n",
            "1875/1875 [==============================] - 4s 2ms/step - loss: 0.6731 - acc: 0.7527\n",
            "Epoch 84/100\n",
            "1875/1875 [==============================] - 4s 2ms/step - loss: 0.6727 - acc: 0.7529\n",
            "Epoch 85/100\n",
            "1875/1875 [==============================] - 4s 2ms/step - loss: 0.6728 - acc: 0.7526\n",
            "Epoch 86/100\n",
            "1875/1875 [==============================] - 3s 2ms/step - loss: 0.6724 - acc: 0.7523\n",
            "Epoch 87/100\n",
            "1875/1875 [==============================] - 3s 2ms/step - loss: 0.6723 - acc: 0.7529\n",
            "Epoch 88/100\n",
            "1875/1875 [==============================] - 3s 2ms/step - loss: 0.6721 - acc: 0.7533\n",
            "Epoch 89/100\n",
            "1875/1875 [==============================] - 3s 2ms/step - loss: 0.6720 - acc: 0.7532\n",
            "Epoch 90/100\n",
            "1875/1875 [==============================] - 3s 2ms/step - loss: 0.6717 - acc: 0.7532\n",
            "Epoch 91/100\n",
            "1875/1875 [==============================] - 3s 2ms/step - loss: 0.6716 - acc: 0.7535\n",
            "Epoch 92/100\n",
            "1875/1875 [==============================] - 3s 2ms/step - loss: 0.6711 - acc: 0.7525\n",
            "Epoch 93/100\n",
            "1875/1875 [==============================] - 3s 2ms/step - loss: 0.6713 - acc: 0.7528\n",
            "Epoch 94/100\n",
            "1875/1875 [==============================] - 3s 2ms/step - loss: 0.6707 - acc: 0.7533\n",
            "Epoch 95/100\n",
            "1875/1875 [==============================] - 3s 2ms/step - loss: 0.6705 - acc: 0.7527\n",
            "Epoch 96/100\n",
            "1875/1875 [==============================] - 3s 2ms/step - loss: 0.6704 - acc: 0.7537\n",
            "Epoch 97/100\n",
            "1875/1875 [==============================] - 3s 2ms/step - loss: 0.6701 - acc: 0.7535\n",
            "Epoch 98/100\n",
            "1875/1875 [==============================] - 3s 2ms/step - loss: 0.6701 - acc: 0.7530\n",
            "Epoch 99/100\n",
            "1875/1875 [==============================] - 3s 2ms/step - loss: 0.6699 - acc: 0.7538\n",
            "Epoch 100/100\n",
            "1875/1875 [==============================] - 3s 2ms/step - loss: 0.6697 - acc: 0.7543\n"
          ],
          "name": "stdout"
        }
      ]
    },
    {
      "cell_type": "code",
      "metadata": {
        "id": "0yUkuGenZrd9",
        "colab_type": "code",
        "colab": {
          "base_uri": "https://localhost:8080/",
          "height": 51
        },
        "outputId": "764ae189-1355-4215-bb7c-1dce7b17a086"
      },
      "source": [
        "model.evaluate(test_image,test_lable)"
      ],
      "execution_count": null,
      "outputs": [
        {
          "output_type": "stream",
          "text": [
            "313/313 [==============================] - 1s 2ms/step - loss: 0.7089 - acc: 0.7405\n"
          ],
          "name": "stdout"
        },
        {
          "output_type": "execute_result",
          "data": {
            "text/plain": [
              "[0.7089467644691467, 0.7404999732971191]"
            ]
          },
          "metadata": {
            "tags": []
          },
          "execution_count": 53
        }
      ]
    }
  ]
}