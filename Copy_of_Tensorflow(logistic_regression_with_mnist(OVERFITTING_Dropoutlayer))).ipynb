{
  "nbformat": 4,
  "nbformat_minor": 0,
  "metadata": {
    "colab": {
      "name": "Copy of Tensorflow(logistic_regression_with_mnist(OVERFITTING_Dropoutlayer))).ipynb",
      "provenance": [],
      "collapsed_sections": [],
      "authorship_tag": "ABX9TyP4IDpSJNQB6X2CsQJ3ND5f",
      "include_colab_link": true
    },
    "kernelspec": {
      "name": "python3",
      "display_name": "Python 3"
    }
  },
  "cells": [
    {
      "cell_type": "markdown",
      "metadata": {
        "id": "view-in-github",
        "colab_type": "text"
      },
      "source": [
        "<a href=\"https://colab.research.google.com/github/RyanTokManMokMTM/Tensorflow/blob/master/Copy_of_Tensorflow(logistic_regression_with_mnist(OVERFITTING_Dropoutlayer))).ipynb\" target=\"_parent\"><img src=\"https://colab.research.google.com/assets/colab-badge.svg\" alt=\"Open In Colab\"/></a>"
      ]
    },
    {
      "cell_type": "code",
      "metadata": {
        "id": "_WTOKmERaVdd",
        "colab_type": "code",
        "colab": {}
      },
      "source": [
        "import numpy as np\n",
        "import pandas as pd\n",
        "from matplotlib import pyplot as plt\n",
        "import tensorflow as tf\n",
        "%matplotlib inline"
      ],
      "execution_count": null,
      "outputs": []
    },
    {
      "cell_type": "code",
      "metadata": {
        "id": "V9VilJnNZD8u",
        "colab_type": "code",
        "colab": {
          "base_uri": "https://localhost:8080/",
          "height": 153
        },
        "outputId": "0a5d92b8-357e-448d-a022-5eca8503bf85"
      },
      "source": [
        "(train_image,train_lable),(test_image,test_lable) =tf.keras.datasets.fashion_mnist.load_data()"
      ],
      "execution_count": null,
      "outputs": [
        {
          "output_type": "stream",
          "text": [
            "Downloading data from https://storage.googleapis.com/tensorflow/tf-keras-datasets/train-labels-idx1-ubyte.gz\n",
            "32768/29515 [=================================] - 0s 0us/step\n",
            "Downloading data from https://storage.googleapis.com/tensorflow/tf-keras-datasets/train-images-idx3-ubyte.gz\n",
            "26427392/26421880 [==============================] - 0s 0us/step\n",
            "Downloading data from https://storage.googleapis.com/tensorflow/tf-keras-datasets/t10k-labels-idx1-ubyte.gz\n",
            "8192/5148 [===============================================] - 0s 0us/step\n",
            "Downloading data from https://storage.googleapis.com/tensorflow/tf-keras-datasets/t10k-images-idx3-ubyte.gz\n",
            "4423680/4422102 [==============================] - 0s 0us/step\n"
          ],
          "name": "stdout"
        }
      ]
    },
    {
      "cell_type": "code",
      "metadata": {
        "id": "_Maa8mVHZed1",
        "colab_type": "code",
        "colab": {
          "base_uri": "https://localhost:8080/",
          "height": 34
        },
        "outputId": "b797c616-df07-44db-b97b-4db25178e963"
      },
      "source": [
        "train_image.shape"
      ],
      "execution_count": null,
      "outputs": [
        {
          "output_type": "execute_result",
          "data": {
            "text/plain": [
              "(60000, 28, 28)"
            ]
          },
          "metadata": {
            "tags": []
          },
          "execution_count": 4
        }
      ]
    },
    {
      "cell_type": "code",
      "metadata": {
        "id": "OZ8lPHWzZ4mk",
        "colab_type": "code",
        "colab": {
          "base_uri": "https://localhost:8080/",
          "height": 34
        },
        "outputId": "ebdb50f3-296b-4e53-befb-e67dccf58f04"
      },
      "source": [
        "train_lable.shape"
      ],
      "execution_count": null,
      "outputs": [
        {
          "output_type": "execute_result",
          "data": {
            "text/plain": [
              "(60000,)"
            ]
          },
          "metadata": {
            "tags": []
          },
          "execution_count": 5
        }
      ]
    },
    {
      "cell_type": "code",
      "metadata": {
        "id": "_lCn98TOaAEE",
        "colab_type": "code",
        "colab": {}
      },
      "source": [
        "model = tf.keras.Sequential()"
      ],
      "execution_count": null,
      "outputs": []
    },
    {
      "cell_type": "code",
      "metadata": {
        "id": "a4upvmsBaD38",
        "colab_type": "code",
        "colab": {}
      },
      "source": [
        "model.add(tf.keras.layers.Flatten(input_shape=(28,28)))\n",
        "model.add(tf.keras.layers.Dense(units=128,activation=\"relu\"))\n",
        "model.add(tf.keras.layers.Dense(units = 128,activation=\"relu\"))\n",
        "model.add(tf.keras.layers.Dense(units=128,activation=\"relu\"))\n",
        "model.add(tf.keras.layers.Dense(units=10,activation=\"softmax\"))"
      ],
      "execution_count": null,
      "outputs": []
    },
    {
      "cell_type": "code",
      "metadata": {
        "id": "20mIqVTr92Te",
        "colab_type": "code",
        "colab": {
          "base_uri": "https://localhost:8080/",
          "height": 323
        },
        "outputId": "171a46f7-45eb-4543-a066-10bd0a8b01d3"
      },
      "source": [
        "model.summary()"
      ],
      "execution_count": null,
      "outputs": [
        {
          "output_type": "stream",
          "text": [
            "Model: \"sequential_1\"\n",
            "_________________________________________________________________\n",
            "Layer (type)                 Output Shape              Param #   \n",
            "=================================================================\n",
            "flatten_3 (Flatten)          (None, 784)               0         \n",
            "_________________________________________________________________\n",
            "dense_10 (Dense)             (None, 128)               100480    \n",
            "_________________________________________________________________\n",
            "dense_11 (Dense)             (None, 128)               16512     \n",
            "_________________________________________________________________\n",
            "dense_12 (Dense)             (None, 128)               16512     \n",
            "_________________________________________________________________\n",
            "dense_13 (Dense)             (None, 10)                1290      \n",
            "=================================================================\n",
            "Total params: 134,794\n",
            "Trainable params: 134,794\n",
            "Non-trainable params: 0\n",
            "_________________________________________________________________\n"
          ],
          "name": "stdout"
        }
      ]
    },
    {
      "cell_type": "code",
      "metadata": {
        "id": "4zF8wrOVasXW",
        "colab_type": "code",
        "colab": {}
      },
      "source": [
        "model.compile(optimizer=\"adam\",loss=\"sparse_categorical_crossentropy\",metrics=[\"acc\"])\n",
        "#Acc 准确率"
      ],
      "execution_count": null,
      "outputs": []
    },
    {
      "cell_type": "code",
      "metadata": {
        "id": "2hEK5TRYbGUs",
        "colab_type": "code",
        "colab": {}
      },
      "source": [
        "train_image =train_image/255\n",
        "test_image = test_image/255"
      ],
      "execution_count": null,
      "outputs": []
    },
    {
      "cell_type": "code",
      "metadata": {
        "id": "Xds9BXnPbPCE",
        "colab_type": "code",
        "colab": {
          "base_uri": "https://localhost:8080/",
          "height": 374
        },
        "outputId": "cde65e21-ee21-44a0-e774-4a949777a39b"
      },
      "source": [
        "model.fit(train_image,train_lable,epochs=10)"
      ],
      "execution_count": null,
      "outputs": [
        {
          "output_type": "stream",
          "text": [
            "Epoch 1/10\n",
            "1875/1875 [==============================] - 4s 2ms/step - loss: 0.4925 - acc: 0.8223\n",
            "Epoch 2/10\n",
            "1875/1875 [==============================] - 4s 2ms/step - loss: 0.3643 - acc: 0.8643\n",
            "Epoch 3/10\n",
            "1875/1875 [==============================] - 4s 2ms/step - loss: 0.3305 - acc: 0.8779\n",
            "Epoch 4/10\n",
            "1875/1875 [==============================] - 4s 2ms/step - loss: 0.3097 - acc: 0.8848\n",
            "Epoch 5/10\n",
            "1875/1875 [==============================] - 5s 3ms/step - loss: 0.2894 - acc: 0.8927\n",
            "Epoch 6/10\n",
            "1875/1875 [==============================] - 5s 2ms/step - loss: 0.2762 - acc: 0.8963\n",
            "Epoch 7/10\n",
            "1875/1875 [==============================] - 4s 2ms/step - loss: 0.2647 - acc: 0.9003\n",
            "Epoch 8/10\n",
            "1875/1875 [==============================] - 4s 2ms/step - loss: 0.2531 - acc: 0.9051\n",
            "Epoch 9/10\n",
            "1875/1875 [==============================] - 4s 2ms/step - loss: 0.2445 - acc: 0.9065\n",
            "Epoch 10/10\n",
            "1875/1875 [==============================] - 4s 2ms/step - loss: 0.2360 - acc: 0.9115\n"
          ],
          "name": "stdout"
        },
        {
          "output_type": "execute_result",
          "data": {
            "text/plain": [
              "<tensorflow.python.keras.callbacks.History at 0x7f40579a7e80>"
            ]
          },
          "metadata": {
            "tags": []
          },
          "execution_count": 19
        }
      ]
    },
    {
      "cell_type": "code",
      "metadata": {
        "id": "WZT2rjkWb-lO",
        "colab_type": "code",
        "colab": {
          "base_uri": "https://localhost:8080/",
          "height": 51
        },
        "outputId": "250c1d6a-98b9-4133-9203-6c2e46a6da6b"
      },
      "source": [
        "model.evaluate(test_image,test_lable)"
      ],
      "execution_count": null,
      "outputs": [
        {
          "output_type": "stream",
          "text": [
            "313/313 [==============================] - 0s 1ms/step - loss: 0.3315 - acc: 0.8868\n"
          ],
          "name": "stdout"
        },
        {
          "output_type": "execute_result",
          "data": {
            "text/plain": [
              "[0.33152535557746887, 0.8867999911308289]"
            ]
          },
          "metadata": {
            "tags": []
          },
          "execution_count": 20
        }
      ]
    },
    {
      "cell_type": "markdown",
      "metadata": {
        "id": "iiS0WKsohL0m",
        "colab_type": "text"
      },
      "source": [
        "**ONE HOT DATA: **\n",
        "\n",
        "Suppose data is between 0-5\n",
        "Normal : 0,1,2,3,4,5\n",
        "\n",
        "Change that format to One Hot\n",
        "==>\n",
        "\n",
        "0 = [0,0,0,0,0]\n",
        "\n",
        "1 = [1,0,0,0,0]\n",
        "\n",
        "2 = [0,1,0,0,0]\n",
        "\n",
        "3 = [0,0,1,0,0]\n",
        "\n",
        "4 = [0,0,0,1,0]\n",
        "\n",
        "5 = [0,0,0,0,1]"
      ]
    },
    {
      "cell_type": "code",
      "metadata": {
        "id": "Z8L3q6ikh8Y3",
        "colab_type": "code",
        "colab": {}
      },
      "source": [
        "#Change to One hot\n",
        "Train_lable_One_Hot = tf.keras.utils.to_categorical(train_lable)"
      ],
      "execution_count": null,
      "outputs": []
    },
    {
      "cell_type": "code",
      "metadata": {
        "id": "3aFf4zS9iKDN",
        "colab_type": "code",
        "colab": {
          "base_uri": "https://localhost:8080/",
          "height": 136
        },
        "outputId": "b2fd2d9b-f1a1-4786-b1ca-8a7dac15d762"
      },
      "source": [
        "Train_lable_One_Hot #One Hot"
      ],
      "execution_count": null,
      "outputs": [
        {
          "output_type": "execute_result",
          "data": {
            "text/plain": [
              "array([[0., 0., 0., ..., 0., 0., 1.],\n",
              "       [1., 0., 0., ..., 0., 0., 0.],\n",
              "       [1., 0., 0., ..., 0., 0., 0.],\n",
              "       ...,\n",
              "       [0., 0., 0., ..., 0., 0., 0.],\n",
              "       [1., 0., 0., ..., 0., 0., 0.],\n",
              "       [0., 0., 0., ..., 0., 0., 0.]], dtype=float32)"
            ]
          },
          "metadata": {
            "tags": []
          },
          "execution_count": 22
        }
      ]
    },
    {
      "cell_type": "code",
      "metadata": {
        "id": "y7g7LtHhiS8F",
        "colab_type": "code",
        "colab": {
          "base_uri": "https://localhost:8080/",
          "height": 34
        },
        "outputId": "4c430af5-a17e-419d-c6f1-3c0530ba6999"
      },
      "source": [
        "train_lable# Normal"
      ],
      "execution_count": null,
      "outputs": [
        {
          "output_type": "execute_result",
          "data": {
            "text/plain": [
              "array([9, 0, 0, ..., 3, 0, 5], dtype=uint8)"
            ]
          },
          "metadata": {
            "tags": []
          },
          "execution_count": 23
        }
      ]
    },
    {
      "cell_type": "code",
      "metadata": {
        "id": "gXiUSrSWiZ7u",
        "colab_type": "code",
        "colab": {}
      },
      "source": [
        "Test_lable_One_Hot = tf.keras.utils.to_categorical(test_lable)"
      ],
      "execution_count": null,
      "outputs": []
    },
    {
      "cell_type": "code",
      "metadata": {
        "id": "OhGJH0WRinvl",
        "colab_type": "code",
        "colab": {
          "base_uri": "https://localhost:8080/",
          "height": 136
        },
        "outputId": "9b7ce8a7-59a9-41ab-99fa-7b2407f55e3c"
      },
      "source": [
        "Test_lable_One_Hot"
      ],
      "execution_count": null,
      "outputs": [
        {
          "output_type": "execute_result",
          "data": {
            "text/plain": [
              "array([[0., 0., 0., ..., 0., 0., 1.],\n",
              "       [0., 0., 1., ..., 0., 0., 0.],\n",
              "       [0., 1., 0., ..., 0., 0., 0.],\n",
              "       ...,\n",
              "       [0., 0., 0., ..., 0., 1., 0.],\n",
              "       [0., 1., 0., ..., 0., 0., 0.],\n",
              "       [0., 0., 0., ..., 0., 0., 0.]], dtype=float32)"
            ]
          },
          "metadata": {
            "tags": []
          },
          "execution_count": 25
        }
      ]
    },
    {
      "cell_type": "code",
      "metadata": {
        "id": "SDPjvcuriv6u",
        "colab_type": "code",
        "colab": {
          "base_uri": "https://localhost:8080/",
          "height": 34
        },
        "outputId": "7de37339-ae3e-4861-f00b-31b2964fd819"
      },
      "source": [
        "test_lable"
      ],
      "execution_count": null,
      "outputs": [
        {
          "output_type": "execute_result",
          "data": {
            "text/plain": [
              "array([9, 2, 1, ..., 8, 1, 5], dtype=uint8)"
            ]
          },
          "metadata": {
            "tags": []
          },
          "execution_count": 26
        }
      ]
    },
    {
      "cell_type": "code",
      "metadata": {
        "id": "9t4nr22eixPV",
        "colab_type": "code",
        "colab": {
          "base_uri": "https://localhost:8080/",
          "height": 34
        },
        "outputId": "5f8e8301-4c8e-4bc3-aa11-cf1fbf19aac1"
      },
      "source": [
        "#Example \n",
        "Test_lable_One_Hot.shape \n",
        "#10000 *[10] each list is included 10th number which's between 0 and 10"
      ],
      "execution_count": null,
      "outputs": [
        {
          "output_type": "execute_result",
          "data": {
            "text/plain": [
              "(10000, 10)"
            ]
          },
          "metadata": {
            "tags": []
          },
          "execution_count": 27
        }
      ]
    },
    {
      "cell_type": "markdown",
      "metadata": {
        "id": "AiUoeVewjJWG",
        "colab_type": "text"
      },
      "source": [
        "**Using One Hot Data To Train The Model**"
      ]
    },
    {
      "cell_type": "code",
      "metadata": {
        "id": "tpB7fqv7jQe9",
        "colab_type": "code",
        "colab": {}
      },
      "source": [
        "model = tf.keras.Sequential()\n",
        "model.add(tf.keras.layers.Flatten(input_shape=(28,28)))\n",
        "model.add(tf.keras.layers.Dense(units=128,activation=\"relu\"))\n",
        "model.add(tf.keras.layers.Dense(units=128,activation=\"relu\"))\n",
        "model.add(tf.keras.layers.Dense(units=128,activation=\"relu\"))\n",
        "model.add(tf.keras.layers.Dense(units=10,activation=\"softmax\"))"
      ],
      "execution_count": null,
      "outputs": []
    },
    {
      "cell_type": "code",
      "metadata": {
        "id": "x_1K26ls_II9",
        "colab_type": "code",
        "colab": {
          "base_uri": "https://localhost:8080/",
          "height": 323
        },
        "outputId": "509c9c32-39b6-47c5-c9cc-4cfe23bb4f49"
      },
      "source": [
        "model.summary()"
      ],
      "execution_count": null,
      "outputs": [
        {
          "output_type": "stream",
          "text": [
            "Model: \"sequential_2\"\n",
            "_________________________________________________________________\n",
            "Layer (type)                 Output Shape              Param #   \n",
            "=================================================================\n",
            "flatten_4 (Flatten)          (None, 784)               0         \n",
            "_________________________________________________________________\n",
            "dense_14 (Dense)             (None, 128)               100480    \n",
            "_________________________________________________________________\n",
            "dense_15 (Dense)             (None, 128)               16512     \n",
            "_________________________________________________________________\n",
            "dense_16 (Dense)             (None, 128)               16512     \n",
            "_________________________________________________________________\n",
            "dense_17 (Dense)             (None, 10)                1290      \n",
            "=================================================================\n",
            "Total params: 134,794\n",
            "Trainable params: 134,794\n",
            "Non-trainable params: 0\n",
            "_________________________________________________________________\n"
          ],
          "name": "stdout"
        }
      ]
    },
    {
      "cell_type": "code",
      "metadata": {
        "id": "TbZ_0_uVkQT4",
        "colab_type": "code",
        "colab": {}
      },
      "source": [
        "model.compile(optimizer=\"adam\",\n",
        "              loss = \"categorical_crossentropy\",\n",
        "              metrics = [\"acc\"])"
      ],
      "execution_count": null,
      "outputs": []
    },
    {
      "cell_type": "code",
      "metadata": {
        "id": "eDjFh2wmkz9i",
        "colab_type": "code",
        "colab": {
          "base_uri": "https://localhost:8080/",
          "height": 377
        },
        "outputId": "7c60e12b-713e-4552-9d29-77012b5d3bfe"
      },
      "source": [
        "history = model.fit(train_image,Train_lable_One_Hot,epochs=10,validation_data=(test_image,Test_lable_One_Hot))"
      ],
      "execution_count": null,
      "outputs": [
        {
          "output_type": "stream",
          "text": [
            "Epoch 1/10\n",
            "1875/1875 [==============================] - 4s 2ms/step - loss: 0.2150 - acc: 0.9176 - val_loss: 0.3230 - val_acc: 0.8894\n",
            "Epoch 2/10\n",
            "1875/1875 [==============================] - 4s 2ms/step - loss: 0.2056 - acc: 0.9211 - val_loss: 0.3526 - val_acc: 0.8889\n",
            "Epoch 3/10\n",
            "1875/1875 [==============================] - 4s 2ms/step - loss: 0.1989 - acc: 0.9237 - val_loss: 0.3601 - val_acc: 0.8898\n",
            "Epoch 4/10\n",
            "1875/1875 [==============================] - 4s 2ms/step - loss: 0.1928 - acc: 0.9268 - val_loss: 0.3398 - val_acc: 0.8878\n",
            "Epoch 5/10\n",
            "1875/1875 [==============================] - 4s 2ms/step - loss: 0.1893 - acc: 0.9266 - val_loss: 0.3839 - val_acc: 0.8871\n",
            "Epoch 6/10\n",
            "1875/1875 [==============================] - 4s 2ms/step - loss: 0.1838 - acc: 0.9290 - val_loss: 0.3844 - val_acc: 0.8842\n",
            "Epoch 7/10\n",
            "1875/1875 [==============================] - 4s 2ms/step - loss: 0.1806 - acc: 0.9297 - val_loss: 0.3943 - val_acc: 0.8800\n",
            "Epoch 8/10\n",
            "1875/1875 [==============================] - 4s 2ms/step - loss: 0.1725 - acc: 0.9338 - val_loss: 0.3832 - val_acc: 0.8911\n",
            "Epoch 9/10\n",
            "1875/1875 [==============================] - 4s 2ms/step - loss: 0.1699 - acc: 0.9335 - val_loss: 0.3798 - val_acc: 0.8903\n",
            "Epoch 10/10\n",
            "1875/1875 [==============================] - 4s 2ms/step - loss: 0.1669 - acc: 0.9354 - val_loss: 0.4039 - val_acc: 0.8843\n"
          ],
          "name": "stdout"
        }
      ]
    },
    {
      "cell_type": "code",
      "metadata": {
        "id": "v8f37WVO__OO",
        "colab_type": "code",
        "colab": {
          "base_uri": "https://localhost:8080/",
          "height": 282
        },
        "outputId": "26ee1bbd-0bd5-4752-b8f7-03f79f114ffc"
      },
      "source": [
        "plt.plot(history.epoch,history.history.get(\"loss\"),label = \"loss\")\n",
        "plt.plot(history.epoch,history.history.get(\"val_loss\"),label = \"val_loss\")\n",
        "plt.legend() #merge them togeher"
      ],
      "execution_count": null,
      "outputs": [
        {
          "output_type": "execute_result",
          "data": {
            "text/plain": [
              "<matplotlib.legend.Legend at 0x7f4055369ba8>"
            ]
          },
          "metadata": {
            "tags": []
          },
          "execution_count": 45
        },
        {
          "output_type": "display_data",
          "data": {
            "image/png": "[encoded data removed]",
            "text/plain": [
              "<Figure size 432x288 with 1 Axes>"
            ]
          },
          "metadata": {
            "tags": [],
            "needs_background": "light"
          }
        }
      ]
    },
    {
      "cell_type": "code",
      "metadata": {
        "id": "AeEqS3OyDctN",
        "colab_type": "code",
        "colab": {
          "base_uri": "https://localhost:8080/",
          "height": 282
        },
        "outputId": "e7b8fc3f-9a6b-4b9d-bef8-1ebfb68c2e7c"
      },
      "source": [
        "plt.plot(history.epoch,history.history.get(\"acc\"),label = \"acc\")\n",
        "plt.plot(history.epoch,history.history.get(\"val_acc\"),label = \"val_acc\")\n",
        "plt.legend()"
      ],
      "execution_count": null,
      "outputs": [
        {
          "output_type": "execute_result",
          "data": {
            "text/plain": [
              "<matplotlib.legend.Legend at 0x7f404fb588d0>"
            ]
          },
          "metadata": {
            "tags": []
          },
          "execution_count": 46
        },
        {
          "output_type": "display_data",
          "data": {
            "image/png": "[encoded data removed]",
            "text/plain": [
              "<Figure size 432x288 with 1 Axes>"
            ]
          },
          "metadata": {
            "tags": [],
            "needs_background": "light"
          }
        }
      ]
    },
    {
      "cell_type": "code",
      "metadata": {
        "id": "ioPxrDdMlPNt",
        "colab_type": "code",
        "colab": {}
      },
      "source": [
        "predict = model.predict(test_image)"
      ],
      "execution_count": null,
      "outputs": []
    },
    {
      "cell_type": "markdown",
      "metadata": {
        "id": "bmhjQQECGG3C",
        "colab_type": "text"
      },
      "source": [
        "**ABOVE MATH GRAPH (loss and acc)**\n",
        "\n",
        "IF Trainning data is better than test data or test data curse doesn't near curse of Trainning data -> **overfitting**(過擬化)\n",
        "\n",
        "We can using dropout layer to fix that or other (正規化？？ )!\n",
        "(Decrease some units in Hidden layer)\n",
        "\n",
        "**underfitting**\n",
        "\n",
        "IF Trainning data isn't train in much layer\n",
        "The test data will get a lower result\n",
        "**FIX**\n",
        "Add more layer"
      ]
    },
    {
      "cell_type": "code",
      "metadata": {
        "id": "RYJEEVC1JcMM",
        "colab_type": "code",
        "colab": {}
      },
      "source": [
        "#Adding dropout to fix overfitting\n",
        "#Step 1):Let your model become overfitting (not unfitting)\n",
        "#Add the dropout layer to fix overfitting\n",
        "\n",
        "model_Dropput = tf.keras.Sequential()"
      ],
      "execution_count": null,
      "outputs": []
    },
    {
      "cell_type": "code",
      "metadata": {
        "id": "bdno0-y3Jcjy",
        "colab_type": "code",
        "colab": {}
      },
      "source": [
        "model_Dropput = tf.keras.Sequential()\n",
        "model_Dropput.add(tf.keras.layers.Flatten(input_shape=(28,28)))\n",
        "model_Dropput.add(tf.keras.layers.Dense(units=128,activation=\"relu\"))\n",
        "model_Dropput.add(tf.keras.layers.Dropout(rate=0.5))# drop 50% units in between this hidden layer\n",
        "model_Dropput.add(tf.keras.layers.Dense(units=128,activation=\"relu\"))\n",
        "model_Dropput.add(tf.keras.layers.Dropout(rate=0.5))# drop 50% units in between this hidden layer\n",
        "model_Dropput.add(tf.keras.layers.Dense(units=128,activation=\"relu\"))\n",
        "model_Dropput.add(tf.keras.layers.Dropout(rate=0.5))# drop 50% units in between this hidden layer\n",
        "model_Dropput.add(tf.keras.layers.Dense(units=10,activation=\"softmax\"))"
      ],
      "execution_count": null,
      "outputs": []
    },
    {
      "cell_type": "code",
      "metadata": {
        "id": "rb1jw80MVSpJ",
        "colab_type": "code",
        "colab": {
          "base_uri": "https://localhost:8080/",
          "height": 425
        },
        "outputId": "90e6c83b-c4be-4978-ef4d-48fcdbd32fa6"
      },
      "source": [
        "model_Dropput.summary()"
      ],
      "execution_count": null,
      "outputs": [
        {
          "output_type": "stream",
          "text": [
            "Model: \"sequential_4\"\n",
            "_________________________________________________________________\n",
            "Layer (type)                 Output Shape              Param #   \n",
            "=================================================================\n",
            "flatten_5 (Flatten)          (None, 784)               0         \n",
            "_________________________________________________________________\n",
            "dense_18 (Dense)             (None, 128)               100480    \n",
            "_________________________________________________________________\n",
            "dropout (Dropout)            (None, 128)               0         \n",
            "_________________________________________________________________\n",
            "dense_19 (Dense)             (None, 128)               16512     \n",
            "_________________________________________________________________\n",
            "dropout_1 (Dropout)          (None, 128)               0         \n",
            "_________________________________________________________________\n",
            "dense_20 (Dense)             (None, 128)               16512     \n",
            "_________________________________________________________________\n",
            "dropout_2 (Dropout)          (None, 128)               0         \n",
            "_________________________________________________________________\n",
            "dense_21 (Dense)             (None, 10)                1290      \n",
            "=================================================================\n",
            "Total params: 134,794\n",
            "Trainable params: 134,794\n",
            "Non-trainable params: 0\n",
            "_________________________________________________________________\n"
          ],
          "name": "stdout"
        }
      ]
    },
    {
      "cell_type": "code",
      "metadata": {
        "id": "O4EVW4RiWbhA",
        "colab_type": "code",
        "colab": {}
      },
      "source": [
        "model_Dropput.compile(optimizer=\"adam\",\n",
        "              loss = \"categorical_crossentropy\",\n",
        "              metrics = [\"acc\"])"
      ],
      "execution_count": null,
      "outputs": []
    },
    {
      "cell_type": "code",
      "metadata": {
        "id": "O7XYzMEzWeR8",
        "colab_type": "code",
        "colab": {
          "base_uri": "https://localhost:8080/",
          "height": 377
        },
        "outputId": "b4fede5b-dcd3-4353-f4f6-c6f9aff3a9f4"
      },
      "source": [
        "history = model_Dropput.fit(train_image,Train_lable_One_Hot,epochs=10,validation_data=(test_image,Test_lable_One_Hot))\n",
        "#Validation_date what data you want to verification "
      ],
      "execution_count": null,
      "outputs": [
        {
          "output_type": "stream",
          "text": [
            "Epoch 1/10\n",
            "1875/1875 [==============================] - 5s 3ms/step - loss: 0.8741 - acc: 0.6733 - val_loss: 0.5304 - val_acc: 0.8091\n",
            "Epoch 2/10\n",
            "1875/1875 [==============================] - 5s 3ms/step - loss: 0.6195 - acc: 0.7820 - val_loss: 0.4523 - val_acc: 0.8368\n",
            "Epoch 3/10\n",
            "1875/1875 [==============================] - 5s 3ms/step - loss: 0.5667 - acc: 0.8004 - val_loss: 0.4529 - val_acc: 0.8468\n",
            "Epoch 4/10\n",
            "1875/1875 [==============================] - 5s 3ms/step - loss: 0.5392 - acc: 0.8098 - val_loss: 0.4422 - val_acc: 0.8389\n",
            "Epoch 5/10\n",
            "1875/1875 [==============================] - 5s 3ms/step - loss: 0.5237 - acc: 0.8154 - val_loss: 0.4316 - val_acc: 0.8490\n",
            "Epoch 6/10\n",
            "1875/1875 [==============================] - 5s 3ms/step - loss: 0.5145 - acc: 0.8186 - val_loss: 0.4237 - val_acc: 0.8434\n",
            "Epoch 7/10\n",
            "1875/1875 [==============================] - 5s 3ms/step - loss: 0.5007 - acc: 0.8248 - val_loss: 0.4180 - val_acc: 0.8514\n",
            "Epoch 8/10\n",
            "1875/1875 [==============================] - 5s 3ms/step - loss: 0.4938 - acc: 0.8262 - val_loss: 0.4317 - val_acc: 0.8503\n",
            "Epoch 9/10\n",
            "1875/1875 [==============================] - 5s 3ms/step - loss: 0.4890 - acc: 0.8282 - val_loss: 0.4164 - val_acc: 0.8496\n",
            "Epoch 10/10\n",
            "1875/1875 [==============================] - 5s 3ms/step - loss: 0.4873 - acc: 0.8291 - val_loss: 0.4124 - val_acc: 0.8569\n"
          ],
          "name": "stdout"
        }
      ]
    },
    {
      "cell_type": "code",
      "metadata": {
        "id": "xYmCPLrBW-lf",
        "colab_type": "code",
        "colab": {
          "base_uri": "https://localhost:8080/",
          "height": 265
        },
        "outputId": "b315608d-acc5-47a9-f887-8d8d2d111660"
      },
      "source": [
        "plt.plot(history.epoch,history.history.get(\"loss\"),label = \"loss\")\n",
        "plt.plot(history.epoch,history.history.get(\"val_loss\"),label=\"val_loss\")\n",
        "plt.legend()"
      ],
      "execution_count": null,
      "outputs": [
        {
          "output_type": "display_data",
          "data": {
            "image/png": "[encoded data removed]",
            "text/plain": [
              "<Figure size 432x288 with 1 Axes>"
            ]
          },
          "metadata": {
            "tags": [],
            "needs_background": "light"
          }
        }
      ]
    },
    {
      "cell_type": "code",
      "metadata": {
        "id": "6xXfB4GGXlyx",
        "colab_type": "code",
        "colab": {
          "base_uri": "https://localhost:8080/",
          "height": 282
        },
        "outputId": "41fa9f2c-9e2e-4023-8129-c5ebcf4db54a"
      },
      "source": [
        "plt.plot(history.epoch,history.history.get(\"acc\"),label = \"acc\")\n",
        "plt.plot(history.epoch,history.history.get(\"val_acc\"),label=\"val_acc\")\n",
        "plt.legend()"
      ],
      "execution_count": null,
      "outputs": [
        {
          "output_type": "execute_result",
          "data": {
            "text/plain": [
              "<matplotlib.legend.Legend at 0x7f405037b860>"
            ]
          },
          "metadata": {
            "tags": []
          },
          "execution_count": 54
        },
        {
          "output_type": "display_data",
          "data": {
            "image/png": "[encoded data removed]",
            "text/plain": [
              "<Figure size 432x288 with 1 Axes>"
            ]
          },
          "metadata": {
            "tags": [],
            "needs_background": "light"
          }
        }
      ]
    },
    {
      "cell_type": "markdown",
      "metadata": {
        "id": "ni5WPDfoYDcM",
        "colab_type": "text"
      },
      "source": [
        "**How To Fix Overfitting**\n",
        "\n",
        "1:Adding dropout layer\n",
        "\n",
        "2:Decrease size of network "
      ]
    },
    {
      "cell_type": "code",
      "metadata": {
        "id": "-95ioSXwYo3D",
        "colab_type": "code",
        "colab": {}
      },
      "source": [
        "model_Dropput = tf.keras.Sequential()\n",
        "model_Dropput.add(tf.keras.layers.Flatten(input_shape=(28,28)))\n",
        "model_Dropput.add(tf.keras.layers.Dense(units=32,activation=\"relu\"))\n",
        "model_Dropput.add(tf.keras.layers.Dense(units=10,activation=\"softmax\"))"
      ],
      "execution_count": null,
      "outputs": []
    },
    {
      "cell_type": "code",
      "metadata": {
        "id": "D8Ql_o-3YwfX",
        "colab_type": "code",
        "colab": {
          "base_uri": "https://localhost:8080/",
          "height": 255
        },
        "outputId": "fc0d971c-7279-49ee-f10f-9f0ab0360bbc"
      },
      "source": [
        "model_Dropput.summary()"
      ],
      "execution_count": null,
      "outputs": [
        {
          "output_type": "stream",
          "text": [
            "Model: \"sequential_10\"\n",
            "_________________________________________________________________\n",
            "Layer (type)                 Output Shape              Param #   \n",
            "=================================================================\n",
            "flatten_11 (Flatten)         (None, 784)               0         \n",
            "_________________________________________________________________\n",
            "dense_32 (Dense)             (None, 32)                25120     \n",
            "_________________________________________________________________\n",
            "dense_33 (Dense)             (None, 10)                330       \n",
            "=================================================================\n",
            "Total params: 25,450\n",
            "Trainable params: 25,450\n",
            "Non-trainable params: 0\n",
            "_________________________________________________________________\n"
          ],
          "name": "stdout"
        }
      ]
    },
    {
      "cell_type": "code",
      "metadata": {
        "id": "xCBEjTnsY7k3",
        "colab_type": "code",
        "colab": {}
      },
      "source": [
        "model_Dropput.compile(optimizer=\"adam\",\n",
        "              loss = \"categorical_crossentropy\",\n",
        "              metrics = [\"acc\"])"
      ],
      "execution_count": null,
      "outputs": []
    },
    {
      "cell_type": "code",
      "metadata": {
        "id": "8KuP93ybZAVm",
        "colab_type": "code",
        "colab": {
          "base_uri": "https://localhost:8080/",
          "height": 377
        },
        "outputId": "7b663df4-ae37-4677-e2a0-5cc2c23542f5"
      },
      "source": [
        "history = model_Dropput.fit(train_image,Train_lable_One_Hot,epochs=10,validation_data=(test_image,Test_lable_One_Hot))\n"
      ],
      "execution_count": null,
      "outputs": [
        {
          "output_type": "stream",
          "text": [
            "Epoch 1/10\n",
            "1875/1875 [==============================] - 3s 1ms/step - loss: 0.5430 - acc: 0.8131 - val_loss: 0.4508 - val_acc: 0.8395\n",
            "Epoch 2/10\n",
            "1875/1875 [==============================] - 3s 1ms/step - loss: 0.4105 - acc: 0.8542 - val_loss: 0.4287 - val_acc: 0.8496\n",
            "Epoch 3/10\n",
            "1875/1875 [==============================] - 3s 1ms/step - loss: 0.3777 - acc: 0.8662 - val_loss: 0.3907 - val_acc: 0.8626\n",
            "Epoch 4/10\n",
            "1875/1875 [==============================] - 3s 1ms/step - loss: 0.3579 - acc: 0.8721 - val_loss: 0.4046 - val_acc: 0.8548\n",
            "Epoch 5/10\n",
            "1875/1875 [==============================] - 3s 1ms/step - loss: 0.3418 - acc: 0.8773 - val_loss: 0.3890 - val_acc: 0.8611\n",
            "Epoch 6/10\n",
            "1875/1875 [==============================] - 3s 1ms/step - loss: 0.3312 - acc: 0.8798 - val_loss: 0.3716 - val_acc: 0.8686\n",
            "Epoch 7/10\n",
            "1875/1875 [==============================] - 3s 1ms/step - loss: 0.3202 - acc: 0.8826 - val_loss: 0.3673 - val_acc: 0.8694\n",
            "Epoch 8/10\n",
            "1875/1875 [==============================] - 3s 1ms/step - loss: 0.3125 - acc: 0.8876 - val_loss: 0.3670 - val_acc: 0.8718\n",
            "Epoch 9/10\n",
            "1875/1875 [==============================] - 3s 1ms/step - loss: 0.3039 - acc: 0.8886 - val_loss: 0.3827 - val_acc: 0.8655\n",
            "Epoch 10/10\n",
            "1875/1875 [==============================] - 3s 1ms/step - loss: 0.2988 - acc: 0.8908 - val_loss: 0.3605 - val_acc: 0.8722\n"
          ],
          "name": "stdout"
        }
      ]
    },
    {
      "cell_type": "code",
      "metadata": {
        "id": "DythF73YZLaK",
        "colab_type": "code",
        "colab": {
          "base_uri": "https://localhost:8080/",
          "height": 282
        },
        "outputId": "66f71588-ff04-4ff6-eaba-76fc3987b58f"
      },
      "source": [
        "plt.plot(history.epoch,history.history.get(\"loss\"),label = \"loss\")\n",
        "plt.plot(history.epoch,history.history.get(\"val_loss\"),label=\"val_loss\")\n",
        "plt.legend()"
      ],
      "execution_count": null,
      "outputs": [
        {
          "output_type": "execute_result",
          "data": {
            "text/plain": [
              "<matplotlib.legend.Legend at 0x7f4049dda908>"
            ]
          },
          "metadata": {
            "tags": []
          },
          "execution_count": 88
        },
        {
          "output_type": "display_data",
          "data": {
            "image/png": "[encoded data removed]",
            "text/plain": [
              "<Figure size 432x288 with 1 Axes>"
            ]
          },
          "metadata": {
            "tags": [],
            "needs_background": "light"
          }
        }
      ]
    },
    {
      "cell_type": "code",
      "metadata": {
        "id": "RkRXDzKiZTeG",
        "colab_type": "code",
        "colab": {
          "base_uri": "https://localhost:8080/",
          "height": 282
        },
        "outputId": "2ec1ee1b-bdfb-43c5-cdab-6ef24cab6163"
      },
      "source": [
        "plt.plot(history.epoch,history.history.get(\"acc\"),label = \"acc\")\n",
        "plt.plot(history.epoch,history.history.get(\"val_acc\"),label=\"val_acc\")\n",
        "plt.legend()"
      ],
      "execution_count": null,
      "outputs": [
        {
          "output_type": "execute_result",
          "data": {
            "text/plain": [
              "<matplotlib.legend.Legend at 0x7f4048d45080>"
            ]
          },
          "metadata": {
            "tags": []
          },
          "execution_count": 89
        },
        {
          "output_type": "display_data",
          "data": {
            "image/png": "[encoded data removed]",
            "text/plain": [
              "<Figure size 432x288 with 1 Axes>"
            ]
          },
          "metadata": {
            "tags": [],
            "needs_background": "light"
          }
        }
      ]
    },
    {
      "cell_type": "code",
      "metadata": {
        "id": "yCi-Dpb4lfWm",
        "colab_type": "code",
        "colab": {
          "base_uri": "https://localhost:8080/",
          "height": 68
        },
        "outputId": "80fdbcba-fdf5-4581-bf39-a0ffd62b7fe0"
      },
      "source": [
        "predict[0] # in this case the sum of the value in the list , the probabilty = 1"
      ],
      "execution_count": null,
      "outputs": [
        {
          "output_type": "execute_result",
          "data": {
            "text/plain": [
              "array([4.0825034e-07, 5.4833832e-10, 2.3099043e-08, 9.9809994e-10,\n",
              "       2.9620525e-08, 3.0573509e-03, 3.9634770e-07, 8.4050260e-03,\n",
              "       1.6355761e-08, 9.8853672e-01], dtype=float32)"
            ]
          },
          "metadata": {
            "tags": []
          },
          "execution_count": 43
        }
      ]
    },
    {
      "cell_type": "code",
      "metadata": {
        "id": "U815WjD7l6-d",
        "colab_type": "code",
        "colab": {
          "base_uri": "https://localhost:8080/",
          "height": 34
        },
        "outputId": "f42c6cae-1370-4213-8ed1-e8788c730d8a"
      },
      "source": [
        "np.argmax(predict[0]) # return indicate"
      ],
      "execution_count": null,
      "outputs": [
        {
          "output_type": "execute_result",
          "data": {
            "text/plain": [
              "9"
            ]
          },
          "metadata": {
            "tags": []
          },
          "execution_count": 44
        }
      ]
    },
    {
      "cell_type": "code",
      "metadata": {
        "id": "J-1-v_QvmCqG",
        "colab_type": "code",
        "colab": {
          "base_uri": "https://localhost:8080/",
          "height": 34
        },
        "outputId": "30518148-ff2e-4489-8159-821a86a2d900"
      },
      "source": [
        "np.max(predict[0]) #max number in list"
      ],
      "execution_count": null,
      "outputs": [
        {
          "output_type": "execute_result",
          "data": {
            "text/plain": [
              "0.9885367"
            ]
          },
          "metadata": {
            "tags": []
          },
          "execution_count": 45
        }
      ]
    },
    {
      "cell_type": "code",
      "metadata": {
        "id": "hfJEcy41mc5W",
        "colab_type": "code",
        "colab": {
          "base_uri": "https://localhost:8080/",
          "height": 34
        },
        "outputId": "515e2880-0e5c-4665-e352-057047f1a554"
      },
      "source": [
        "test_lable[0]"
      ],
      "execution_count": null,
      "outputs": [
        {
          "output_type": "execute_result",
          "data": {
            "text/plain": [
              "9"
            ]
          },
          "metadata": {
            "tags": []
          },
          "execution_count": 46
        }
      ]
    },
    {
      "cell_type": "markdown",
      "metadata": {
        "id": "MG93bdzMm96N",
        "colab_type": "text"
      },
      "source": [
        "conclusion：\n",
        "\n",
        "If we using One Hot with activity as softmax\n",
        "\n",
        "loss func = 'categorical_crossentropy'\n",
        "\n",
        "if not\n",
        "loss func = 'sparse_categorical_crossentropy'"
      ]
    }
  ]
}