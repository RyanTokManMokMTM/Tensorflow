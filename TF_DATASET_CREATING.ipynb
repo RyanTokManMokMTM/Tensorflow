{
  "nbformat": 4,
  "nbformat_minor": 0,
  "metadata": {
    "colab": {
      "name": "TF_DATASET_CREATING.ipynb",
      "provenance": [],
      "authorship_tag": "ABX9TyMlvkGh00vGwU4spMjH3r6q",
      "include_colab_link": true
    },
    "kernelspec": {
      "name": "python3",
      "display_name": "Python 3"
    }
  },
  "cells": [
    {
      "cell_type": "markdown",
      "metadata": {
        "id": "view-in-github",
        "colab_type": "text"
      },
      "source": [
        "<a href=\"https://colab.research.google.com/github/RyanTokManMokMTM/Tensorflow/blob/master/TF_DATASET_CREATING.ipynb\" target=\"_parent\"><img src=\"https://colab.research.google.com/assets/colab-badge.svg\" alt=\"Open In Colab\"/></a>"
      ]
    },
    {
      "cell_type": "markdown",
      "metadata": {
        "id": "zE7RaCFXATFu",
        "colab_type": "text"
      },
      "source": [
        "#CREATE DATASET"
      ]
    },
    {
      "cell_type": "code",
      "metadata": {
        "id": "cypPXBRi84ij",
        "colab_type": "code",
        "colab": {}
      },
      "source": [
        "import tensorflow as tf\n",
        "import numpy as np"
      ],
      "execution_count": 41,
      "outputs": []
    },
    {
      "cell_type": "code",
      "metadata": {
        "id": "bKarNe1h-Ctf",
        "colab_type": "code",
        "colab": {}
      },
      "source": [
        "dataset = tf.data.Dataset.from_tensor_slices([0.5,99.2,667,963.2,0.22166])\n",
        "#let your input list to a tensor type"
      ],
      "execution_count": 42,
      "outputs": []
    },
    {
      "cell_type": "code",
      "metadata": {
        "id": "U5ddpBIr-vaP",
        "colab_type": "code",
        "colab": {
          "base_uri": "https://localhost:8080/",
          "height": 102
        },
        "outputId": "0eb4dd77-c1c1-406a-ef1e-b2e5ef85fb9a"
      },
      "source": [
        "for ele in dataset:\n",
        "  print(ele)"
      ],
      "execution_count": 43,
      "outputs": [
        {
          "output_type": "stream",
          "text": [
            "tf.Tensor(0.5, shape=(), dtype=float32)\n",
            "tf.Tensor(99.2, shape=(), dtype=float32)\n",
            "tf.Tensor(667.0, shape=(), dtype=float32)\n",
            "tf.Tensor(963.2, shape=(), dtype=float32)\n",
            "tf.Tensor(0.22166, shape=(), dtype=float32)\n"
          ],
          "name": "stdout"
        }
      ]
    },
    {
      "cell_type": "code",
      "metadata": {
        "id": "8nUW6Roe_KUu",
        "colab_type": "code",
        "colab": {
          "base_uri": "https://localhost:8080/",
          "height": 102
        },
        "outputId": "7a3be408-e3f5-427b-fad2-e4bf1bd1e73e"
      },
      "source": [
        "for ele in dataset:\n",
        "    print(ele.numpy())"
      ],
      "execution_count": 44,
      "outputs": [
        {
          "output_type": "stream",
          "text": [
            "0.5\n",
            "99.2\n",
            "667.0\n",
            "963.2\n",
            "0.22166\n"
          ],
          "name": "stdout"
        }
      ]
    },
    {
      "cell_type": "code",
      "metadata": {
        "id": "v39qb52WA6Sg",
        "colab_type": "code",
        "colab": {
          "base_uri": "https://localhost:8080/",
          "height": 85
        },
        "outputId": "09fcd693-bf3b-404f-e9d3-f1505999d6b3"
      },
      "source": [
        "for ele in dataset.take(4):\n",
        "  print(ele.numpy())"
      ],
      "execution_count": 45,
      "outputs": [
        {
          "output_type": "stream",
          "text": [
            "0.5\n",
            "99.2\n",
            "667.0\n",
            "963.2\n"
          ],
          "name": "stdout"
        }
      ]
    },
    {
      "cell_type": "code",
      "metadata": {
        "id": "qN444y6n-3hm",
        "colab_type": "code",
        "colab": {}
      },
      "source": [
        "dataset = tf.data.Dataset.from_tensor_slices(np.array([0.00000004,0.004,0.000354,0.9999,0.012345,0.1,0.00001]))"
      ],
      "execution_count": 46,
      "outputs": []
    },
    {
      "cell_type": "code",
      "metadata": {
        "id": "KPa0wj5l_HrO",
        "colab_type": "code",
        "colab": {
          "base_uri": "https://localhost:8080/",
          "height": 136
        },
        "outputId": "ef9bcbd3-4b8c-4311-9bf6-6e078c00a1dc"
      },
      "source": [
        "for ele in dataset:\n",
        "  print(ele)"
      ],
      "execution_count": 47,
      "outputs": [
        {
          "output_type": "stream",
          "text": [
            "tf.Tensor(4e-08, shape=(), dtype=float64)\n",
            "tf.Tensor(0.004, shape=(), dtype=float64)\n",
            "tf.Tensor(0.000354, shape=(), dtype=float64)\n",
            "tf.Tensor(0.9999, shape=(), dtype=float64)\n",
            "tf.Tensor(0.012345, shape=(), dtype=float64)\n",
            "tf.Tensor(0.1, shape=(), dtype=float64)\n",
            "tf.Tensor(1e-05, shape=(), dtype=float64)\n"
          ],
          "name": "stdout"
        }
      ]
    },
    {
      "cell_type": "code",
      "metadata": {
        "id": "XwuDjQEqBOdG",
        "colab_type": "code",
        "colab": {
          "base_uri": "https://localhost:8080/",
          "height": 136
        },
        "outputId": "396adb13-c79c-476b-8ba9-d770918d8f01"
      },
      "source": [
        "for ele in dataset:\n",
        "  print(ele.numpy())"
      ],
      "execution_count": 48,
      "outputs": [
        {
          "output_type": "stream",
          "text": [
            "4e-08\n",
            "0.004\n",
            "0.000354\n",
            "0.9999\n",
            "0.012345\n",
            "0.1\n",
            "1e-05\n"
          ],
          "name": "stdout"
        }
      ]
    },
    {
      "cell_type": "code",
      "metadata": {
        "id": "S_crX5BEDO1P",
        "colab_type": "code",
        "colab": {}
      },
      "source": [
        "dataset = tf.data.Dataset.from_tensor_slices([1,2,3])"
      ],
      "execution_count": 59,
      "outputs": []
    },
    {
      "cell_type": "code",
      "metadata": {
        "id": "2ZTCPyPZDkP2",
        "colab_type": "code",
        "colab": {
          "base_uri": "https://localhost:8080/",
          "height": 170
        },
        "outputId": "732b5a6d-b9d2-45f2-84d4-378b66e29b10"
      },
      "source": [
        "#shuffle() = random order\n",
        "dataset = dataset.shuffle(3)\n",
        "#repeat that dataset ? time(every time is shuffled)\n",
        "dataset = dataset.repeat(3)\n",
        "for ele in dataset:\n",
        "  print(ele.numpy())"
      ],
      "execution_count": 60,
      "outputs": [
        {
          "output_type": "stream",
          "text": [
            "1\n",
            "2\n",
            "3\n",
            "2\n",
            "3\n",
            "1\n",
            "3\n",
            "1\n",
            "2\n"
          ],
          "name": "stdout"
        }
      ]
    },
    {
      "cell_type": "code",
      "metadata": {
        "id": "vyVY_m8GFp5w",
        "colab_type": "code",
        "colab": {
          "base_uri": "https://localhost:8080/",
          "height": 34
        },
        "outputId": "7020f1df-ff32-4185-83dd-949b5e85df6a"
      },
      "source": [
        "#all elements in dataset batch in a size of group\n",
        "#example:datasize has 9 elements and batch(3),those value'll be grouped by 3 elements\n",
        "#[x,x,x],[x,x,x],[x,x,x] \n",
        "dataset = dataset.batch(9)\n",
        "for ele in dataset:\n",
        "  print(ele.numpy())"
      ],
      "execution_count": 61,
      "outputs": [
        {
          "output_type": "stream",
          "text": [
            "[1 3 2 2 1 3 1 2 3]\n"
          ],
          "name": "stdout"
        }
      ]
    },
    {
      "cell_type": "code",
      "metadata": {
        "id": "CaqoGyDRGrhg",
        "colab_type": "code",
        "colab": {}
      },
      "source": [
        "dataset = tf.data.Dataset.from_tensor_slices(np.array([1,2,3,4,5,6,7,8,9]))"
      ],
      "execution_count": 63,
      "outputs": []
    },
    {
      "cell_type": "code",
      "metadata": {
        "id": "p-ULEGl-G4So",
        "colab_type": "code",
        "colab": {
          "base_uri": "https://localhost:8080/",
          "height": 170
        },
        "outputId": "7dc8b49c-0cd6-4d9d-b86d-f5bd1ed2ddfe"
      },
      "source": [
        "#tf.square = pow of 2\n",
        "for ele in dataset.map(tf.square):\n",
        "  print(ele.numpy()) #all element is the result of pow 2"
      ],
      "execution_count": 64,
      "outputs": [
        {
          "output_type": "stream",
          "text": [
            "1\n",
            "4\n",
            "9\n",
            "16\n",
            "25\n",
            "36\n",
            "49\n",
            "64\n",
            "81\n"
          ],
          "name": "stdout"
        }
      ]
    },
    {
      "cell_type": "code",
      "metadata": {
        "id": "heZD7Ee1h_ab",
        "colab_type": "code",
        "colab": {}
      },
      "source": [
        "dataset_2D = tf.data.Dataset.from_tensor_slices(np.array([[1,2],[6,7],[8,9],[22,33]]))"
      ],
      "execution_count": 97,
      "outputs": []
    },
    {
      "cell_type": "code",
      "metadata": {
        "id": "bIRP6J2ih_k5",
        "colab_type": "code",
        "colab": {
          "base_uri": "https://localhost:8080/",
          "height": 85
        },
        "outputId": "01cbd318-a67c-4e3e-cc98-b022ca5ec2ef"
      },
      "source": [
        "for ele in dataset_2D:\n",
        "  print(ele.numpy())"
      ],
      "execution_count": 98,
      "outputs": [
        {
          "output_type": "stream",
          "text": [
            "[1 2]\n",
            "[6 7]\n",
            "[8 9]\n",
            "[22 33]\n"
          ],
          "name": "stdout"
        }
      ]
    },
    {
      "cell_type": "code",
      "metadata": {
        "id": "maoeKfmDiWDI",
        "colab_type": "code",
        "colab": {
          "base_uri": "https://localhost:8080/",
          "height": 221
        },
        "outputId": "362e4561-7c65-47e3-9102-1d317dc5a49d"
      },
      "source": [
        "dataset_2D = dataset_2D.shuffle(4)\n",
        "dataset_2D = dataset_2D.repeat(3)\n",
        "#dataset_2D = dataset_2D.batch(3)\n",
        "dataset_2D = dataset_2D.map(tf.square)\n",
        "for ele in dataset_2D:\n",
        "  print(ele.numpy())"
      ],
      "execution_count": 99,
      "outputs": [
        {
          "output_type": "stream",
          "text": [
            "[ 484 1089]\n",
            "[64 81]\n",
            "[36 49]\n",
            "[1 4]\n",
            "[36 49]\n",
            "[ 484 1089]\n",
            "[64 81]\n",
            "[1 4]\n",
            "[1 4]\n",
            "[64 81]\n",
            "[ 484 1089]\n",
            "[36 49]\n"
          ],
          "name": "stdout"
        }
      ]
    },
    {
      "cell_type": "code",
      "metadata": {
        "id": "e0mrG9C-jOoS",
        "colab_type": "code",
        "colab": {}
      },
      "source": [
        "dataset_dict = tf.data.Dataset.from_tensor_slices({\n",
        "          \"a\":[1,2,3],\n",
        "          \"b\":[4,5,6],\n",
        "          \"c\":[8,9,10]\n",
        "})"
      ],
      "execution_count": 105,
      "outputs": []
    },
    {
      "cell_type": "code",
      "metadata": {
        "id": "kgRmFPaAkQ8C",
        "colab_type": "code",
        "colab": {
          "base_uri": "https://localhost:8080/",
          "height": 34
        },
        "outputId": "07c4692d-27e4-4167-9356-e0a07f8641c2"
      },
      "source": [
        "dataset_dict"
      ],
      "execution_count": 106,
      "outputs": [
        {
          "output_type": "execute_result",
          "data": {
            "text/plain": [
              "<TensorSliceDataset shapes: {a: (), b: (), c: ()}, types: {a: tf.int32, b: tf.int32, c: tf.int32}>"
            ]
          },
          "metadata": {
            "tags": []
          },
          "execution_count": 106
        }
      ]
    },
    {
      "cell_type": "code",
      "metadata": {
        "id": "euKj_Uayk5jx",
        "colab_type": "code",
        "colab": {
          "base_uri": "https://localhost:8080/",
          "height": 68
        },
        "outputId": "31628e95-b8ad-4340-82c1-e66e1cc107df"
      },
      "source": [
        "for ele in dataset_dict:\n",
        "  print(ele)\n",
        "#1:a:1 b:4 c:8\n",
        "#2:a:2 b:5 c:9\n",
        "#3:a:3 b:6 c:10"
      ],
      "execution_count": 109,
      "outputs": [
        {
          "output_type": "stream",
          "text": [
            "{'a': <tf.Tensor: shape=(), dtype=int32, numpy=1>, 'b': <tf.Tensor: shape=(), dtype=int32, numpy=4>, 'c': <tf.Tensor: shape=(), dtype=int32, numpy=8>}\n",
            "{'a': <tf.Tensor: shape=(), dtype=int32, numpy=2>, 'b': <tf.Tensor: shape=(), dtype=int32, numpy=5>, 'c': <tf.Tensor: shape=(), dtype=int32, numpy=9>}\n",
            "{'a': <tf.Tensor: shape=(), dtype=int32, numpy=3>, 'b': <tf.Tensor: shape=(), dtype=int32, numpy=6>, 'c': <tf.Tensor: shape=(), dtype=int32, numpy=10>}\n"
          ],
          "name": "stdout"
        }
      ]
    },
    {
      "cell_type": "markdown",
      "metadata": {
        "id": "AbV9UdRcl62C",
        "colab_type": "text"
      },
      "source": [
        "#DATASET EXAMPLE"
      ]
    },
    {
      "cell_type": "code",
      "metadata": {
        "id": "Pd8Hev-yl-Q5",
        "colab_type": "code",
        "colab": {
          "base_uri": "https://localhost:8080/",
          "height": 153
        },
        "outputId": "c7859fa8-f1b3-4681-f78d-15354bdfe3c3"
      },
      "source": [
        "(train_feature,train_label),(test_featurn,test_label) = tf.keras.datasets.fashion_mnist.load_data()"
      ],
      "execution_count": 110,
      "outputs": [
        {
          "output_type": "stream",
          "text": [
            "Downloading data from https://storage.googleapis.com/tensorflow/tf-keras-datasets/train-labels-idx1-ubyte.gz\n",
            "32768/29515 [=================================] - 0s 0us/step\n",
            "Downloading data from https://storage.googleapis.com/tensorflow/tf-keras-datasets/train-images-idx3-ubyte.gz\n",
            "26427392/26421880 [==============================] - 0s 0us/step\n",
            "Downloading data from https://storage.googleapis.com/tensorflow/tf-keras-datasets/t10k-labels-idx1-ubyte.gz\n",
            "8192/5148 [===============================================] - 0s 0us/step\n",
            "Downloading data from https://storage.googleapis.com/tensorflow/tf-keras-datasets/t10k-images-idx3-ubyte.gz\n",
            "4423680/4422102 [==============================] - 0s 0us/step\n"
          ],
          "name": "stdout"
        }
      ]
    },
    {
      "cell_type": "code",
      "metadata": {
        "id": "4u1mvLodmfAZ",
        "colab_type": "code",
        "colab": {
          "base_uri": "https://localhost:8080/",
          "height": 34
        },
        "outputId": "40c5be1b-59a3-40c1-94a2-6af659c0d225"
      },
      "source": [
        "train_feature.shape"
      ],
      "execution_count": 116,
      "outputs": [
        {
          "output_type": "execute_result",
          "data": {
            "text/plain": [
              "(60000, 28, 28)"
            ]
          },
          "metadata": {
            "tags": []
          },
          "execution_count": 116
        }
      ]
    },
    {
      "cell_type": "code",
      "metadata": {
        "id": "08k9cNsdmntZ",
        "colab_type": "code",
        "colab": {
          "base_uri": "https://localhost:8080/",
          "height": 850
        },
        "outputId": "64a9e495-8c7d-4b9e-bd95-85b63eca69a8"
      },
      "source": [
        "train_feature"
      ],
      "execution_count": 117,
      "outputs": [
        {
          "output_type": "execute_result",
          "data": {
            "text/plain": [
              "array([[[0, 0, 0, ..., 0, 0, 0],\n",
              "        [0, 0, 0, ..., 0, 0, 0],\n",
              "        [0, 0, 0, ..., 0, 0, 0],\n",
              "        ...,\n",
              "        [0, 0, 0, ..., 0, 0, 0],\n",
              "        [0, 0, 0, ..., 0, 0, 0],\n",
              "        [0, 0, 0, ..., 0, 0, 0]],\n",
              "\n",
              "       [[0, 0, 0, ..., 0, 0, 0],\n",
              "        [0, 0, 0, ..., 0, 0, 0],\n",
              "        [0, 0, 0, ..., 0, 0, 0],\n",
              "        ...,\n",
              "        [0, 0, 0, ..., 0, 0, 0],\n",
              "        [0, 0, 0, ..., 0, 0, 0],\n",
              "        [0, 0, 0, ..., 0, 0, 0]],\n",
              "\n",
              "       [[0, 0, 0, ..., 0, 0, 0],\n",
              "        [0, 0, 0, ..., 0, 0, 0],\n",
              "        [0, 0, 0, ..., 0, 0, 0],\n",
              "        ...,\n",
              "        [0, 0, 0, ..., 0, 0, 0],\n",
              "        [0, 0, 0, ..., 0, 0, 0],\n",
              "        [0, 0, 0, ..., 0, 0, 0]],\n",
              "\n",
              "       ...,\n",
              "\n",
              "       [[0, 0, 0, ..., 0, 0, 0],\n",
              "        [0, 0, 0, ..., 0, 0, 0],\n",
              "        [0, 0, 0, ..., 0, 0, 0],\n",
              "        ...,\n",
              "        [0, 0, 0, ..., 0, 0, 0],\n",
              "        [0, 0, 0, ..., 0, 0, 0],\n",
              "        [0, 0, 0, ..., 0, 0, 0]],\n",
              "\n",
              "       [[0, 0, 0, ..., 0, 0, 0],\n",
              "        [0, 0, 0, ..., 0, 0, 0],\n",
              "        [0, 0, 0, ..., 0, 0, 0],\n",
              "        ...,\n",
              "        [0, 0, 0, ..., 0, 0, 0],\n",
              "        [0, 0, 0, ..., 0, 0, 0],\n",
              "        [0, 0, 0, ..., 0, 0, 0]],\n",
              "\n",
              "       [[0, 0, 0, ..., 0, 0, 0],\n",
              "        [0, 0, 0, ..., 0, 0, 0],\n",
              "        [0, 0, 0, ..., 0, 0, 0],\n",
              "        ...,\n",
              "        [0, 0, 0, ..., 0, 0, 0],\n",
              "        [0, 0, 0, ..., 0, 0, 0],\n",
              "        [0, 0, 0, ..., 0, 0, 0]]], dtype=uint8)"
            ]
          },
          "metadata": {
            "tags": []
          },
          "execution_count": 117
        }
      ]
    },
    {
      "cell_type": "code",
      "metadata": {
        "id": "TbmsalpFmQ05",
        "colab_type": "code",
        "colab": {}
      },
      "source": [
        "trainning_feature_dataset = tf.data.Dataset.from_tensor_slices(train_feature) \n",
        "trainning_label_dataset = tf.data.Dataset.from_tensor_slices(train_label) "
      ],
      "execution_count": 120,
      "outputs": []
    },
    {
      "cell_type": "code",
      "metadata": {
        "id": "2A9tvGv5mZxR",
        "colab_type": "code",
        "colab": {
          "base_uri": "https://localhost:8080/",
          "height": 34
        },
        "outputId": "231a6bdf-08ac-4088-aee1-45d891bb351d"
      },
      "source": [
        "trainning_feature_datase #28*28 array"
      ],
      "execution_count": 122,
      "outputs": [
        {
          "output_type": "execute_result",
          "data": {
            "text/plain": [
              "<TensorSliceDataset shapes: (28, 28), types: tf.uint8>"
            ]
          },
          "metadata": {
            "tags": []
          },
          "execution_count": 122
        }
      ]
    },
    {
      "cell_type": "code",
      "metadata": {
        "id": "93qDNMzRm4CJ",
        "colab_type": "code",
        "colab": {
          "base_uri": "https://localhost:8080/",
          "height": 34
        },
        "outputId": "ec0c81f0-ea59-4d4a-8b5f-6d8e36311099"
      },
      "source": [
        "trainning_label_dataset #one number array"
      ],
      "execution_count": 123,
      "outputs": [
        {
          "output_type": "execute_result",
          "data": {
            "text/plain": [
              "<TensorSliceDataset shapes: (), types: tf.uint8>"
            ]
          },
          "metadata": {
            "tags": []
          },
          "execution_count": 123
        }
      ]
    },
    {
      "cell_type": "markdown",
      "metadata": {
        "id": "wj0Z9Rtzm_XC",
        "colab_type": "text"
      },
      "source": [
        "# merge these dataSet together"
      ]
    },
    {
      "cell_type": "code",
      "metadata": {
        "id": "5oaFmmL1nFF5",
        "colab_type": "code",
        "colab": {}
      },
      "source": [
        "trainning_dataset = tf.data.Dataset.zip((trainning_feature_dataset,trainning_label_dataset)) #marge then to a tuple"
      ],
      "execution_count": 125,
      "outputs": []
    },
    {
      "cell_type": "code",
      "metadata": {
        "id": "ymHsJQoSnXwr",
        "colab_type": "code",
        "colab": {}
      },
      "source": [
        "trainning_dataset = trainning_dataset.shuffle(10000)\n",
        "#trainning_dataset = trainning_dataset.repeat()\n",
        "#trainning_dataset = trainning_dataset.batch(64)"
      ],
      "execution_count": 129,
      "outputs": []
    },
    {
      "cell_type": "code",
      "metadata": {
        "id": "2SAEM0V6ntlp",
        "colab_type": "code",
        "colab": {}
      },
      "source": [
        "#create model\n",
        "model = tf.keras.Sequential()\n",
        "model.add(tf.keras.layers.Flatten(input_shape =(28,28)))\n",
        "model.add(tf.keras.layers.Dense(units=32,activation=\"relu\"))\n",
        "model.add(tf.keras.layers.Dense(units=10,activation=\"softmax\"))"
      ],
      "execution_count": 133,
      "outputs": []
    },
    {
      "cell_type": "code",
      "metadata": {
        "id": "dv6CYyQooww5",
        "colab_type": "code",
        "colab": {}
      },
      "source": [
        "#bulid model\n",
        "model.compile(optimizer=\"adam\",\n",
        "              loss=\"sparse_categorical_crossentropy\",\n",
        "              metrics=([\"acc\"])\n",
        ")"
      ],
      "execution_count": 136,
      "outputs": []
    },
    {
      "cell_type": "code",
      "metadata": {
        "id": "m0vgY50CpfWh",
        "colab_type": "code",
        "colab": {
          "base_uri": "https://localhost:8080/",
          "height": 34
        },
        "outputId": "7437a14d-69f8-4fa2-de9c-55b1936f576d"
      },
      "source": [
        "step = train_feature.shape[0]//64\n",
        "print(step)"
      ],
      "execution_count": 143,
      "outputs": [
        {
          "output_type": "stream",
          "text": [
            "937\n"
          ],
          "name": "stdout"
        }
      ]
    },
    {
      "cell_type": "code",
      "metadata": {
        "id": "DNZnqhtJpVDD",
        "colab_type": "code",
        "colab": {
          "base_uri": "https://localhost:8080/",
          "height": 204
        },
        "outputId": "76289492-f5ad-4a56-ccf5-8bc015d6b706"
      },
      "source": [
        "#fit model\n",
        "model.fit(trainning_dataset,epochs=5,steps_per_epoch=step)"
      ],
      "execution_count": 147,
      "outputs": [
        {
          "output_type": "stream",
          "text": [
            "Epoch 1/5\n",
            "937/937 [==============================] - 2s 2ms/step - loss: 0.5935 - acc: 0.7752\n",
            "Epoch 2/5\n",
            "937/937 [==============================] - 2s 2ms/step - loss: 0.5997 - acc: 0.7698\n",
            "Epoch 3/5\n",
            "937/937 [==============================] - 2s 2ms/step - loss: 0.5854 - acc: 0.7763\n",
            "Epoch 4/5\n",
            "937/937 [==============================] - 2s 2ms/step - loss: 0.5980 - acc: 0.7733\n",
            "Epoch 5/5\n",
            "937/937 [==============================] - 2s 2ms/step - loss: 0.5838 - acc: 0.7786\n"
          ],
          "name": "stdout"
        },
        {
          "output_type": "execute_result",
          "data": {
            "text/plain": [
              "<tensorflow.python.keras.callbacks.History at 0x7f6a18984400>"
            ]
          },
          "metadata": {
            "tags": []
          },
          "execution_count": 147
        }
      ]
    },
    {
      "cell_type": "code",
      "metadata": {
        "id": "KO_PO-8kowqh",
        "colab_type": "code",
        "colab": {}
      },
      "source": [
        ""
      ],
      "execution_count": null,
      "outputs": []
    }
  ]
}