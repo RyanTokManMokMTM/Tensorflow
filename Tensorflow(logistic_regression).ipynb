{
  "nbformat": 4,
  "nbformat_minor": 0,
  "metadata": {
    "colab": {
      "name": "Tensorflow(logistic_regression).ipynb",
      "provenance": [],
      "collapsed_sections": [],
      "authorship_tag": "ABX9TyNHggbavuP3b/3RmFxkEQ/s",
      "include_colab_link": true
    },
    "kernelspec": {
      "name": "python3",
      "display_name": "Python 3"
    }
  },
  "cells": [
    {
      "cell_type": "markdown",
      "metadata": {
        "id": "view-in-github",
        "colab_type": "text"
      },
      "source": [
        "<a href=\"https://colab.research.google.com/github/RyanTokManMokMTM/Tensorflow/blob/master/Tensorflow(logistic_regression).ipynb\" target=\"_parent\"><img src=\"https://colab.research.google.com/assets/colab-badge.svg\" alt=\"Open In Colab\"/></a>"
      ]
    },
    {
      "cell_type": "code",
      "metadata": {
        "id": "kt_ECiQPvyDN",
        "colab_type": "code",
        "colab": {}
      },
      "source": [
        "import tensorflow as tf\n",
        "import pandas as pd\n",
        "from google.colab import  files\n",
        "import io\n",
        "from matplotlib import pyplot as plt"
      ],
      "execution_count": 66,
      "outputs": []
    },
    {
      "cell_type": "code",
      "metadata": {
        "id": "OiZhL3YfzkPE",
        "colab_type": "code",
        "colab": {
          "resources": {
            "http://localhost:8080/nbextensions/google.colab/files.js": {
              "data": "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",
              "ok": true,
              "headers": [
                [
                  "content-type",
                  "application/javascript"
                ]
              ],
              "status": 200,
              "status_text": ""
            }
          },
          "base_uri": "https://localhost:8080/",
          "height": 72
        },
        "outputId": "4dcd3acc-392e-486b-9fd1-62a27db7e664"
      },
      "source": [
        "file = files.upload()\n",
        "data = pd.read_csv(io.BytesIO(file[\"credit-a.csv\"]),header=None)\n",
        "#header = None ->column index started from 0"
      ],
      "execution_count": 67,
      "outputs": [
        {
          "output_type": "display_data",
          "data": {
            "text/html": [
              "\n",
              "     <input type=\"file\" id=\"files-76d4f075-d705-4eaf-9da5-2be287e6c27f\" name=\"files[]\" multiple disabled\n",
              "        style=\"border:none\" />\n",
              "     <output id=\"result-76d4f075-d705-4eaf-9da5-2be287e6c27f\">\n",
              "      Upload widget is only available when the cell has been executed in the\n",
              "      current browser session. Please rerun this cell to enable.\n",
              "      </output>\n",
              "      <script src=\"/nbextensions/google.colab/files.js\"></script> "
            ],
            "text/plain": [
              "<IPython.core.display.HTML object>"
            ]
          },
          "metadata": {
            "tags": []
          }
        },
        {
          "output_type": "stream",
          "text": [
            "Saving credit-a.csv to credit-a (4).csv\n"
          ],
          "name": "stdout"
        }
      ]
    },
    {
      "cell_type": "code",
      "metadata": {
        "id": "ZzMZBqRH0bWq",
        "colab_type": "code",
        "colab": {
          "base_uri": "https://localhost:8080/",
          "height": 204
        },
        "outputId": "4e34e413-7283-4788-c4b6-633f7a475f33"
      },
      "source": [
        "data.head()"
      ],
      "execution_count": 68,
      "outputs": [
        {
          "output_type": "execute_result",
          "data": {
            "text/html": [
              "<div>\n",
              "<style scoped>\n",
              "    .dataframe tbody tr th:only-of-type {\n",
              "        vertical-align: middle;\n",
              "    }\n",
              "\n",
              "    .dataframe tbody tr th {\n",
              "        vertical-align: top;\n",
              "    }\n",
              "\n",
              "    .dataframe thead th {\n",
              "        text-align: right;\n",
              "    }\n",
              "</style>\n",
              "<table border=\"1\" class=\"dataframe\">\n",
              "  <thead>\n",
              "    <tr style=\"text-align: right;\">\n",
              "      <th></th>\n",
              "      <th>0</th>\n",
              "      <th>1</th>\n",
              "      <th>2</th>\n",
              "      <th>3</th>\n",
              "      <th>4</th>\n",
              "      <th>5</th>\n",
              "      <th>6</th>\n",
              "      <th>7</th>\n",
              "      <th>8</th>\n",
              "      <th>9</th>\n",
              "      <th>10</th>\n",
              "      <th>11</th>\n",
              "      <th>12</th>\n",
              "      <th>13</th>\n",
              "      <th>14</th>\n",
              "      <th>15</th>\n",
              "    </tr>\n",
              "  </thead>\n",
              "  <tbody>\n",
              "    <tr>\n",
              "      <th>0</th>\n",
              "      <td>0</td>\n",
              "      <td>30.83</td>\n",
              "      <td>0.000</td>\n",
              "      <td>0</td>\n",
              "      <td>0</td>\n",
              "      <td>9</td>\n",
              "      <td>0</td>\n",
              "      <td>1.25</td>\n",
              "      <td>0</td>\n",
              "      <td>0</td>\n",
              "      <td>1</td>\n",
              "      <td>1</td>\n",
              "      <td>0</td>\n",
              "      <td>202</td>\n",
              "      <td>0.0</td>\n",
              "      <td>-1</td>\n",
              "    </tr>\n",
              "    <tr>\n",
              "      <th>1</th>\n",
              "      <td>1</td>\n",
              "      <td>58.67</td>\n",
              "      <td>4.460</td>\n",
              "      <td>0</td>\n",
              "      <td>0</td>\n",
              "      <td>8</td>\n",
              "      <td>1</td>\n",
              "      <td>3.04</td>\n",
              "      <td>0</td>\n",
              "      <td>0</td>\n",
              "      <td>6</td>\n",
              "      <td>1</td>\n",
              "      <td>0</td>\n",
              "      <td>43</td>\n",
              "      <td>560.0</td>\n",
              "      <td>-1</td>\n",
              "    </tr>\n",
              "    <tr>\n",
              "      <th>2</th>\n",
              "      <td>1</td>\n",
              "      <td>24.50</td>\n",
              "      <td>0.500</td>\n",
              "      <td>0</td>\n",
              "      <td>0</td>\n",
              "      <td>8</td>\n",
              "      <td>1</td>\n",
              "      <td>1.50</td>\n",
              "      <td>0</td>\n",
              "      <td>1</td>\n",
              "      <td>0</td>\n",
              "      <td>1</td>\n",
              "      <td>0</td>\n",
              "      <td>280</td>\n",
              "      <td>824.0</td>\n",
              "      <td>-1</td>\n",
              "    </tr>\n",
              "    <tr>\n",
              "      <th>3</th>\n",
              "      <td>0</td>\n",
              "      <td>27.83</td>\n",
              "      <td>1.540</td>\n",
              "      <td>0</td>\n",
              "      <td>0</td>\n",
              "      <td>9</td>\n",
              "      <td>0</td>\n",
              "      <td>3.75</td>\n",
              "      <td>0</td>\n",
              "      <td>0</td>\n",
              "      <td>5</td>\n",
              "      <td>0</td>\n",
              "      <td>0</td>\n",
              "      <td>100</td>\n",
              "      <td>3.0</td>\n",
              "      <td>-1</td>\n",
              "    </tr>\n",
              "    <tr>\n",
              "      <th>4</th>\n",
              "      <td>0</td>\n",
              "      <td>20.17</td>\n",
              "      <td>5.625</td>\n",
              "      <td>0</td>\n",
              "      <td>0</td>\n",
              "      <td>9</td>\n",
              "      <td>0</td>\n",
              "      <td>1.71</td>\n",
              "      <td>0</td>\n",
              "      <td>1</td>\n",
              "      <td>0</td>\n",
              "      <td>1</td>\n",
              "      <td>2</td>\n",
              "      <td>120</td>\n",
              "      <td>0.0</td>\n",
              "      <td>-1</td>\n",
              "    </tr>\n",
              "  </tbody>\n",
              "</table>\n",
              "</div>"
            ],
            "text/plain": [
              "   0      1      2   3   4   5   6     7   8   9   10  11  12   13     14  15\n",
              "0   0  30.83  0.000   0   0   9   0  1.25   0   0   1   1   0  202    0.0  -1\n",
              "1   1  58.67  4.460   0   0   8   1  3.04   0   0   6   1   0   43  560.0  -1\n",
              "2   1  24.50  0.500   0   0   8   1  1.50   0   1   0   1   0  280  824.0  -1\n",
              "3   0  27.83  1.540   0   0   9   0  3.75   0   0   5   0   0  100    3.0  -1\n",
              "4   0  20.17  5.625   0   0   9   0  1.71   0   1   0   1   2  120    0.0  -1"
            ]
          },
          "metadata": {
            "tags": []
          },
          "execution_count": 68
        }
      ]
    },
    {
      "cell_type": "code",
      "metadata": {
        "id": "ZnlbGC4L1bah",
        "colab_type": "code",
        "colab": {}
      },
      "source": [
        "lable = data.iloc[:,-1].replace(-1,0)\n",
        "feature = data.iloc[:,:-1]"
      ],
      "execution_count": 69,
      "outputs": []
    },
    {
      "cell_type": "code",
      "metadata": {
        "id": "-TAwGIPG1jUA",
        "colab_type": "code",
        "colab": {
          "base_uri": "https://localhost:8080/",
          "height": 221
        },
        "outputId": "3c0ea3b0-d91a-4f97-9189-70e0caa9c9e2"
      },
      "source": [
        "lable"
      ],
      "execution_count": 70,
      "outputs": [
        {
          "output_type": "execute_result",
          "data": {
            "text/plain": [
              "0      0\n",
              "1      0\n",
              "2      0\n",
              "3      0\n",
              "4      0\n",
              "      ..\n",
              "648    1\n",
              "649    1\n",
              "650    1\n",
              "651    1\n",
              "652    1\n",
              "Name: 15, Length: 653, dtype: int64"
            ]
          },
          "metadata": {
            "tags": []
          },
          "execution_count": 70
        }
      ]
    },
    {
      "cell_type": "code",
      "metadata": {
        "id": "JvK5e0HM10Sj",
        "colab_type": "code",
        "colab": {
          "base_uri": "https://localhost:8080/",
          "height": 419
        },
        "outputId": "ebc3f9a4-8abb-4b47-a249-7d520b65bb18"
      },
      "source": [
        "feature"
      ],
      "execution_count": 71,
      "outputs": [
        {
          "output_type": "execute_result",
          "data": {
            "text/html": [
              "<div>\n",
              "<style scoped>\n",
              "    .dataframe tbody tr th:only-of-type {\n",
              "        vertical-align: middle;\n",
              "    }\n",
              "\n",
              "    .dataframe tbody tr th {\n",
              "        vertical-align: top;\n",
              "    }\n",
              "\n",
              "    .dataframe thead th {\n",
              "        text-align: right;\n",
              "    }\n",
              "</style>\n",
              "<table border=\"1\" class=\"dataframe\">\n",
              "  <thead>\n",
              "    <tr style=\"text-align: right;\">\n",
              "      <th></th>\n",
              "      <th>0</th>\n",
              "      <th>1</th>\n",
              "      <th>2</th>\n",
              "      <th>3</th>\n",
              "      <th>4</th>\n",
              "      <th>5</th>\n",
              "      <th>6</th>\n",
              "      <th>7</th>\n",
              "      <th>8</th>\n",
              "      <th>9</th>\n",
              "      <th>10</th>\n",
              "      <th>11</th>\n",
              "      <th>12</th>\n",
              "      <th>13</th>\n",
              "      <th>14</th>\n",
              "    </tr>\n",
              "  </thead>\n",
              "  <tbody>\n",
              "    <tr>\n",
              "      <th>0</th>\n",
              "      <td>0</td>\n",
              "      <td>30.83</td>\n",
              "      <td>0.000</td>\n",
              "      <td>0</td>\n",
              "      <td>0</td>\n",
              "      <td>9</td>\n",
              "      <td>0</td>\n",
              "      <td>1.25</td>\n",
              "      <td>0</td>\n",
              "      <td>0</td>\n",
              "      <td>1</td>\n",
              "      <td>1</td>\n",
              "      <td>0</td>\n",
              "      <td>202</td>\n",
              "      <td>0.0</td>\n",
              "    </tr>\n",
              "    <tr>\n",
              "      <th>1</th>\n",
              "      <td>1</td>\n",
              "      <td>58.67</td>\n",
              "      <td>4.460</td>\n",
              "      <td>0</td>\n",
              "      <td>0</td>\n",
              "      <td>8</td>\n",
              "      <td>1</td>\n",
              "      <td>3.04</td>\n",
              "      <td>0</td>\n",
              "      <td>0</td>\n",
              "      <td>6</td>\n",
              "      <td>1</td>\n",
              "      <td>0</td>\n",
              "      <td>43</td>\n",
              "      <td>560.0</td>\n",
              "    </tr>\n",
              "    <tr>\n",
              "      <th>2</th>\n",
              "      <td>1</td>\n",
              "      <td>24.50</td>\n",
              "      <td>0.500</td>\n",
              "      <td>0</td>\n",
              "      <td>0</td>\n",
              "      <td>8</td>\n",
              "      <td>1</td>\n",
              "      <td>1.50</td>\n",
              "      <td>0</td>\n",
              "      <td>1</td>\n",
              "      <td>0</td>\n",
              "      <td>1</td>\n",
              "      <td>0</td>\n",
              "      <td>280</td>\n",
              "      <td>824.0</td>\n",
              "    </tr>\n",
              "    <tr>\n",
              "      <th>3</th>\n",
              "      <td>0</td>\n",
              "      <td>27.83</td>\n",
              "      <td>1.540</td>\n",
              "      <td>0</td>\n",
              "      <td>0</td>\n",
              "      <td>9</td>\n",
              "      <td>0</td>\n",
              "      <td>3.75</td>\n",
              "      <td>0</td>\n",
              "      <td>0</td>\n",
              "      <td>5</td>\n",
              "      <td>0</td>\n",
              "      <td>0</td>\n",
              "      <td>100</td>\n",
              "      <td>3.0</td>\n",
              "    </tr>\n",
              "    <tr>\n",
              "      <th>4</th>\n",
              "      <td>0</td>\n",
              "      <td>20.17</td>\n",
              "      <td>5.625</td>\n",
              "      <td>0</td>\n",
              "      <td>0</td>\n",
              "      <td>9</td>\n",
              "      <td>0</td>\n",
              "      <td>1.71</td>\n",
              "      <td>0</td>\n",
              "      <td>1</td>\n",
              "      <td>0</td>\n",
              "      <td>1</td>\n",
              "      <td>2</td>\n",
              "      <td>120</td>\n",
              "      <td>0.0</td>\n",
              "    </tr>\n",
              "    <tr>\n",
              "      <th>...</th>\n",
              "      <td>...</td>\n",
              "      <td>...</td>\n",
              "      <td>...</td>\n",
              "      <td>...</td>\n",
              "      <td>...</td>\n",
              "      <td>...</td>\n",
              "      <td>...</td>\n",
              "      <td>...</td>\n",
              "      <td>...</td>\n",
              "      <td>...</td>\n",
              "      <td>...</td>\n",
              "      <td>...</td>\n",
              "      <td>...</td>\n",
              "      <td>...</td>\n",
              "      <td>...</td>\n",
              "    </tr>\n",
              "    <tr>\n",
              "      <th>648</th>\n",
              "      <td>0</td>\n",
              "      <td>21.08</td>\n",
              "      <td>10.085</td>\n",
              "      <td>1</td>\n",
              "      <td>1</td>\n",
              "      <td>11</td>\n",
              "      <td>1</td>\n",
              "      <td>1.25</td>\n",
              "      <td>1</td>\n",
              "      <td>1</td>\n",
              "      <td>0</td>\n",
              "      <td>1</td>\n",
              "      <td>0</td>\n",
              "      <td>260</td>\n",
              "      <td>0.0</td>\n",
              "    </tr>\n",
              "    <tr>\n",
              "      <th>649</th>\n",
              "      <td>1</td>\n",
              "      <td>22.67</td>\n",
              "      <td>0.750</td>\n",
              "      <td>0</td>\n",
              "      <td>0</td>\n",
              "      <td>0</td>\n",
              "      <td>0</td>\n",
              "      <td>2.00</td>\n",
              "      <td>1</td>\n",
              "      <td>0</td>\n",
              "      <td>2</td>\n",
              "      <td>0</td>\n",
              "      <td>0</td>\n",
              "      <td>200</td>\n",
              "      <td>394.0</td>\n",
              "    </tr>\n",
              "    <tr>\n",
              "      <th>650</th>\n",
              "      <td>1</td>\n",
              "      <td>25.25</td>\n",
              "      <td>13.500</td>\n",
              "      <td>1</td>\n",
              "      <td>1</td>\n",
              "      <td>13</td>\n",
              "      <td>7</td>\n",
              "      <td>2.00</td>\n",
              "      <td>1</td>\n",
              "      <td>0</td>\n",
              "      <td>1</td>\n",
              "      <td>0</td>\n",
              "      <td>0</td>\n",
              "      <td>200</td>\n",
              "      <td>1.0</td>\n",
              "    </tr>\n",
              "    <tr>\n",
              "      <th>651</th>\n",
              "      <td>0</td>\n",
              "      <td>17.92</td>\n",
              "      <td>0.205</td>\n",
              "      <td>0</td>\n",
              "      <td>0</td>\n",
              "      <td>12</td>\n",
              "      <td>0</td>\n",
              "      <td>0.04</td>\n",
              "      <td>1</td>\n",
              "      <td>1</td>\n",
              "      <td>0</td>\n",
              "      <td>1</td>\n",
              "      <td>0</td>\n",
              "      <td>280</td>\n",
              "      <td>750.0</td>\n",
              "    </tr>\n",
              "    <tr>\n",
              "      <th>652</th>\n",
              "      <td>0</td>\n",
              "      <td>35.00</td>\n",
              "      <td>3.375</td>\n",
              "      <td>0</td>\n",
              "      <td>0</td>\n",
              "      <td>0</td>\n",
              "      <td>1</td>\n",
              "      <td>8.29</td>\n",
              "      <td>1</td>\n",
              "      <td>1</td>\n",
              "      <td>0</td>\n",
              "      <td>0</td>\n",
              "      <td>0</td>\n",
              "      <td>0</td>\n",
              "      <td>0.0</td>\n",
              "    </tr>\n",
              "  </tbody>\n",
              "</table>\n",
              "<p>653 rows × 15 columns</p>\n",
              "</div>"
            ],
            "text/plain": [
              "     0      1       2   3   4   5   6     7   8   9   10  11  12   13     14\n",
              "0     0  30.83   0.000   0   0   9   0  1.25   0   0   1   1   0  202    0.0\n",
              "1     1  58.67   4.460   0   0   8   1  3.04   0   0   6   1   0   43  560.0\n",
              "2     1  24.50   0.500   0   0   8   1  1.50   0   1   0   1   0  280  824.0\n",
              "3     0  27.83   1.540   0   0   9   0  3.75   0   0   5   0   0  100    3.0\n",
              "4     0  20.17   5.625   0   0   9   0  1.71   0   1   0   1   2  120    0.0\n",
              "..   ..    ...     ...  ..  ..  ..  ..   ...  ..  ..  ..  ..  ..  ...    ...\n",
              "648   0  21.08  10.085   1   1  11   1  1.25   1   1   0   1   0  260    0.0\n",
              "649   1  22.67   0.750   0   0   0   0  2.00   1   0   2   0   0  200  394.0\n",
              "650   1  25.25  13.500   1   1  13   7  2.00   1   0   1   0   0  200    1.0\n",
              "651   0  17.92   0.205   0   0  12   0  0.04   1   1   0   1   0  280  750.0\n",
              "652   0  35.00   3.375   0   0   0   1  8.29   1   1   0   0   0    0    0.0\n",
              "\n",
              "[653 rows x 15 columns]"
            ]
          },
          "metadata": {
            "tags": []
          },
          "execution_count": 71
        }
      ]
    },
    {
      "cell_type": "code",
      "metadata": {
        "id": "c9CR3dZk2jgZ",
        "colab_type": "code",
        "colab": {
          "base_uri": "https://localhost:8080/",
          "height": 68
        },
        "outputId": "f4db3ef3-08c5-4d9b-d1a0-7f35a783aa8c"
      },
      "source": [
        "lable.value_counts() #group all the value and count"
      ],
      "execution_count": 72,
      "outputs": [
        {
          "output_type": "execute_result",
          "data": {
            "text/plain": [
              "1    357\n",
              "0    296\n",
              "Name: 15, dtype: int64"
            ]
          },
          "metadata": {
            "tags": []
          },
          "execution_count": 72
        }
      ]
    },
    {
      "cell_type": "code",
      "metadata": {
        "id": "lnFcR4wY2qnA",
        "colab_type": "code",
        "colab": {}
      },
      "source": [
        "#build the model (sigmoid)\n",
        "model = tf.keras.Sequential()"
      ],
      "execution_count": 73,
      "outputs": []
    },
    {
      "cell_type": "code",
      "metadata": {
        "id": "V4Jms4bq3Bp4",
        "colab_type": "code",
        "colab": {}
      },
      "source": [
        "#Add layer \n",
        "model.add(tf.keras.layers.Dense(units = 4,input_shape = (15,),activation=\"relu\"))\n",
        "model.add(tf.keras.layers.Dense(units=4,activation=\"relu\"))\n",
        "model.add(tf.keras.layers.Dense(units=1,activation=\"sigmoid\"))\n",
        "#sigmoid function return value between 0 and 1(probability?)\n",
        "#Wx+b = 0 and 1"
      ],
      "execution_count": 74,
      "outputs": []
    },
    {
      "cell_type": "code",
      "metadata": {
        "id": "h4H-RHsj4b4r",
        "colab_type": "code",
        "colab": {
          "base_uri": "https://localhost:8080/",
          "height": 255
        },
        "outputId": "6ae1e0c9-e374-4702-acdf-116724f84948"
      },
      "source": [
        "model.summary()"
      ],
      "execution_count": 75,
      "outputs": [
        {
          "output_type": "stream",
          "text": [
            "Model: \"sequential_2\"\n",
            "_________________________________________________________________\n",
            "Layer (type)                 Output Shape              Param #   \n",
            "=================================================================\n",
            "dense_6 (Dense)              (None, 4)                 64        \n",
            "_________________________________________________________________\n",
            "dense_7 (Dense)              (None, 4)                 20        \n",
            "_________________________________________________________________\n",
            "dense_8 (Dense)              (None, 1)                 5         \n",
            "=================================================================\n",
            "Total params: 89\n",
            "Trainable params: 89\n",
            "Non-trainable params: 0\n",
            "_________________________________________________________________\n"
          ],
          "name": "stdout"
        }
      ]
    },
    {
      "cell_type": "code",
      "metadata": {
        "id": "nZbReBeS47Ig",
        "colab_type": "code",
        "colab": {}
      },
      "source": [
        "#complie the model\n",
        "model.compile(optimizer=\"adam\",\n",
        "              loss=\"binary_crossentropy\",\n",
        "              metrics = [\"acc\",\"binary_crossentropy\"]\n",
        "              )\n",
        "#metrics store the success rate\n",
        "#metrics can store lots data as a list\n",
        "#in case acc = success rate when trainning evey time"
      ],
      "execution_count": 76,
      "outputs": []
    },
    {
      "cell_type": "code",
      "metadata": {
        "id": "S_7xDGUK6UGo",
        "colab_type": "code",
        "colab": {
          "base_uri": "https://localhost:8080/",
          "height": 1000
        },
        "outputId": "decee56c-e513-4071-a3d2-ed4bb5a8c378"
      },
      "source": [
        "#trainning model\n",
        "history = model.fit(feature,lable,epochs=100)"
      ],
      "execution_count": 77,
      "outputs": [
        {
          "output_type": "stream",
          "text": [
            "Epoch 1/100\n",
            "21/21 [==============================] - 0s 1ms/step - loss: 8.6765 - acc: 0.3492 - binary_crossentropy: 8.6765\n",
            "Epoch 2/100\n",
            "21/21 [==============================] - 0s 1ms/step - loss: 7.3643 - acc: 0.3430 - binary_crossentropy: 7.3643\n",
            "Epoch 3/100\n",
            "21/21 [==============================] - 0s 1ms/step - loss: 6.2181 - acc: 0.3461 - binary_crossentropy: 6.2181\n",
            "Epoch 4/100\n",
            "21/21 [==============================] - 0s 1ms/step - loss: 5.2372 - acc: 0.3476 - binary_crossentropy: 5.2372\n",
            "Epoch 5/100\n",
            "21/21 [==============================] - 0s 1ms/step - loss: 4.3382 - acc: 0.3599 - binary_crossentropy: 4.3382\n",
            "Epoch 6/100\n",
            "21/21 [==============================] - 0s 1ms/step - loss: 3.4958 - acc: 0.3813 - binary_crossentropy: 3.4958\n",
            "Epoch 7/100\n",
            "21/21 [==============================] - 0s 1ms/step - loss: 2.4289 - acc: 0.4273 - binary_crossentropy: 2.4289\n",
            "Epoch 8/100\n",
            "21/21 [==============================] - 0s 1ms/step - loss: 1.3308 - acc: 0.5069 - binary_crossentropy: 1.3308\n",
            "Epoch 9/100\n",
            "21/21 [==============================] - 0s 1ms/step - loss: 0.9537 - acc: 0.5391 - binary_crossentropy: 0.9537\n",
            "Epoch 10/100\n",
            "21/21 [==============================] - 0s 1ms/step - loss: 0.8214 - acc: 0.5467 - binary_crossentropy: 0.8214\n",
            "Epoch 11/100\n",
            "21/21 [==============================] - 0s 1ms/step - loss: 0.7542 - acc: 0.5452 - binary_crossentropy: 0.7542\n",
            "Epoch 12/100\n",
            "21/21 [==============================] - 0s 1ms/step - loss: 0.7204 - acc: 0.5482 - binary_crossentropy: 0.7204\n",
            "Epoch 13/100\n",
            "21/21 [==============================] - 0s 1ms/step - loss: 0.6972 - acc: 0.5498 - binary_crossentropy: 0.6972\n",
            "Epoch 14/100\n",
            "21/21 [==============================] - 0s 1ms/step - loss: 0.6851 - acc: 0.5452 - binary_crossentropy: 0.6851\n",
            "Epoch 15/100\n",
            "21/21 [==============================] - 0s 1ms/step - loss: 0.6789 - acc: 0.5452 - binary_crossentropy: 0.6789\n",
            "Epoch 16/100\n",
            "21/21 [==============================] - 0s 1ms/step - loss: 0.6771 - acc: 0.6248 - binary_crossentropy: 0.6771\n",
            "Epoch 17/100\n",
            "21/21 [==============================] - 0s 2ms/step - loss: 0.6703 - acc: 0.7274 - binary_crossentropy: 0.6703\n",
            "Epoch 18/100\n",
            "21/21 [==============================] - 0s 2ms/step - loss: 0.6670 - acc: 0.7289 - binary_crossentropy: 0.6670\n",
            "Epoch 19/100\n",
            "21/21 [==============================] - 0s 1ms/step - loss: 0.6574 - acc: 0.7289 - binary_crossentropy: 0.6574\n",
            "Epoch 20/100\n",
            "21/21 [==============================] - 0s 1ms/step - loss: 0.6482 - acc: 0.7259 - binary_crossentropy: 0.6482\n",
            "Epoch 21/100\n",
            "21/21 [==============================] - 0s 1ms/step - loss: 0.6426 - acc: 0.7320 - binary_crossentropy: 0.6426\n",
            "Epoch 22/100\n",
            "21/21 [==============================] - 0s 1ms/step - loss: 0.6363 - acc: 0.7289 - binary_crossentropy: 0.6363\n",
            "Epoch 23/100\n",
            "21/21 [==============================] - 0s 1ms/step - loss: 0.6313 - acc: 0.7305 - binary_crossentropy: 0.6313\n",
            "Epoch 24/100\n",
            "21/21 [==============================] - 0s 1ms/step - loss: 0.6269 - acc: 0.7335 - binary_crossentropy: 0.6269\n",
            "Epoch 25/100\n",
            "21/21 [==============================] - 0s 1ms/step - loss: 0.6197 - acc: 0.7274 - binary_crossentropy: 0.6197\n",
            "Epoch 26/100\n",
            "21/21 [==============================] - 0s 1ms/step - loss: 0.6173 - acc: 0.7305 - binary_crossentropy: 0.6173\n",
            "Epoch 27/100\n",
            "21/21 [==============================] - 0s 1ms/step - loss: 0.6151 - acc: 0.7305 - binary_crossentropy: 0.6151\n",
            "Epoch 28/100\n",
            "21/21 [==============================] - 0s 1ms/step - loss: 0.6133 - acc: 0.7289 - binary_crossentropy: 0.6133\n",
            "Epoch 29/100\n",
            "21/21 [==============================] - 0s 1ms/step - loss: 0.6125 - acc: 0.7305 - binary_crossentropy: 0.6125\n",
            "Epoch 30/100\n",
            "21/21 [==============================] - 0s 1ms/step - loss: 0.6104 - acc: 0.7335 - binary_crossentropy: 0.6104\n",
            "Epoch 31/100\n",
            "21/21 [==============================] - 0s 1ms/step - loss: 0.6090 - acc: 0.7274 - binary_crossentropy: 0.6090\n",
            "Epoch 32/100\n",
            "21/21 [==============================] - 0s 1ms/step - loss: 0.6058 - acc: 0.7289 - binary_crossentropy: 0.6058\n",
            "Epoch 33/100\n",
            "21/21 [==============================] - 0s 1ms/step - loss: 0.6042 - acc: 0.7335 - binary_crossentropy: 0.6042\n",
            "Epoch 34/100\n",
            "21/21 [==============================] - 0s 1ms/step - loss: 0.6024 - acc: 0.7351 - binary_crossentropy: 0.6024\n",
            "Epoch 35/100\n",
            "21/21 [==============================] - 0s 1ms/step - loss: 0.6019 - acc: 0.7366 - binary_crossentropy: 0.6019\n",
            "Epoch 36/100\n",
            "21/21 [==============================] - 0s 1ms/step - loss: 0.5993 - acc: 0.7427 - binary_crossentropy: 0.5993\n",
            "Epoch 37/100\n",
            "21/21 [==============================] - 0s 1ms/step - loss: 0.5977 - acc: 0.7412 - binary_crossentropy: 0.5977\n",
            "Epoch 38/100\n",
            "21/21 [==============================] - 0s 1ms/step - loss: 0.5959 - acc: 0.7412 - binary_crossentropy: 0.5959\n",
            "Epoch 39/100\n",
            "21/21 [==============================] - 0s 1ms/step - loss: 0.5952 - acc: 0.7427 - binary_crossentropy: 0.5952\n",
            "Epoch 40/100\n",
            "21/21 [==============================] - 0s 1ms/step - loss: 0.5934 - acc: 0.7427 - binary_crossentropy: 0.5934\n",
            "Epoch 41/100\n",
            "21/21 [==============================] - 0s 1ms/step - loss: 0.5919 - acc: 0.7443 - binary_crossentropy: 0.5919\n",
            "Epoch 42/100\n",
            "21/21 [==============================] - 0s 1ms/step - loss: 0.5901 - acc: 0.7443 - binary_crossentropy: 0.5901\n",
            "Epoch 43/100\n",
            "21/21 [==============================] - 0s 1ms/step - loss: 0.5887 - acc: 0.7473 - binary_crossentropy: 0.5887\n",
            "Epoch 44/100\n",
            "21/21 [==============================] - 0s 1ms/step - loss: 0.5880 - acc: 0.7427 - binary_crossentropy: 0.5880\n",
            "Epoch 45/100\n",
            "21/21 [==============================] - 0s 1ms/step - loss: 0.5864 - acc: 0.7473 - binary_crossentropy: 0.5864\n",
            "Epoch 46/100\n",
            "21/21 [==============================] - 0s 1ms/step - loss: 0.5848 - acc: 0.7443 - binary_crossentropy: 0.5848\n",
            "Epoch 47/100\n",
            "21/21 [==============================] - 0s 2ms/step - loss: 0.5838 - acc: 0.7443 - binary_crossentropy: 0.5838\n",
            "Epoch 48/100\n",
            "21/21 [==============================] - 0s 1ms/step - loss: 0.5826 - acc: 0.7489 - binary_crossentropy: 0.5826\n",
            "Epoch 49/100\n",
            "21/21 [==============================] - 0s 1ms/step - loss: 0.5811 - acc: 0.7489 - binary_crossentropy: 0.5811\n",
            "Epoch 50/100\n",
            "21/21 [==============================] - 0s 1ms/step - loss: 0.5796 - acc: 0.7489 - binary_crossentropy: 0.5796\n",
            "Epoch 51/100\n",
            "21/21 [==============================] - 0s 1ms/step - loss: 0.5787 - acc: 0.7489 - binary_crossentropy: 0.5787\n",
            "Epoch 52/100\n",
            "21/21 [==============================] - 0s 1ms/step - loss: 0.5772 - acc: 0.7458 - binary_crossentropy: 0.5772\n",
            "Epoch 53/100\n",
            "21/21 [==============================] - 0s 1ms/step - loss: 0.5769 - acc: 0.7443 - binary_crossentropy: 0.5769\n",
            "Epoch 54/100\n",
            "21/21 [==============================] - 0s 1ms/step - loss: 0.5750 - acc: 0.7458 - binary_crossentropy: 0.5750\n",
            "Epoch 55/100\n",
            "21/21 [==============================] - 0s 1ms/step - loss: 0.5731 - acc: 0.7443 - binary_crossentropy: 0.5731\n",
            "Epoch 56/100\n",
            "21/21 [==============================] - 0s 1ms/step - loss: 0.5737 - acc: 0.7458 - binary_crossentropy: 0.5737\n",
            "Epoch 57/100\n",
            "21/21 [==============================] - 0s 1ms/step - loss: 0.5712 - acc: 0.7489 - binary_crossentropy: 0.5712\n",
            "Epoch 58/100\n",
            "21/21 [==============================] - 0s 1ms/step - loss: 0.5712 - acc: 0.7427 - binary_crossentropy: 0.5712\n",
            "Epoch 59/100\n",
            "21/21 [==============================] - 0s 1ms/step - loss: 0.5696 - acc: 0.7489 - binary_crossentropy: 0.5696\n",
            "Epoch 60/100\n",
            "21/21 [==============================] - 0s 1ms/step - loss: 0.5676 - acc: 0.7458 - binary_crossentropy: 0.5676\n",
            "Epoch 61/100\n",
            "21/21 [==============================] - 0s 1ms/step - loss: 0.5691 - acc: 0.7412 - binary_crossentropy: 0.5691\n",
            "Epoch 62/100\n",
            "21/21 [==============================] - 0s 1ms/step - loss: 0.5684 - acc: 0.7443 - binary_crossentropy: 0.5684\n",
            "Epoch 63/100\n",
            "21/21 [==============================] - 0s 1ms/step - loss: 0.5646 - acc: 0.7458 - binary_crossentropy: 0.5646\n",
            "Epoch 64/100\n",
            "21/21 [==============================] - 0s 1ms/step - loss: 0.5644 - acc: 0.7504 - binary_crossentropy: 0.5644\n",
            "Epoch 65/100\n",
            "21/21 [==============================] - 0s 1ms/step - loss: 0.5648 - acc: 0.7473 - binary_crossentropy: 0.5648\n",
            "Epoch 66/100\n",
            "21/21 [==============================] - 0s 1ms/step - loss: 0.5611 - acc: 0.7458 - binary_crossentropy: 0.5611\n",
            "Epoch 67/100\n",
            "21/21 [==============================] - 0s 1ms/step - loss: 0.5610 - acc: 0.7473 - binary_crossentropy: 0.5610\n",
            "Epoch 68/100\n",
            "21/21 [==============================] - 0s 1ms/step - loss: 0.5601 - acc: 0.7504 - binary_crossentropy: 0.5601\n",
            "Epoch 69/100\n",
            "21/21 [==============================] - 0s 1ms/step - loss: 0.5596 - acc: 0.7519 - binary_crossentropy: 0.5596\n",
            "Epoch 70/100\n",
            "21/21 [==============================] - 0s 1ms/step - loss: 0.5587 - acc: 0.7473 - binary_crossentropy: 0.5587\n",
            "Epoch 71/100\n",
            "21/21 [==============================] - 0s 1ms/step - loss: 0.5567 - acc: 0.7504 - binary_crossentropy: 0.5567\n",
            "Epoch 72/100\n",
            "21/21 [==============================] - 0s 1ms/step - loss: 0.5579 - acc: 0.7504 - binary_crossentropy: 0.5579\n",
            "Epoch 73/100\n",
            "21/21 [==============================] - 0s 1ms/step - loss: 0.5554 - acc: 0.7489 - binary_crossentropy: 0.5554\n",
            "Epoch 74/100\n",
            "21/21 [==============================] - 0s 1ms/step - loss: 0.5528 - acc: 0.7504 - binary_crossentropy: 0.5528\n",
            "Epoch 75/100\n",
            "21/21 [==============================] - 0s 1ms/step - loss: 0.5535 - acc: 0.7534 - binary_crossentropy: 0.5535\n",
            "Epoch 76/100\n",
            "21/21 [==============================] - 0s 1ms/step - loss: 0.5507 - acc: 0.7519 - binary_crossentropy: 0.5507\n",
            "Epoch 77/100\n",
            "21/21 [==============================] - 0s 2ms/step - loss: 0.5521 - acc: 0.7473 - binary_crossentropy: 0.5521\n",
            "Epoch 78/100\n",
            "21/21 [==============================] - 0s 2ms/step - loss: 0.5522 - acc: 0.7473 - binary_crossentropy: 0.5522\n",
            "Epoch 79/100\n",
            "21/21 [==============================] - 0s 2ms/step - loss: 0.5495 - acc: 0.7458 - binary_crossentropy: 0.5495\n",
            "Epoch 80/100\n",
            "21/21 [==============================] - 0s 1ms/step - loss: 0.5477 - acc: 0.7534 - binary_crossentropy: 0.5477\n",
            "Epoch 81/100\n",
            "21/21 [==============================] - 0s 1ms/step - loss: 0.5472 - acc: 0.7534 - binary_crossentropy: 0.5472\n",
            "Epoch 82/100\n",
            "21/21 [==============================] - 0s 1ms/step - loss: 0.5474 - acc: 0.7489 - binary_crossentropy: 0.5474\n",
            "Epoch 83/100\n",
            "21/21 [==============================] - 0s 1ms/step - loss: 0.5461 - acc: 0.7550 - binary_crossentropy: 0.5461\n",
            "Epoch 84/100\n",
            "21/21 [==============================] - 0s 1ms/step - loss: 0.5444 - acc: 0.7550 - binary_crossentropy: 0.5444\n",
            "Epoch 85/100\n",
            "21/21 [==============================] - 0s 1ms/step - loss: 0.5448 - acc: 0.7565 - binary_crossentropy: 0.5448\n",
            "Epoch 86/100\n",
            "21/21 [==============================] - 0s 1ms/step - loss: 0.5443 - acc: 0.7534 - binary_crossentropy: 0.5443\n",
            "Epoch 87/100\n",
            "21/21 [==============================] - 0s 1ms/step - loss: 0.5425 - acc: 0.7550 - binary_crossentropy: 0.5425\n",
            "Epoch 88/100\n",
            "21/21 [==============================] - 0s 2ms/step - loss: 0.5433 - acc: 0.7489 - binary_crossentropy: 0.5433\n",
            "Epoch 89/100\n",
            "21/21 [==============================] - 0s 1ms/step - loss: 0.5400 - acc: 0.7504 - binary_crossentropy: 0.5400\n",
            "Epoch 90/100\n",
            "21/21 [==============================] - 0s 1ms/step - loss: 0.5417 - acc: 0.7489 - binary_crossentropy: 0.5417\n",
            "Epoch 91/100\n",
            "21/21 [==============================] - 0s 1ms/step - loss: 0.5385 - acc: 0.7550 - binary_crossentropy: 0.5385\n",
            "Epoch 92/100\n",
            "21/21 [==============================] - 0s 1ms/step - loss: 0.5378 - acc: 0.7550 - binary_crossentropy: 0.5378\n",
            "Epoch 93/100\n",
            "21/21 [==============================] - 0s 1ms/step - loss: 0.5376 - acc: 0.7550 - binary_crossentropy: 0.5376\n",
            "Epoch 94/100\n",
            "21/21 [==============================] - 0s 1ms/step - loss: 0.5401 - acc: 0.7473 - binary_crossentropy: 0.5401\n",
            "Epoch 95/100\n",
            "21/21 [==============================] - 0s 1ms/step - loss: 0.5364 - acc: 0.7534 - binary_crossentropy: 0.5364\n",
            "Epoch 96/100\n",
            "21/21 [==============================] - 0s 1ms/step - loss: 0.5338 - acc: 0.7534 - binary_crossentropy: 0.5338\n",
            "Epoch 97/100\n",
            "21/21 [==============================] - 0s 1ms/step - loss: 0.5336 - acc: 0.7519 - binary_crossentropy: 0.5336\n",
            "Epoch 98/100\n",
            "21/21 [==============================] - 0s 1ms/step - loss: 0.5349 - acc: 0.7580 - binary_crossentropy: 0.5349\n",
            "Epoch 99/100\n",
            "21/21 [==============================] - 0s 1ms/step - loss: 0.5367 - acc: 0.7550 - binary_crossentropy: 0.5367\n",
            "Epoch 100/100\n",
            "21/21 [==============================] - 0s 1ms/step - loss: 0.5335 - acc: 0.7550 - binary_crossentropy: 0.5335\n"
          ],
          "name": "stdout"
        }
      ]
    },
    {
      "cell_type": "code",
      "metadata": {
        "id": "Z85jeYmi8BJo",
        "colab_type": "code",
        "colab": {
          "base_uri": "https://localhost:8080/",
          "height": 34
        },
        "outputId": "e188a5d8-1b83-408c-b568-0315ad60a178"
      },
      "source": [
        "history.history.keys()"
      ],
      "execution_count": 78,
      "outputs": [
        {
          "output_type": "execute_result",
          "data": {
            "text/plain": [
              "dict_keys(['loss', 'acc', 'binary_crossentropy'])"
            ]
          },
          "metadata": {
            "tags": []
          },
          "execution_count": 78
        }
      ]
    },
    {
      "cell_type": "code",
      "metadata": {
        "id": "9hqZ-op08paq",
        "colab_type": "code",
        "colab": {
          "base_uri": "https://localhost:8080/",
          "height": 284
        },
        "outputId": "1e6e563e-2043-46f1-e31e-9a6a1d2db07a"
      },
      "source": [
        "plt.plot(history.epoch,history.history.get(\"loss\"))\n",
        "#plot trainingtime and loss(binary)"
      ],
      "execution_count": 80,
      "outputs": [
        {
          "output_type": "execute_result",
          "data": {
            "text/plain": [
              "[<matplotlib.lines.Line2D at 0x7f6c4270eac8>]"
            ]
          },
          "metadata": {
            "tags": []
          },
          "execution_count": 80
        },
        {
          "output_type": "display_data",
          "data": {
            "image/png": "[encoded data removed]",
            "text/plain": [
              "<Figure size 432x288 with 1 Axes>"
            ]
          },
          "metadata": {
            "tags": [],
            "needs_background": "light"
          }
        }
      ]
    },
    {
      "cell_type": "code",
      "metadata": {
        "id": "j77O7sOj9m_o",
        "colab_type": "code",
        "colab": {
          "base_uri": "https://localhost:8080/",
          "height": 282
        },
        "outputId": "7b0d367d-91f2-4dd6-8216-54de5780d987"
      },
      "source": [
        "plt.plot(history.epoch,history.history.get(\"acc\"))\n",
        "#Success rate"
      ],
      "execution_count": 81,
      "outputs": [
        {
          "output_type": "execute_result",
          "data": {
            "text/plain": [
              "[<matplotlib.lines.Line2D at 0x7f6c36a4af60>]"
            ]
          },
          "metadata": {
            "tags": []
          },
          "execution_count": 81
        },
        {
          "output_type": "display_data",
          "data": {
            "image/png": "[encoded data removed]",
            "text/plain": [
              "<Figure size 432x288 with 1 Axes>"
            ]
          },
          "metadata": {
            "tags": [],
            "needs_background": "light"
          }
        }
      ]
    }
  ]
}