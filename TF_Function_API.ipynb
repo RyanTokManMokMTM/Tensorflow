{
  "nbformat": 4,
  "nbformat_minor": 0,
  "metadata": {
    "colab": {
      "name": "TF_Function_API.ipynb",
      "provenance": [],
      "authorship_tag": "ABX9TyMVH5OhkeuSaEvq9EpL5qOw",
      "include_colab_link": true
    },
    "kernelspec": {
      "name": "python3",
      "display_name": "Python 3"
    }
  },
  "cells": [
    {
      "cell_type": "markdown",
      "metadata": {
        "id": "view-in-github",
        "colab_type": "text"
      },
      "source": [
        "<a href=\"https://colab.research.google.com/github/RyanTokManMokMTM/Tensorflow/blob/master/TF_Function_API.ipynb\" target=\"_parent\"><img src=\"https://colab.research.google.com/assets/colab-badge.svg\" alt=\"Open In Colab\"/></a>"
      ]
    },
    {
      "cell_type": "code",
      "metadata": {
        "id": "ReMq-uLwQit3",
        "colab_type": "code",
        "colab": {}
      },
      "source": [
        "import tensorflow as tf\n",
        "import numpy as np\n",
        "from matplotlib import pyplot as plt\n",
        "import pandas as pd"
      ],
      "execution_count": 3,
      "outputs": []
    },
    {
      "cell_type": "code",
      "metadata": {
        "id": "vJaq8cS5RJLa",
        "colab_type": "code",
        "colab": {
          "base_uri": "https://localhost:8080/",
          "height": 153
        },
        "outputId": "d1d7f0b6-99f3-4843-cf01-652fc77c8d0c"
      },
      "source": [
        "(train_feature, train_label),(test_feature, test_label)=tf.keras.datasets.fashion_mnist.load_data()"
      ],
      "execution_count": 4,
      "outputs": [
        {
          "output_type": "stream",
          "text": [
            "Downloading data from https://storage.googleapis.com/tensorflow/tf-keras-datasets/train-labels-idx1-ubyte.gz\n",
            "32768/29515 [=================================] - 0s 0us/step\n",
            "Downloading data from https://storage.googleapis.com/tensorflow/tf-keras-datasets/train-images-idx3-ubyte.gz\n",
            "26427392/26421880 [==============================] - 0s 0us/step\n",
            "Downloading data from https://storage.googleapis.com/tensorflow/tf-keras-datasets/t10k-labels-idx1-ubyte.gz\n",
            "8192/5148 [===============================================] - 0s 0us/step\n",
            "Downloading data from https://storage.googleapis.com/tensorflow/tf-keras-datasets/t10k-images-idx3-ubyte.gz\n",
            "4423680/4422102 [==============================] - 0s 0us/step\n"
          ],
          "name": "stdout"
        }
      ]
    },
    {
      "cell_type": "code",
      "metadata": {
        "id": "-VnVHSRFRavx",
        "colab_type": "code",
        "colab": {
          "base_uri": "https://localhost:8080/",
          "height": 34
        },
        "outputId": "564aa06d-3a53-4891-e63e-a2abb674d7b3"
      },
      "source": [
        "train_feature.shape"
      ],
      "execution_count": 6,
      "outputs": [
        {
          "output_type": "execute_result",
          "data": {
            "text/plain": [
              "(60000, 28, 28)"
            ]
          },
          "metadata": {
            "tags": []
          },
          "execution_count": 6
        }
      ]
    },
    {
      "cell_type": "code",
      "metadata": {
        "id": "5BoGdabuRgWC",
        "colab_type": "code",
        "colab": {}
      },
      "source": [
        "#tf.keras function API"
      ],
      "execution_count": null,
      "outputs": []
    },
    {
      "cell_type": "code",
      "metadata": {
        "id": "R1kMwF6QRgRY",
        "colab_type": "code",
        "colab": {}
      },
      "source": [
        "input = tf.keras.Input(shape=(28,28))"
      ],
      "execution_count": 22,
      "outputs": []
    },
    {
      "cell_type": "code",
      "metadata": {
        "id": "OD2ZGBhjSANk",
        "colab_type": "code",
        "colab": {}
      },
      "source": [
        "x = tf.keras.layers.Flatten()(input)"
      ],
      "execution_count": 23,
      "outputs": []
    },
    {
      "cell_type": "code",
      "metadata": {
        "id": "4Mkrj-u0SKrB",
        "colab_type": "code",
        "colab": {}
      },
      "source": [
        "x = tf.keras.layers.Dense(units=32,activation=\"relu\")(x)"
      ],
      "execution_count": 24,
      "outputs": []
    },
    {
      "cell_type": "code",
      "metadata": {
        "id": "z9fZzhWkSN3J",
        "colab_type": "code",
        "colab": {}
      },
      "source": [
        "x = tf.keras.layers.Dropout(0.5)(x)"
      ],
      "execution_count": 25,
      "outputs": []
    },
    {
      "cell_type": "code",
      "metadata": {
        "id": "5Pnx-gNESe94",
        "colab_type": "code",
        "colab": {}
      },
      "source": [
        "x = tf.keras.layers.Dense(units=32,activation=\"relu\")(x)"
      ],
      "execution_count": 26,
      "outputs": []
    },
    {
      "cell_type": "code",
      "metadata": {
        "id": "pcQ1yVmgSlVh",
        "colab_type": "code",
        "colab": {}
      },
      "source": [
        "output = tf.keras.layers.Dense(units=10,activation=\"softmax\")(x)"
      ],
      "execution_count": 27,
      "outputs": []
    },
    {
      "cell_type": "code",
      "metadata": {
        "id": "LIQT-AliSuo5",
        "colab_type": "code",
        "colab": {}
      },
      "source": [
        "model = tf.keras.Model(inputs=input,outputs=output)"
      ],
      "execution_count": 28,
      "outputs": []
    },
    {
      "cell_type": "code",
      "metadata": {
        "id": "41c64ydgS_qJ",
        "colab_type": "code",
        "colab": {
          "base_uri": "https://localhost:8080/",
          "height": 357
        },
        "outputId": "f55c0d22-3253-4744-bf64-4a24c5772a17"
      },
      "source": [
        "model.summary()"
      ],
      "execution_count": 29,
      "outputs": [
        {
          "output_type": "stream",
          "text": [
            "Model: \"functional_3\"\n",
            "_________________________________________________________________\n",
            "Layer (type)                 Output Shape              Param #   \n",
            "=================================================================\n",
            "input_2 (InputLayer)         [(None, 28, 28)]          0         \n",
            "_________________________________________________________________\n",
            "flatten_3 (Flatten)          (None, 784)               0         \n",
            "_________________________________________________________________\n",
            "dense_6 (Dense)              (None, 32)                25120     \n",
            "_________________________________________________________________\n",
            "dropout_2 (Dropout)          (None, 32)                0         \n",
            "_________________________________________________________________\n",
            "dense_7 (Dense)              (None, 32)                1056      \n",
            "_________________________________________________________________\n",
            "dense_8 (Dense)              (None, 10)                330       \n",
            "=================================================================\n",
            "Total params: 26,506\n",
            "Trainable params: 26,506\n",
            "Non-trainable params: 0\n",
            "_________________________________________________________________\n"
          ],
          "name": "stdout"
        }
      ]
    },
    {
      "cell_type": "markdown",
      "metadata": {
        "id": "4V5zcjEBVWLP",
        "colab_type": "text"
      },
      "source": [
        "function API can only have 2 or more input as a list"
      ]
    },
    {
      "cell_type": "code",
      "metadata": {
        "id": "qKr-UcfnVePN",
        "colab_type": "code",
        "colab": {}
      },
      "source": [
        "Input1 = tf.keras.Input(shape=(28,28))\n",
        "Input2 = tf.keras.Input(shape=(28,28))"
      ],
      "execution_count": 45,
      "outputs": []
    },
    {
      "cell_type": "code",
      "metadata": {
        "id": "dE2UNQoqWAlx",
        "colab_type": "code",
        "colab": {}
      },
      "source": [
        "x1 =tf.keras.layers.Flatten()(Input1)\n",
        "x2 = tf.keras.layers.Flatten()(Input2)\n",
        "x = tf.keras.layers.concatenate([x1,x2])"
      ],
      "execution_count": 46,
      "outputs": []
    },
    {
      "cell_type": "code",
      "metadata": {
        "id": "DzfajAhUWgqf",
        "colab_type": "code",
        "colab": {}
      },
      "source": [
        "x = tf.keras.layers.Dense(units=32,activation=\"relu\")(x)\n",
        "x = tf.keras.layers.Dropout(0.5)(x)\n",
        "x = tf.keras.layers.Dense(units=32,activation=\"relu\")(x)\n",
        "Out = tf.keras.layers.Dense(units=10,activation=\"sigmoid\")(x) #2 image is close? true or false"
      ],
      "execution_count": 48,
      "outputs": []
    },
    {
      "cell_type": "code",
      "metadata": {
        "id": "oDzhcvUNWgl4",
        "colab_type": "code",
        "colab": {}
      },
      "source": [
        "modelA = tf.keras.Model(inputs=[Input1,Input2],outputs=Out)"
      ],
      "execution_count": 49,
      "outputs": []
    },
    {
      "cell_type": "code",
      "metadata": {
        "id": "S7pyeQWyXmko",
        "colab_type": "code",
        "colab": {
          "base_uri": "https://localhost:8080/",
          "height": 578
        },
        "outputId": "d107c033-ca15-47a7-c04e-ca24d041c4e1"
      },
      "source": [
        "modelA.summary()\n",
        "#2 input image to 1 input"
      ],
      "execution_count": 50,
      "outputs": [
        {
          "output_type": "stream",
          "text": [
            "Model: \"functional_9\"\n",
            "__________________________________________________________________________________________________\n",
            "Layer (type)                    Output Shape         Param #     Connected to                     \n",
            "==================================================================================================\n",
            "input_9 (InputLayer)            [(None, 28, 28)]     0                                            \n",
            "__________________________________________________________________________________________________\n",
            "input_10 (InputLayer)           [(None, 28, 28)]     0                                            \n",
            "__________________________________________________________________________________________________\n",
            "flatten_12 (Flatten)            (None, 784)          0           input_9[0][0]                    \n",
            "__________________________________________________________________________________________________\n",
            "flatten_13 (Flatten)            (None, 784)          0           input_10[0][0]                   \n",
            "__________________________________________________________________________________________________\n",
            "concatenate_3 (Concatenate)     (None, 1568)         0           flatten_12[0][0]                 \n",
            "                                                                 flatten_13[0][0]                 \n",
            "__________________________________________________________________________________________________\n",
            "dense_18 (Dense)                (None, 32)           50208       concatenate_3[0][0]              \n",
            "__________________________________________________________________________________________________\n",
            "dropout_6 (Dropout)             (None, 32)           0           dense_18[0][0]                   \n",
            "__________________________________________________________________________________________________\n",
            "dense_19 (Dense)                (None, 32)           1056        dropout_6[0][0]                  \n",
            "__________________________________________________________________________________________________\n",
            "dense_21 (Dense)                (None, 32)           1056        dense_19[0][0]                   \n",
            "__________________________________________________________________________________________________\n",
            "dropout_7 (Dropout)             (None, 32)           0           dense_21[0][0]                   \n",
            "__________________________________________________________________________________________________\n",
            "dense_22 (Dense)                (None, 32)           1056        dropout_7[0][0]                  \n",
            "__________________________________________________________________________________________________\n",
            "dense_23 (Dense)                (None, 10)           330         dense_22[0][0]                   \n",
            "==================================================================================================\n",
            "Total params: 53,706\n",
            "Trainable params: 53,706\n",
            "Non-trainable params: 0\n",
            "__________________________________________________________________________________________________\n"
          ],
          "name": "stdout"
        }
      ]
    },
    {
      "cell_type": "markdown",
      "metadata": {
        "id": "unjGcprkVTSl",
        "colab_type": "text"
      },
      "source": [
        "Sequential()"
      ]
    },
    {
      "cell_type": "code",
      "metadata": {
        "id": "fYU_KinTTfwI",
        "colab_type": "code",
        "colab": {}
      },
      "source": [
        "model2 = tf.keras.Sequential()"
      ],
      "execution_count": 18,
      "outputs": []
    },
    {
      "cell_type": "code",
      "metadata": {
        "id": "RhP6d_frTybY",
        "colab_type": "code",
        "colab": {}
      },
      "source": [
        "model2.add(tf.keras.layers.Flatten(input_shape = (28,28)))\n",
        "model2.add(tf.keras.layers.Dense(units=32,activation=\"relu\"))\n",
        "model2.add(tf.keras.layers.Dropout(0.5))\n",
        "model2.add(tf.keras.layers.Dense(units=32,activation=\"relu\"))\n",
        "model2.add(tf.keras.layers.Dense(units=10,activation=\"softmax\"))"
      ],
      "execution_count": 20,
      "outputs": []
    },
    {
      "cell_type": "code",
      "metadata": {
        "id": "mR87AOd8T9qQ",
        "colab_type": "code",
        "colab": {
          "base_uri": "https://localhost:8080/",
          "height": 323
        },
        "outputId": "cb40a916-2c19-43ee-81c5-e6d6aee976d2"
      },
      "source": [
        "model2.summary()"
      ],
      "execution_count": 21,
      "outputs": [
        {
          "output_type": "stream",
          "text": [
            "Model: \"sequential_2\"\n",
            "_________________________________________________________________\n",
            "Layer (type)                 Output Shape              Param #   \n",
            "=================================================================\n",
            "flatten_2 (Flatten)          (None, 784)               0         \n",
            "_________________________________________________________________\n",
            "dense_3 (Dense)              (None, 32)                25120     \n",
            "_________________________________________________________________\n",
            "dropout_1 (Dropout)          (None, 32)                0         \n",
            "_________________________________________________________________\n",
            "dense_4 (Dense)              (None, 32)                1056      \n",
            "_________________________________________________________________\n",
            "dense_5 (Dense)              (None, 10)                330       \n",
            "=================================================================\n",
            "Total params: 26,506\n",
            "Trainable params: 26,506\n",
            "Non-trainable params: 0\n",
            "_________________________________________________________________\n"
          ],
          "name": "stdout"
        }
      ]
    }
  ]
}